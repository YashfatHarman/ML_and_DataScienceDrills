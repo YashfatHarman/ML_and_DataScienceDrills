{
 "cells": [
  {
   "cell_type": "code",
   "execution_count": 1,
   "metadata": {},
   "outputs": [
    {
     "name": "stdout",
     "output_type": "stream",
     "text": [
      "All imported successfully!\n"
     ]
    }
   ],
   "source": [
    "import numpy as np\n",
    "import pandas as pd\n",
    "import matplotlib.pyplot as plt\n",
    "import seaborn as sns\n",
    "from collections import Counter\n",
    "import itertools\n",
    "#import keras\n",
    "\n",
    "import time\n",
    "import pickle\n",
    "\n",
    "%matplotlib inline\n",
    "\n",
    "print(\"All imported successfully!\")"
   ]
  },
  {
   "cell_type": "code",
   "execution_count": 4,
   "metadata": {},
   "outputs": [
    {
     "name": "stdout",
     "output_type": "stream",
     "text": [
      "(7291, 257)\n"
     ]
    }
   ],
   "source": [
    "#Read data\n",
    "\n",
    "train_file = \"Data/zip_train.txt\"\n",
    "\n",
    "train_data = pd.read_csv(train_file, sep=' ', header = None)\n",
    "\n",
    "#drop last column\n",
    "train_data.drop([257], axis = 1, inplace = True)\n",
    "\n",
    "print(train_data.shape)"
   ]
  },
  {
   "cell_type": "code",
   "execution_count": 5,
   "metadata": {},
   "outputs": [
    {
     "name": "stdout",
     "output_type": "stream",
     "text": [
      "(2007, 257)\n"
     ]
    }
   ],
   "source": [
    "#read test file\n",
    "\n",
    "test_file = \"Data/zip_test.txt\"\n",
    "\n",
    "test_data = pd.read_csv(test_file, sep=' ', header = None)\n",
    "\n",
    "test_data.drop([1], axis = 1, inplace = True)\n",
    "\n",
    "print(test_data.shape)"
   ]
  },
  {
   "cell_type": "code",
   "execution_count": 8,
   "metadata": {},
   "outputs": [
    {
     "name": "stdout",
     "output_type": "stream",
     "text": [
      "(7291, 256)\n",
      "(7291,)\n",
      "(2007, 256)\n",
      "(2007,)\n"
     ]
    }
   ],
   "source": [
    "#get x and y datasets\n",
    "\n",
    "x_train = (train_data.iloc[:, 1:].values).astype(\"float32\")\n",
    "y_train = (train_data.iloc[:, 0].values).astype(\"int32\")\n",
    "x_test = (test_data.iloc[:, 1:].values).astype(\"float32\")\n",
    "y_test = (test_data.iloc[:, 0].values).astype(\"int32\")\n",
    "\n",
    "#print(x_train.shape)\n",
    "#print(y_train.shape)\n",
    "#print(x_test.shape)\n",
    "#print(y_test.shape)"
   ]
  },
  {
   "cell_type": "code",
   "execution_count": 9,
   "metadata": {
    "collapsed": true
   },
   "outputs": [],
   "source": [
    "#for Dense, input reshaping is not needed. For CNN, reshape the model here.\n",
    "X_train = x_train\n",
    "X_test = x_test"
   ]
  },
  {
   "cell_type": "code",
   "execution_count": 10,
   "metadata": {},
   "outputs": [
    {
     "name": "stderr",
     "output_type": "stream",
     "text": [
      "Using TensorFlow backend.\n"
     ]
    },
    {
     "name": "stdout",
     "output_type": "stream",
     "text": [
      "all imported.\n"
     ]
    }
   ],
   "source": [
    "import keras\n",
    "from keras.models import Sequential\n",
    "from keras.layers import Dense, Dropout, Flatten, Conv2D, MaxPool2D, LocallyConnected2D\n",
    "from sklearn.model_selection import train_test_split\n",
    "\n",
    "print(\"all imported.\")\n"
   ]
  },
  {
   "cell_type": "code",
   "execution_count": 11,
   "metadata": {
    "collapsed": true
   },
   "outputs": [],
   "source": [
    "num_classes = 10\n",
    "\n",
    "#input_shape = X_train.shape[1]\n",
    "#print(\"input_shape:\", input_shape)\n",
    "\n",
    "batch_size = 64\n",
    "epochs = 20"
   ]
  },
  {
   "cell_type": "code",
   "execution_count": 12,
   "metadata": {},
   "outputs": [
    {
     "name": "stdout",
     "output_type": "stream",
     "text": [
      "(7291, 10)\n",
      "(2007, 10)\n"
     ]
    }
   ],
   "source": [
    "#convert class vectors to binary clas metrices with one-hot encoding\n",
    "y_train_cat = keras.utils.to_categorical(y_train, num_classes)\n",
    "y_test_cat = keras.utils.to_categorical(y_test, num_classes)\n",
    "#print(y_train_cat.shape)\n",
    "#print(y_test_cat.shape)"
   ]
  },
  {
   "cell_type": "code",
   "execution_count": 13,
   "metadata": {},
   "outputs": [
    {
     "name": "stdout",
     "output_type": "stream",
     "text": [
      "model1 created.\n",
      "_________________________________________________________________\n",
      "Layer (type)                 Output Shape              Param #   \n",
      "=================================================================\n",
      "dense_1 (Dense)              (None, 1000)              257000    \n",
      "_________________________________________________________________\n",
      "dense_2 (Dense)              (None, 1000)              1001000   \n",
      "_________________________________________________________________\n",
      "dense_3 (Dense)              (None, 1000)              1001000   \n",
      "_________________________________________________________________\n",
      "dense_4 (Dense)              (None, 10)                10010     \n",
      "=================================================================\n",
      "Total params: 2,269,010\n",
      "Trainable params: 2,269,010\n",
      "Non-trainable params: 0\n",
      "_________________________________________________________________\n"
     ]
    }
   ],
   "source": [
    "# first deep network. Need to have at least four layers, \n",
    "# relu must be used in at least one layer, sigmoid/tanh must be used in at least one.\n",
    "# This one needs to be fully connected.\n",
    "\n",
    "model1 = Sequential()\n",
    "\n",
    "#this offered 98% accuracy in training, 94% in validation, and 90% in testing.\n",
    "#model1.add(Dense(10, activation = \"tanh\", input_shape = (X_train.shape[1],)))\n",
    "#model1.add(Dense(10, activation = \"relu\"))\n",
    "#model1.add(Dense(10, activation = \"relu\"))\n",
    "\n",
    "#lets try and if increasing the number of neurons help or not.\n",
    "#model1.add(Dense(20, activation = \"tanh\", input_shape = (X_train.shape[1],)))\n",
    "#model1.add(Dense(20, activation = \"relu\"))\n",
    "#model1.add(Dense(20, activation = \"relu\"))\n",
    "#this offered 98.8% accuracy in training, 95.5% in validation, and 92% in testing.\n",
    "\n",
    "#so increase the neurons drastically and see what we get\n",
    "#model1.add(Dense(100, activation = \"tanh\", input_shape = (X_train.shape[1],)))\n",
    "#model1.add(Dense(100, activation = \"relu\"))\n",
    "#model1.add(Dense(100, activation = \"relu\"))\n",
    "#this offered 99% accuracy in training, 98% in validation, and 93% in testing.\n",
    "\n",
    "#lets try relu over tanh and see what happens.\n",
    "#model1.add(Dense(20, activation = \"relu\", input_shape = (X_train.shape[1],)))\n",
    "#model1.add(Dense(20, activation = \"relu\"))\n",
    "#model1.add(Dense(20, activation = \"relu\"))\n",
    "#this offered 98.6% accuracy in training, 94.9% in validation, and 92.5% in testing.\n",
    "#so looks like swapping tanh for relu doesn't help.\n",
    "\n",
    "#lets have five layers instead of four.\n",
    "#model1.add(Dense(20, activation = \"tanh\", input_shape = (X_train.shape[1],)))\n",
    "#model1.add(Dense(20, activation = \"relu\"))\n",
    "#model1.add(Dense(20, activation = \"relu\"))\n",
    "#model1.add(Dense(20, activation = \"relu\"))\n",
    "#this offered 99.1% accuracy in training, 96.2% in validation, and 91.3% in testing.\n",
    "#so is actually overfitting.\n",
    "\n",
    "#one last. Use a monstrous amount of neurons. 1000 in each layer. \n",
    "model1.add(Dense(1000, activation = \"tanh\", input_shape = (X_train.shape[1],)))\n",
    "model1.add(Dense(1000, activation = \"relu\"))\n",
    "model1.add(Dense(1000, activation = \"relu\"))\n",
    "#this offered 99% accuracy in training, 97.8% in validation, and 94% in testing.\n",
    "#So it is slowly improving, but at this rate it'll take millions of neurons to get close\n",
    "#to 98-99% in testing.\n",
    "\n",
    "#So I guess this is the ceiling here. Let's try another model.\n",
    "\n",
    "\n",
    "model1.add(Dense(num_classes, activation = \"softmax\"))\n",
    "\n",
    "model1.compile(loss = keras.losses.categorical_crossentropy, optimizer = keras.optimizers.RMSprop(), \n",
    "              metrics = [\"accuracy\"])\n",
    "\n",
    "print(\"model1 created.\")\n",
    "\n",
    "model1.summary()"
   ]
  },
  {
   "cell_type": "markdown",
   "metadata": {},
   "source": [
    "## trainings are done in Tesla. So comment the block here."
   ]
  },
  {
   "cell_type": "code",
   "execution_count": 14,
   "metadata": {
    "collapsed": true
   },
   "outputs": [],
   "source": [
    "#parameters: 256 * 10 + 10 = 2570, 10 * 10 + 10 = 110 etc.\n",
    "\n",
    "#now train it. Save the weights and history.\n",
    "\n",
    "#start_time = time.time()\n",
    "\n",
    "#h = model1.fit(X_train_train, y_train_train, batch_size = batch_size, epochs = epochs, validation_data = (X_train_val, y_train_val), verbose = 1)\n",
    "\n",
    "#model.save_weights(\"model1_weights.h5\")\n",
    "#pickle.dump(h.history, open(\"model1_history.pk\",\"wb\"))\n",
    "\n",
    "#end_time = time.time()\n",
    "\n",
    "#print(\"total training time: \", end_time - start_time)\n"
   ]
  },
  {
   "cell_type": "code",
   "execution_count": 15,
   "metadata": {},
   "outputs": [
    {
     "name": "stdout",
     "output_type": "stream",
     "text": [
      "final loss: 0.567195, final accuracy: 0.940708\n"
     ]
    }
   ],
   "source": [
    "#traing done. So load the weights and test.\n",
    "\n",
    "model1.load_weights(\"model1_weights.h5\")\n",
    "\n",
    "final_loss, final_acc = model1.evaluate(X_test, y_test_cat, verbose = 0)\n",
    "print(\"final loss: {0:.6f}, final accuracy: {1:.6f}\".format(final_loss, final_acc))\n"
   ]
  },
  {
   "cell_type": "code",
   "execution_count": 16,
   "metadata": {},
   "outputs": [
    {
     "name": "stdout",
     "output_type": "stream",
     "text": [
      "(2007, 10)\n",
      "(2007,)\n",
      "(2007,)\n"
     ]
    },
    {
     "data": {
      "image/png": "[encoded data removed]",
      "text/plain": [
       "<matplotlib.figure.Figure at 0x7fc157b10978>"
      ]
     },
     "metadata": {},
     "output_type": "display_data"
    }
   ],
   "source": [
    "# Look at confusion matrix \n",
    "#Note, this code is taken straight from the SKLEARN website, an nice way of viewing confusion matrix.\n",
    "from sklearn.metrics import confusion_matrix\n",
    "def plot_confusion_matrix(cm, classes,\n",
    "                          normalize=False,\n",
    "                          title='Confusion matrix',\n",
    "                          cmap=plt.cm.Blues):\n",
    "    \"\"\"\n",
    "    This function prints and plots the confusion matrix.\n",
    "    Normalization can be applied by setting `normalize=True`.\n",
    "    \"\"\"\n",
    "    plt.imshow(cm, interpolation='nearest', cmap=cmap)\n",
    "    plt.title(title)\n",
    "    plt.colorbar()\n",
    "    tick_marks = np.arange(len(classes))\n",
    "    plt.xticks(tick_marks, classes, rotation=45)\n",
    "    plt.yticks(tick_marks, classes)\n",
    "\n",
    "    if normalize:\n",
    "        cm = cm.astype('float') / cm.sum(axis=1)[:, np.newaxis]\n",
    "\n",
    "    thresh = cm.max() / 2.\n",
    "    for i, j in itertools.product(range(cm.shape[0]), range(cm.shape[1])):\n",
    "        plt.text(j, i, cm[i, j],\n",
    "                 horizontalalignment=\"center\",\n",
    "                 color=\"white\" if cm[i, j] > thresh else \"black\")\n",
    "\n",
    "    plt.tight_layout()\n",
    "    plt.ylabel('True label')\n",
    "    plt.xlabel('Predicted label')\n",
    "\n",
    "# Predict the values from the validation dataset\n",
    "Y_pred = model1.predict(X_test)\n",
    "print(Y_pred.shape)\n",
    "# Convert predictions classes to one hot vectors \n",
    "Y_pred_classes = np.argmax(Y_pred, axis = 1) \n",
    "print(Y_pred_classes.shape)\n",
    "# Convert validation observations to one hot vectors\n",
    "Y_true = np.argmax(y_test_cat, axis = 1) \n",
    "print(Y_true.shape)\n",
    "# compute the confusion matrix\n",
    "confusion_mtx = confusion_matrix(Y_true, Y_pred_classes) \n",
    "# plot the confusion matrix\n",
    "plot_confusion_matrix(confusion_mtx, classes = range(10))"
   ]
  },
  {
   "cell_type": "code",
   "execution_count": 17,
   "metadata": {},
   "outputs": [
    {
     "name": "stdout",
     "output_type": "stream",
     "text": [
      "dict_keys(['val_acc', 'acc', 'val_loss', 'loss'])\n"
     ]
    }
   ],
   "source": [
    "#load model history\n",
    "import pickle\n",
    "\n",
    "hist = pickle.load(open(\"model1_history.pk\",\"rb\"))\n",
    "print(hist.keys())"
   ]
  },
  {
   "cell_type": "code",
   "execution_count": 18,
   "metadata": {},
   "outputs": [
    {
     "data": {
      "image/png": "[encoded data removed]",
      "text/plain": [
       "<matplotlib.figure.Figure at 0x7fc157b108d0>"
      ]
     },
     "metadata": {},
     "output_type": "display_data"
    },
    {
     "data": {
      "image/png": "[encoded data removed]",
      "text/plain": [
       "<matplotlib.figure.Figure at 0x7fc1551e1080>"
      ]
     },
     "metadata": {},
     "output_type": "display_data"
    },
    {
     "name": "stdout",
     "output_type": "stream",
     "text": [
      "training accuracy: [0.85535741501002749, 0.94284407864654773, 0.95762841030330748, 0.96433470507544583, 0.97088858419357871, 0.97622313686231887, 0.97866178950673288, 0.97881420515165374, 0.98430117360158509, 0.98338667900528487, 0.98536808413351629, 0.98536808413351629, 0.98765432098765427, 0.98826398414875782, 0.98719707361682674, 0.99039780521262, 0.98933089468068891, 0.99192196311537872, 0.99039780535797506, 0.99039780521262]\n",
      "validation accuracy: [0.94109588943115652, 0.9547945207112456, 0.97945205381471812, 0.9753424647736223, 0.93424657452596382, 0.9493150686564511, 0.96164383479993643, 0.9712328768756292, 0.95616438274514182, 0.95753424559554012, 0.97260274005262815, 0.9753424647736223, 0.96575342367773187, 0.96712328783453327, 0.97671232778732087, 0.97945205495782095, 0.97808219194412227, 0.97260273874622505, 0.9753424647736223, 0.97808219194412227]\n"
     ]
    }
   ],
   "source": [
    "accuracy = hist[\"acc\"]\n",
    "val_accuracy = hist[\"val_acc\"]\n",
    "loss = hist[\"loss\"]\n",
    "val_loss = hist[\"val_loss\"]\n",
    "epochs = range(len(accuracy))\n",
    "plt.plot(epochs, accuracy, \"bo\", label = \"training accuracy\")\n",
    "plt.plot(epochs, val_accuracy, 'b', label='Validation accuracy')\n",
    "plt.ylim(0.9, 1)\n",
    "plt.title('Training and validation accuracy')\n",
    "plt.legend()\n",
    "plt.show()\n",
    "plt.figure()\n",
    "               \n",
    "plt.plot(epochs, loss, 'bo', label='Training loss')\n",
    "plt.plot(epochs, val_loss, 'b', label='Validation loss')\n",
    "plt.title('Training and validation loss')\n",
    "plt.legend()\n",
    "plt.show()\n",
    "\n",
    "print(\"training accuracy:\", accuracy)\n",
    "#print(\"average training accuracy:\", np.mean(accuracy))\n",
    "\n",
    "print(\"validation accuracy:\", val_accuracy)\n",
    "#print(\"average validation accuracy:\", np.mean(val_accuracy))\n"
   ]
  },
  {
   "cell_type": "code",
   "execution_count": 19,
   "metadata": {},
   "outputs": [
    {
     "name": "stdout",
     "output_type": "stream",
     "text": [
      "(2007,)\n",
      "[False False False False False False False False False False]\n",
      "(119,)\n",
      "(119, 10)\n",
      "(119,)\n",
      "(119, 256)\n"
     ]
    }
   ],
   "source": [
    "#lets manually examine some errors\n",
    "errors = (Y_pred_classes - Y_true != 0)\n",
    "print(errors.shape)\n",
    "print(errors[:10])\n",
    "Y_pred_classes_errors = Y_pred_classes[errors]\n",
    "Y_pred_errors = Y_pred[errors]\n",
    "Y_true_errors = Y_true[errors]\n",
    "X_val_errors = X_test[errors]\n",
    "print(Y_pred_classes_errors.shape)\n",
    "print(Y_pred_errors.shape)\n",
    "print(Y_true_errors.shape)\n",
    "print(X_val_errors.shape)"
   ]
  },
  {
   "cell_type": "code",
   "execution_count": 20,
   "metadata": {},
   "outputs": [
    {
     "data": {
      "image/png": "[encoded data removed]",
      "text/plain": [
       "<matplotlib.figure.Figure at 0x7fc162ce0278>"
      ]
     },
     "metadata": {},
     "output_type": "display_data"
    }
   ],
   "source": [
    "#show the errors\n",
    "%matplotlib inline\n",
    "\n",
    "def display_errors(errors_index,img_errors,pred_errors, obs_errors):\n",
    "    \"\"\" This function shows 6 images with their predicted and real labels\"\"\"\n",
    "    n = 0\n",
    "    nrows = 3\n",
    "    ncols = 3\n",
    "    fig, ax = plt.subplots(nrows,ncols,sharex=True,sharey=True)\n",
    "    for row in range(nrows):\n",
    "        for col in range(ncols):\n",
    "            error = errors_index[n]\n",
    "            ax[row,col].imshow((img_errors[error]).reshape((16,16)))\n",
    "            ax[row,col].set_title(\"Predicted label :{}\\nTrue label :{}\".format(pred_errors[error],obs_errors[error]))\n",
    "            n += 1\n",
    "            \n",
    "# Probabilities of the wrong predicted numbers\n",
    "Y_pred_errors_prob = np.max(Y_pred_errors,axis = 1)\n",
    "\n",
    "# Predicted probabilities of the true values in the error set\n",
    "true_prob_errors = np.diagonal(np.take(Y_pred_errors, Y_true_errors, axis=1))\n",
    "\n",
    "# Difference between the probability of the predicted label and the true label\n",
    "delta_pred_true_errors = Y_pred_errors_prob - true_prob_errors\n",
    "\n",
    "# Sorted list of the delta prob errors\n",
    "sorted_dela_errors = np.argsort(delta_pred_true_errors)\n",
    "\n",
    "# Top 6 errors \n",
    "most_important_errors = sorted_dela_errors[-25:]\n",
    "\n",
    "# Show the top 6 errors\n",
    "#display_errors(most_important_errors, X_val_errors, Y_pred_classes_errors, Y_true_errors)\n",
    "display_errors([x for x in range(10)], X_val_errors, Y_pred_classes_errors, Y_true_errors)"
   ]
  },
  {
   "cell_type": "code",
   "execution_count": 21,
   "metadata": {},
   "outputs": [
    {
     "name": "stdout",
     "output_type": "stream",
     "text": [
      "(2007,)\n",
      "[9 6 3 6 6 0 0 0 6 9 6 2 2 4 0 3 1 2 9 6]\n",
      "(2007,)\n",
      "[9 6 3 6 6 0 0 0 6 9 6 2 2 4 0 3 1 6 9 6]\n"
     ]
    },
    {
     "data": {
      "text/plain": [
       "<matplotlib.image.AxesImage at 0x7fc156a4d1d0>"
      ]
     },
     "execution_count": 21,
     "metadata": {},
     "output_type": "execute_result"
    },
    {
     "data": {
      "image/png": "[encoded data removed]",
      "text/plain": [
       "<matplotlib.figure.Figure at 0x7fc157b10160>"
      ]
     },
     "metadata": {},
     "output_type": "display_data"
    }
   ],
   "source": [
    "print(Y_pred_classes.shape)\n",
    "print(Y_pred_classes[:20])\n",
    "print(Y_true.shape)\n",
    "print(Y_true[:20])\n",
    "\n",
    "#12 mismatched. Manually check it. (predicted 3, true value 2)\n",
    "plt.imshow(X_test[17].reshape(16,16))\n"
   ]
  },
  {
   "cell_type": "code",
   "execution_count": null,
   "metadata": {
    "collapsed": true
   },
   "outputs": [],
   "source": []
  }
 ],
 "metadata": {
  "kernelspec": {
   "display_name": "Python 3",
   "language": "python",
   "name": "python3"
  },
  "language_info": {
   "codemirror_mode": {
    "name": "ipython",
    "version": 3
   },
   "file_extension": ".py",
   "mimetype": "text/x-python",
   "name": "python",
   "nbconvert_exporter": "python",
   "pygments_lexer": "ipython3",
   "version": "3.5.6"
  }
 },
 "nbformat": 4,
 "nbformat_minor": 2
}
