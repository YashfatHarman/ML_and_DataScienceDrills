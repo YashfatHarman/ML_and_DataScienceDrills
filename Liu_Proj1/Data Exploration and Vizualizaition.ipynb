{
 "cells": [
  {
   "cell_type": "code",
   "execution_count": 1,
   "metadata": {},
   "outputs": [
    {
     "name": "stdout",
     "output_type": "stream",
     "text": [
      "All imported successfully!\n"
     ]
    }
   ],
   "source": [
    "import numpy as np\n",
    "import pandas as pd\n",
    "import matplotlib.pyplot as plt\n",
    "import seaborn as sns\n",
    "from collections import Counter\n",
    "import itertools\n",
    "#import keras\n",
    "\n",
    "import time\n",
    "import pickle\n",
    "\n",
    "%matplotlib inline\n",
    "\n",
    "print(\"All imported successfully!\")"
   ]
  },
  {
   "cell_type": "code",
   "execution_count": 2,
   "metadata": {},
   "outputs": [
    {
     "name": "stdout",
     "output_type": "stream",
     "text": [
      "train shape: (7291, 258)\n",
      "<class 'pandas.core.frame.DataFrame'>\n",
      "   0    1    2    3      4      5      6      7      8      9   ...     248  \\\n",
      "0  6.0 -1.0 -1.0 -1.0 -1.000 -1.000 -1.000 -1.000 -0.631  0.862 ...   0.823   \n",
      "1  5.0 -1.0 -1.0 -1.0 -0.813 -0.671 -0.809 -0.887 -0.671 -0.853 ...  -0.671   \n",
      "2  4.0 -1.0 -1.0 -1.0 -1.000 -1.000 -1.000 -1.000 -1.000 -1.000 ...  -1.000   \n",
      "\n",
      "     249    250    251    252    253    254    255  256  257  \n",
      "0  1.000  0.482 -0.474 -0.991 -1.000 -1.000 -1.000 -1.0  NaN  \n",
      "1 -0.033  0.761  0.762  0.126 -0.095 -0.671 -0.828 -1.0  NaN  \n",
      "2 -1.000 -0.109  1.000 -0.179 -1.000 -1.000 -1.000 -1.0  NaN  \n",
      "\n",
      "[3 rows x 258 columns]\n"
     ]
    }
   ],
   "source": [
    "#Read data\n",
    "\n",
    "train_file = \"Data/zip_train.txt\"\n",
    "\n",
    "train_data = pd.read_csv(train_file, sep=' ', header = None)\n",
    "print(\"train shape:\", train_data.shape)\n",
    "print(type(train_data))\n",
    "print(train_data.head(3))"
   ]
  },
  {
   "cell_type": "code",
   "execution_count": 3,
   "metadata": {},
   "outputs": [
    {
     "name": "stdout",
     "output_type": "stream",
     "text": [
      "(array([257]),)\n"
     ]
    }
   ],
   "source": [
    "#for some reason there is an extra column at the end where all the values seemed like nonzero. \n",
    "# We can safely drop that one, but just checking if it indeed has all nonzeroes, or if there are \n",
    "# any other missing value in any other column.\n",
    "\n",
    "print(train_data.isnull().sum(axis = 0).nonzero())"
   ]
  },
  {
   "cell_type": "code",
   "execution_count": 4,
   "metadata": {},
   "outputs": [
    {
     "name": "stdout",
     "output_type": "stream",
     "text": [
      "train shape: (7291, 257)\n",
      "   0    1    2    3      4      5      6      7      8      9   ...     247  \\\n",
      "0  6.0 -1.0 -1.0 -1.0 -1.000 -1.000 -1.000 -1.000 -0.631  0.862 ...   0.304   \n",
      "1  5.0 -1.0 -1.0 -1.0 -0.813 -0.671 -0.809 -0.887 -0.671 -0.853 ...  -0.671   \n",
      "2  4.0 -1.0 -1.0 -1.0 -1.000 -1.000 -1.000 -1.000 -1.000 -1.000 ...  -1.000   \n",
      "\n",
      "     248    249    250    251    252    253    254    255  256  \n",
      "0  0.823  1.000  0.482 -0.474 -0.991 -1.000 -1.000 -1.000 -1.0  \n",
      "1 -0.671 -0.033  0.761  0.762  0.126 -0.095 -0.671 -0.828 -1.0  \n",
      "2 -1.000 -1.000 -0.109  1.000 -0.179 -1.000 -1.000 -1.000 -1.0  \n",
      "\n",
      "[3 rows x 257 columns]\n"
     ]
    }
   ],
   "source": [
    "#drop last column\n",
    "train_data.drop([257], axis = 1, inplace = True)\n",
    "print(\"train shape:\", train_data.shape)\n",
    "print(train_data.head(3))"
   ]
  },
  {
   "cell_type": "code",
   "execution_count": 5,
   "metadata": {
    "scrolled": true
   },
   "outputs": [
    {
     "name": "stdout",
     "output_type": "stream",
     "text": [
      "test shape: (2007, 258)\n",
      "<class 'pandas.core.frame.DataFrame'>\n",
      "   0    1    2    3    4      5    6      7      8      9   ...   248    249  \\\n",
      "0    9  NaN -1.0 -1.0 -1.0 -1.000 -1.0 -0.948 -0.561  0.148 ...  -1.0 -0.908   \n",
      "1    6  NaN -1.0 -1.0 -1.0 -1.000 -1.0 -1.000 -1.000 -1.000 ...  -1.0 -1.000   \n",
      "2    3  NaN -1.0 -1.0 -1.0 -0.593  0.7  1.000  1.000  1.000 ...   1.0  0.717   \n",
      "\n",
      "     250    251    252  253  254  255  256  257  \n",
      "0  0.430  0.622 -0.973 -1.0 -1.0 -1.0 -1.0 -1.0  \n",
      "1 -1.000 -1.000 -1.000 -1.0 -1.0 -1.0 -1.0 -1.0  \n",
      "2  0.333  0.162 -0.393 -1.0 -1.0 -1.0 -1.0 -1.0  \n",
      "\n",
      "[3 rows x 258 columns]\n"
     ]
    }
   ],
   "source": [
    "#read test file\n",
    "\n",
    "test_file = \"Data/zip_test.txt\"\n",
    "\n",
    "test_data = pd.read_csv(test_file, sep=' ', header = None)\n",
    "print(\"test shape:\", test_data.shape)\n",
    "print(type(test_data))\n",
    "print(test_data.head(3))\n"
   ]
  },
  {
   "cell_type": "code",
   "execution_count": 6,
   "metadata": {},
   "outputs": [
    {
     "name": "stdout",
     "output_type": "stream",
     "text": [
      "(array([1]),)\n"
     ]
    }
   ],
   "source": [
    "#check for null values\n",
    "print(test_data.isnull().sum(axis = 0).nonzero()) \n",
    "#test_data.isnull().sum(axis = 0)\n",
    "\n"
   ]
  },
  {
   "cell_type": "code",
   "execution_count": 7,
   "metadata": {},
   "outputs": [
    {
     "name": "stdout",
     "output_type": "stream",
     "text": [
      "test shape: (2007, 257)\n",
      "   0    2    3    4      5    6      7      8      9      10  ...   248  \\\n",
      "0    9 -1.0 -1.0 -1.0 -1.000 -1.0 -0.948 -0.561  0.148  0.384 ...  -1.0   \n",
      "1    6 -1.0 -1.0 -1.0 -1.000 -1.0 -1.000 -1.000 -1.000 -1.000 ...  -1.0   \n",
      "2    3 -1.0 -1.0 -1.0 -0.593  0.7  1.000  1.000  1.000  1.000 ...   1.0   \n",
      "\n",
      "     249    250    251    252  253  254  255  256  257  \n",
      "0 -0.908  0.430  0.622 -0.973 -1.0 -1.0 -1.0 -1.0 -1.0  \n",
      "1 -1.000 -1.000 -1.000 -1.000 -1.0 -1.0 -1.0 -1.0 -1.0  \n",
      "2  0.717  0.333  0.162 -0.393 -1.0 -1.0 -1.0 -1.0 -1.0  \n",
      "\n",
      "[3 rows x 257 columns]\n"
     ]
    }
   ],
   "source": [
    "#this time the column 1 is null, so drop it.\n",
    "test_data.drop([1], axis = 1, inplace = True)\n",
    "print(\"test shape:\", test_data.shape)\n",
    "print(test_data.head(3))\n"
   ]
  },
  {
   "cell_type": "code",
   "execution_count": 8,
   "metadata": {},
   "outputs": [
    {
     "name": "stdout",
     "output_type": "stream",
     "text": [
      "[(0.0, 1194), (1.0, 1005), (2.0, 731), (3.0, 658), (4.0, 652), (5.0, 556), (6.0, 664), (7.0, 645), (8.0, 542), (9.0, 644)]\n"
     ]
    }
   ],
   "source": [
    "#count frequency of each label\n",
    "\n",
    "z_train = Counter(train_data[0])\n",
    "print(sorted(z_train.items()))"
   ]
  },
  {
   "cell_type": "code",
   "execution_count": 9,
   "metadata": {},
   "outputs": [
    {
     "data": {
      "text/plain": [
       "<matplotlib.axes._subplots.AxesSubplot at 0x7fd2d8a6e320>"
      ]
     },
     "execution_count": 9,
     "metadata": {},
     "output_type": "execute_result"
    },
    {
     "data": {
      "image/png": "[encoded data removed]",
      "text/plain": [
       "<matplotlib.figure.Figure at 0x7fd308547c18>"
      ]
     },
     "metadata": {},
     "output_type": "display_data"
    }
   ],
   "source": [
    "sns.countplot(train_data[0])"
   ]
  },
  {
   "cell_type": "code",
   "execution_count": 10,
   "metadata": {},
   "outputs": [
    {
     "name": "stdout",
     "output_type": "stream",
     "text": [
      "[(0, 359), (1, 264), (2, 198), (3, 166), (4, 200), (5, 160), (6, 170), (7, 147), (8, 166), (9, 177)]\n"
     ]
    }
   ],
   "source": [
    "z_test = Counter(test_data[0])\n",
    "print(sorted(z_test.items()))"
   ]
  },
  {
   "cell_type": "code",
   "execution_count": 11,
   "metadata": {},
   "outputs": [
    {
     "data": {
      "text/plain": [
       "<matplotlib.axes._subplots.AxesSubplot at 0x7fd2d526a9e8>"
      ]
     },
     "execution_count": 11,
     "metadata": {},
     "output_type": "execute_result"
    },
    {
     "data": {
      "image/png": "[encoded data removed]",
      "text/plain": [
       "<matplotlib.figure.Figure at 0x7fd30df6e9b0>"
      ]
     },
     "metadata": {},
     "output_type": "display_data"
    }
   ],
   "source": [
    "sns.countplot(test_data[0])"
   ]
  },
  {
   "cell_type": "code",
   "execution_count": 12,
   "metadata": {},
   "outputs": [
    {
     "name": "stdout",
     "output_type": "stream",
     "text": [
      "(7291, 256)\n",
      "(7291,)\n",
      "(2007, 256)\n",
      "(2007,)\n"
     ]
    }
   ],
   "source": [
    "#get x and y datasets\n",
    "\n",
    "x_train = (train_data.iloc[:, 1:].values).astype(\"float32\")\n",
    "y_train = (train_data.iloc[:, 0].values).astype(\"int32\")\n",
    "x_test = (test_data.iloc[:, 1:].values).astype(\"float32\")\n",
    "y_test = (test_data.iloc[:, 0].values).astype(\"int32\")\n",
    "\n",
    "print(x_train.shape)\n",
    "print(y_train.shape)\n",
    "print(x_test.shape)\n",
    "print(y_test.shape)"
   ]
  },
  {
   "cell_type": "code",
   "execution_count": 13,
   "metadata": {},
   "outputs": [
    {
     "data": {
      "image/png": "[encoded data removed]",
      "text/plain": [
       "<matplotlib.figure.Figure at 0x7fd2d5159518>"
      ]
     },
     "metadata": {},
     "output_type": "display_data"
    }
   ],
   "source": [
    "%matplotlib inline\n",
    "#visualize some of the digits\n",
    "\n",
    "plt.figure(figsize = (12,10))\n",
    "x,y = 10,4\n",
    "for i in range(40):\n",
    "    plt.subplot(y,x,i+1)\n",
    "    plt.imshow(x_train[i].reshape((16,16)), interpolation = \"nearest\")\n",
    "plt.show()"
   ]
  },
  {
   "cell_type": "code",
   "execution_count": null,
   "metadata": {},
   "outputs": [],
   "source": []
  }
 ],
 "metadata": {
  "kernelspec": {
   "display_name": "Python 3",
   "language": "python",
   "name": "python3"
  },
  "language_info": {
   "codemirror_mode": {
    "name": "ipython",
    "version": 3
   },
   "file_extension": ".py",
   "mimetype": "text/x-python",
   "name": "python",
   "nbconvert_exporter": "python",
   "pygments_lexer": "ipython3",
   "version": "3.5.4"
  }
 },
 "nbformat": 4,
 "nbformat_minor": 2
}
