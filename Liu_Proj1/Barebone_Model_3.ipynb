{
 "cells": [
  {
   "cell_type": "markdown",
   "metadata": {},
   "source": [
    "## Locally conncted with no weights shared \n",
    "in the first three layers, where each input/neuron is connected to the neurons in a local neighbor in the next layer"
   ]
  },
  {
   "cell_type": "code",
   "execution_count": 1,
   "metadata": {},
   "outputs": [
    {
     "name": "stdout",
     "output_type": "stream",
     "text": [
      "All imported successfully!\n"
     ]
    }
   ],
   "source": [
    "import numpy as np\n",
    "import pandas as pd\n",
    "import matplotlib.pyplot as plt\n",
    "import seaborn as sns\n",
    "from collections import Counter\n",
    "import itertools\n",
    "#import keras\n",
    "\n",
    "import time\n",
    "import pickle\n",
    "\n",
    "%matplotlib inline\n",
    "\n",
    "print(\"All imported successfully!\")"
   ]
  },
  {
   "cell_type": "code",
   "execution_count": 2,
   "metadata": {},
   "outputs": [
    {
     "name": "stdout",
     "output_type": "stream",
     "text": [
      "(7291, 257)\n"
     ]
    }
   ],
   "source": [
    "#Read data\n",
    "\n",
    "train_file = \"Data/zip_train.txt\"\n",
    "\n",
    "train_data = pd.read_csv(train_file, sep=' ', header = None)\n",
    "\n",
    "#drop last column\n",
    "train_data.drop([257], axis = 1, inplace = True)\n",
    "\n",
    "print(train_data.shape)"
   ]
  },
  {
   "cell_type": "code",
   "execution_count": 3,
   "metadata": {},
   "outputs": [
    {
     "name": "stdout",
     "output_type": "stream",
     "text": [
      "(2007, 257)\n"
     ]
    }
   ],
   "source": [
    "#read test file\n",
    "\n",
    "test_file = \"Data/zip_test.txt\"\n",
    "\n",
    "test_data = pd.read_csv(test_file, sep=' ', header = None)\n",
    "\n",
    "test_data.drop([1], axis = 1, inplace = True)\n",
    "\n",
    "print(test_data.shape)"
   ]
  },
  {
   "cell_type": "code",
   "execution_count": 4,
   "metadata": {},
   "outputs": [
    {
     "name": "stdout",
     "output_type": "stream",
     "text": [
      "(7291, 256)\n",
      "(7291,)\n",
      "(2007, 256)\n",
      "(2007,)\n"
     ]
    }
   ],
   "source": [
    "#get x and y datasets\n",
    "\n",
    "x_train = (train_data.iloc[:, 1:].values).astype(\"float32\")\n",
    "y_train = (train_data.iloc[:, 0].values).astype(\"int32\")\n",
    "x_test = (test_data.iloc[:, 1:].values).astype(\"float32\")\n",
    "y_test = (test_data.iloc[:, 0].values).astype(\"int32\")\n",
    "\n",
    "print(x_train.shape)\n",
    "print(y_train.shape)\n",
    "print(x_test.shape)\n",
    "print(y_test.shape)"
   ]
  },
  {
   "cell_type": "code",
   "execution_count": 5,
   "metadata": {},
   "outputs": [
    {
     "name": "stdout",
     "output_type": "stream",
     "text": [
      "X_train shape: (7291, 16, 16, 1)\n",
      "X_test shape: (2007, 16, 16, 1)\n"
     ]
    }
   ],
   "source": [
    "#for Dense, input reshaping is not needed. For CNN, reshape the model here.\n",
    "X_train = x_train.reshape(x_train.shape[0], 16, 16, 1)\n",
    "X_test = x_test.reshape(x_test.shape[0], 16, 16, 1)\n",
    "print(\"X_train shape:\", X_train.shape)\n",
    "print(\"X_test shape:\", X_test.shape)"
   ]
  },
  {
   "cell_type": "code",
   "execution_count": 6,
   "metadata": {},
   "outputs": [
    {
     "name": "stderr",
     "output_type": "stream",
     "text": [
      "Using TensorFlow backend.\n"
     ]
    },
    {
     "name": "stdout",
     "output_type": "stream",
     "text": [
      "all imported.\n"
     ]
    }
   ],
   "source": [
    "import keras\n",
    "from keras.models import Sequential\n",
    "from keras.layers import Dense, Dropout, Flatten, Conv2D, MaxPool2D, LocallyConnected2D\n",
    "from sklearn.model_selection import train_test_split\n",
    "\n",
    "print(\"all imported.\")\n"
   ]
  },
  {
   "cell_type": "code",
   "execution_count": 7,
   "metadata": {},
   "outputs": [
    {
     "name": "stdout",
     "output_type": "stream",
     "text": [
      "input_shape: (16, 16, 1)\n"
     ]
    }
   ],
   "source": [
    "num_classes = 10\n",
    "\n",
    "input_shape = (16,16,1)\n",
    "print(\"input_shape:\", input_shape)\n",
    "\n",
    "batch_size = 64\n",
    "epochs = 20"
   ]
  },
  {
   "cell_type": "code",
   "execution_count": 8,
   "metadata": {},
   "outputs": [
    {
     "name": "stdout",
     "output_type": "stream",
     "text": [
      "(7291, 10)\n",
      "(2007, 10)\n"
     ]
    }
   ],
   "source": [
    "#convert class vectors to binary clas metrices with one-hot encoding\n",
    "y_train_cat = keras.utils.to_categorical(y_train, num_classes)\n",
    "y_test_cat = keras.utils.to_categorical(y_test, num_classes)\n",
    "print(y_train_cat.shape)\n",
    "print(y_test_cat.shape)"
   ]
  },
  {
   "cell_type": "code",
   "execution_count": 9,
   "metadata": {},
   "outputs": [
    {
     "name": "stdout",
     "output_type": "stream",
     "text": [
      "X_train_train shape: (6561, 16, 16, 1)\n",
      "y_train_train shape: (6561, 10)\n",
      "X_train_val shape: (730, 16, 16, 1)\n",
      "y_train_val shape: (730, 10)\n"
     ]
    }
   ],
   "source": [
    "X_train_train, X_train_val, y_train_train, y_train_val = train_test_split(X_train, y_train_cat, test_size = 0.1, random_state = 42)\n",
    "print(\"X_train_train shape:\", X_train_train.shape)\n",
    "print(\"y_train_train shape:\",y_train_train.shape)\n",
    "print(\"X_train_val shape:\",X_train_val.shape)\n",
    "print(\"y_train_val shape:\",y_train_val.shape)"
   ]
  },
  {
   "cell_type": "code",
   "execution_count": 12,
   "metadata": {},
   "outputs": [
    {
     "name": "stdout",
     "output_type": "stream",
     "text": [
      "model3 created.\n",
      "_________________________________________________________________\n",
      "Layer (type)                 Output Shape              Param #   \n",
      "=================================================================\n",
      "conv2d_7 (Conv2D)            (None, 1, 1, 1)           257       \n",
      "_________________________________________________________________\n",
      "flatten_3 (Flatten)          (None, 1)                 0         \n",
      "_________________________________________________________________\n",
      "dense_3 (Dense)              (None, 10)                20        \n",
      "=================================================================\n",
      "Total params: 277\n",
      "Trainable params: 277\n",
      "Non-trainable params: 0\n",
      "_________________________________________________________________\n"
     ]
    }
   ],
   "source": [
    "# Locally connected network with shared weights. So this is a CNN.\n",
    "# First let's just use Conv2D layers, then we'll add max pooling.\n",
    "\n",
    "# Need to have at least four layers, \n",
    "# relu must be used in at least one layer, sigmoid/tanh must be used in at least one.\n",
    "\n",
    "model3 = Sequential()\n",
    "\n",
    "#loss: 0.0020 - acc: 0.9992 - val_loss: 0.0527 - val_acc: 0.9877\n",
    "#model3.add(Conv2D(16, (3, 3), input_shape = input_shape, activation = \"tanh\", kernel_initializer = \"he_normal\"))\n",
    "#model3.add(Conv2D(16, (3, 3), activation = \"relu\", kernel_initializer = \"he_normal\"))\n",
    "#model3.add(Conv2D(16, (3, 3), activation = \"relu\", kernel_initializer = \"he_normal\"))\n",
    "\n",
    "#lets try with only 4 nodes.\n",
    "#loss: 0.0428 - acc: 0.9884 - val_loss: 0.0900 - val_acc: 0.9767\n",
    "#model3.add(Conv2D(4, (3, 3), input_shape = input_shape, activation = \"tanh\", kernel_initializer = \"he_normal\"))\n",
    "#model3.add(Conv2D(4, (3, 3), activation = \"relu\", kernel_initializer = \"he_normal\"))\n",
    "#model3.add(Conv2D(4, (3, 3), activation = \"relu\", kernel_initializer = \"he_normal\"))\n",
    "\n",
    "#how about only 2 layers?\n",
    "#yes, loss: 0.0139 - acc: 0.9980 - val_loss: 0.0649 - val_acc: 0.9836\n",
    "#what sorcery is it?\n",
    "#model3.add(Conv2D(4, (3, 3), input_shape = input_shape, activation = \"tanh\", kernel_initializer = \"he_normal\"))\n",
    "#model3.add(Conv2D(4, (3, 3), activation = \"relu\", kernel_initializer = \"he_normal\"))\n",
    "\n",
    "#go even more lighter. only 2 layers, with 2 nodes each.\n",
    "#loss: 0.0778 - acc: 0.9787 - val_loss: 0.1262 - val_acc: 0.9699\n",
    "#model3.add(Conv2D(2, (3, 3), input_shape = input_shape, activation = \"tanh\", kernel_initializer = \"he_normal\"))\n",
    "#model3.add(Conv2D(2, (3, 3), activation = \"relu\", kernel_initializer = \"he_normal\"))\n",
    "\n",
    "#how about only one layer?\n",
    "#loss: 0.1144 - acc: 0.9715 - val_loss: 0.1431 - val_acc: 0.9644. Insane!\n",
    "#model3.add(Conv2D(2, (3, 3), input_shape = input_shape, activation = \"tanh\", kernel_initializer = \"he_normal\"))\n",
    "\n",
    "#okay, lets make the filters bigger, like (5,5)\n",
    "#loss: 0.1190 - acc: 0.9717 - val_loss: 0.1451 - val_acc: 0.9630\n",
    "#model3.add(Conv2D(2, (5, 5), input_shape = input_shape, activation = \"tanh\", kernel_initializer = \"he_normal\"))\n",
    " \n",
    "#increase filter size even more.    \n",
    "#loss: 0.1681 - acc: 0.9531 - val_loss: 0.2033 - val_acc: 0.9411\n",
    "#model3.add(Conv2D(2, (9, 9), input_shape = input_shape, activation = \"tanh\", kernel_initializer = \"he_normal\"))\n",
    "\n",
    "#okay, filter size 16. So 1 filter per layer.\n",
    "#Finally, this didn't work.\n",
    "#loss: 1.7289 - acc: 0.3056 - val_loss: 1.7337 - val_acc: 0.3041\n",
    "#model3.add(Conv2D(1, (16, 16), input_shape = input_shape, activation = \"tanh\", kernel_initializer = \"he_normal\"))\n",
    "\n",
    "#try (11,11) filter\n",
    "#loss: 0.5680 - acc: 0.8302 - val_loss: 0.6186 - val_acc: 0.8315\n",
    "#model3.add(Conv2D(1, (11, 11), input_shape = input_shape, activation = \"tanh\", kernel_initializer = \"he_normal\"))\n",
    "    \n",
    "#will having 2 layers of filter help?\n",
    "#yes, a bit. loss: 0.2576 - acc: 0.9276 - val_loss: 0.2675 - val_acc: 0.9288\n",
    "#model3.add(Conv2D(2, (11, 11), input_shape = input_shape, activation = \"tanh\", kernel_initializer = \"he_normal\"))\n",
    " \n",
    "#Have 4 filter then    \n",
    "model3.add(Conv2D(4, (11, 11), input_shape = input_shape, activation = \"tanh\", kernel_initializer = \"he_normal\"))\n",
    "     \n",
    "model3.add(Flatten())\n",
    "model3.add(Dense(num_classes, activation = \"softmax\"))\n",
    "\n",
    "model3.compile(loss = keras.losses.categorical_crossentropy, optimizer = keras.optimizers.RMSprop(), \n",
    "              metrics = [\"accuracy\"])\n",
    "\n",
    "print(\"model3 created.\")\n",
    "\n",
    "model3.summary()"
   ]
  },
  {
   "cell_type": "markdown",
   "metadata": {},
   "source": [
    "## trainings are done in Tesla. So comment the block here."
   ]
  },
  {
   "cell_type": "code",
   "execution_count": 14,
   "metadata": {
    "collapsed": true
   },
   "outputs": [],
   "source": [
    "#now train it. Save the weights and history.\n",
    "\n",
    "#start_time = time.time()\n",
    "\n",
    "#h = model3.fit(X_train_train, y_train_train, batch_size = batch_size, epochs = epochs, validation_data = (X_train_val, y_train_val), verbose = 1)\n",
    "\n",
    "#model3.save_weights(\"model3_weights.h5\")\n",
    "#pickle.dump(h.history, open(\"model3_history.pk\",\"wb\"))\n",
    "\n",
    "#end_time = time.time()\n",
    "\n",
    "#print(\"total training time: \", end_time - start_time)\n"
   ]
  },
  {
   "cell_type": "code",
   "execution_count": 34,
   "metadata": {},
   "outputs": [
    {
     "name": "stdout",
     "output_type": "stream",
     "text": [
      "final loss: 0.523966, final accuracy: 0.952167\n"
     ]
    }
   ],
   "source": [
    "#traing done. So load the weights and test.\n",
    "\n",
    "model3.load_weights(\"model3_weights.h5\")\n",
    "\n",
    "final_loss, final_acc = model2.evaluate(X_test, y_test_cat, verbose = 0)\n",
    "print(\"final loss: {0:.6f}, final accuracy: {1:.6f}\".format(final_loss, final_acc))\n"
   ]
  },
  {
   "cell_type": "code",
   "execution_count": 35,
   "metadata": {},
   "outputs": [
    {
     "name": "stdout",
     "output_type": "stream",
     "text": [
      "(2007, 10)\n",
      "(2007,)\n",
      "(2007,)\n"
     ]
    },
    {
     "data": {
      "image/png": "[encoded data removed]",
      "text/plain": [
       "<matplotlib.figure.Figure at 0x7fd834538fd0>"
      ]
     },
     "metadata": {},
     "output_type": "display_data"
    }
   ],
   "source": [
    "# Look at confusion matrix \n",
    "#Note, this code is taken straight from the SKLEARN website, an nice way of viewing confusion matrix.\n",
    "from sklearn.metrics import confusion_matrix\n",
    "def plot_confusion_matrix(cm, classes,\n",
    "                          normalize=False,\n",
    "                          title='Confusion matrix',\n",
    "                          cmap=plt.cm.Blues):\n",
    "    \"\"\"\n",
    "    This function prints and plots the confusion matrix.\n",
    "    Normalization can be applied by setting `normalize=True`.\n",
    "    \"\"\"\n",
    "    plt.imshow(cm, interpolation='nearest', cmap=cmap)\n",
    "    plt.title(title)\n",
    "    plt.colorbar()\n",
    "    tick_marks = np.arange(len(classes))\n",
    "    plt.xticks(tick_marks, classes, rotation=45)\n",
    "    plt.yticks(tick_marks, classes)\n",
    "\n",
    "    if normalize:\n",
    "        cm = cm.astype('float') / cm.sum(axis=1)[:, np.newaxis]\n",
    "\n",
    "    thresh = cm.max() / 2.\n",
    "    for i, j in itertools.product(range(cm.shape[0]), range(cm.shape[1])):\n",
    "        plt.text(j, i, cm[i, j],\n",
    "                 horizontalalignment=\"center\",\n",
    "                 color=\"white\" if cm[i, j] > thresh else \"black\")\n",
    "\n",
    "    plt.tight_layout()\n",
    "    plt.ylabel('True label')\n",
    "    plt.xlabel('Predicted label')\n",
    "\n",
    "# Predict the values from the validation dataset\n",
    "Y_pred = model3.predict(X_test)\n",
    "print(Y_pred.shape)\n",
    "# Convert predictions classes to one hot vectors \n",
    "Y_pred_classes = np.argmax(Y_pred, axis = 1) \n",
    "print(Y_pred_classes.shape)\n",
    "# Convert validation observations to one hot vectors\n",
    "Y_true = np.argmax(y_test_cat, axis = 1) \n",
    "print(Y_true.shape)\n",
    "# compute the confusion matrix\n",
    "confusion_mtx = confusion_matrix(Y_true, Y_pred_classes) \n",
    "# plot the confusion matrix\n",
    "plot_confusion_matrix(confusion_mtx, classes = range(10))"
   ]
  },
  {
   "cell_type": "code",
   "execution_count": 36,
   "metadata": {},
   "outputs": [
    {
     "name": "stdout",
     "output_type": "stream",
     "text": [
      "dict_keys(['val_loss', 'loss', 'acc', 'val_acc'])\n"
     ]
    }
   ],
   "source": [
    "#load model history\n",
    "import pickle\n",
    "\n",
    "hist = pickle.load(open(\"model3_history.pk\",\"rb\"))\n",
    "print(hist.keys())"
   ]
  },
  {
   "cell_type": "code",
   "execution_count": 37,
   "metadata": {},
   "outputs": [
    {
     "data": {
      "image/png": "[encoded data removed]",
      "text/plain": [
       "<matplotlib.figure.Figure at 0x7fd834538e10>"
      ]
     },
     "metadata": {},
     "output_type": "display_data"
    },
    {
     "data": {
      "image/png": "[encoded data removed]",
      "text/plain": [
       "<matplotlib.figure.Figure at 0x7fd8342c9390>"
      ]
     },
     "metadata": {},
     "output_type": "display_data"
    },
    {
     "name": "stdout",
     "output_type": "stream",
     "text": [
      "training accuracy: [0.89483310485500289, 0.96677335771077511, 0.97637555250723973, 0.98338667885992992, 0.98704465782655082, 0.98841639993903363, 0.99298887364730981, 0.99222679469593045, 0.99314128943758573, 0.99481786327597532, 0.99237921048620636, 0.99375095259868917, 0.99451303155006854, 0.9963420210333791, 0.99497027892089618, 0.99420819996951681, 0.99466544734034446, 0.99603718945282727, 0.99573235787227554, 0.99664685261393082]\n",
      "validation accuracy: [0.95342465655444419, 0.97671232778732087, 0.9767123289304237, 0.9808219168284168, 0.97397260175992362, 0.98219177984211548, 0.97808219080101955, 0.98356164285581404, 0.98219177984211548, 0.9753424647736223, 0.97808219194412227, 0.97671232778732087, 0.98904109491060854, 0.98493150586951272, 0.98767123189690997, 0.98630136888321129, 0.98219177984211548, 0.98356164285581404, 0.98219177984211548, 0.98356164285581404]\n"
     ]
    }
   ],
   "source": [
    "accuracy = hist[\"acc\"]\n",
    "val_accuracy = hist[\"val_acc\"]\n",
    "loss = hist[\"loss\"]\n",
    "val_loss = hist[\"val_loss\"]\n",
    "epochs = range(len(accuracy))\n",
    "plt.plot(epochs, accuracy, \"bo\", label = \"training accuracy\")\n",
    "plt.plot(epochs, val_accuracy, 'b', label='Validation accuracy')\n",
    "plt.ylim(0.9, 1)\n",
    "plt.title('Training and validation accuracy')\n",
    "plt.legend()\n",
    "plt.show()\n",
    "plt.figure()\n",
    "               \n",
    "plt.plot(epochs, loss, 'bo', label='Training loss')\n",
    "plt.plot(epochs, val_loss, 'b', label='Validation loss')\n",
    "plt.title('Training and validation loss')\n",
    "plt.legend()\n",
    "plt.show()\n",
    "\n",
    "print(\"training accuracy:\", accuracy)\n",
    "#print(\"average training accuracy:\", np.mean(accuracy))\n",
    "\n",
    "print(\"validation accuracy:\", val_accuracy)\n",
    "#print(\"average validation accuracy:\", np.mean(val_accuracy))\n"
   ]
  },
  {
   "cell_type": "code",
   "execution_count": 38,
   "metadata": {},
   "outputs": [
    {
     "name": "stdout",
     "output_type": "stream",
     "text": [
      "(2007,)\n",
      "[False False False False False False False False False False]\n",
      "(96,)\n",
      "(96, 10)\n",
      "(96,)\n",
      "(96, 16, 16, 1)\n"
     ]
    }
   ],
   "source": [
    "#lets manually examine some errors\n",
    "errors = (Y_pred_classes - Y_true != 0)\n",
    "print(errors.shape)\n",
    "print(errors[:10])\n",
    "Y_pred_classes_errors = Y_pred_classes[errors]\n",
    "Y_pred_errors = Y_pred[errors]\n",
    "Y_true_errors = Y_true[errors]\n",
    "X_val_errors = X_test[errors]\n",
    "print(Y_pred_classes_errors.shape)\n",
    "print(Y_pred_errors.shape)\n",
    "print(Y_true_errors.shape)\n",
    "print(X_val_errors.shape)"
   ]
  },
  {
   "cell_type": "code",
   "execution_count": 30,
   "metadata": {},
   "outputs": [
    {
     "data": {
      "image/png": "[encoded data removed]",
      "text/plain": [
       "<matplotlib.figure.Figure at 0x7fd8401f7ac8>"
      ]
     },
     "metadata": {},
     "output_type": "display_data"
    }
   ],
   "source": [
    "#show the errors\n",
    "%matplotlib inline\n",
    "\n",
    "def display_errors(errors_index,img_errors,pred_errors, obs_errors):\n",
    "    \"\"\" This function shows 6 images with their predicted and real labels\"\"\"\n",
    "    n = 0\n",
    "    nrows = 3\n",
    "    ncols = 3\n",
    "    fig, ax = plt.subplots(nrows,ncols,sharex=True,sharey=True)\n",
    "    for row in range(nrows):\n",
    "        for col in range(ncols):\n",
    "            error = errors_index[n]\n",
    "            ax[row,col].imshow((img_errors[error]).reshape((16,16)))\n",
    "            ax[row,col].set_title(\"Predicted label :{}\\nTrue label :{}\".format(pred_errors[error],obs_errors[error]))\n",
    "            n += 1\n",
    "            \n",
    "# Probabilities of the wrong predicted numbers\n",
    "Y_pred_errors_prob = np.max(Y_pred_errors,axis = 1)\n",
    "\n",
    "# Predicted probabilities of the true values in the error set\n",
    "true_prob_errors = np.diagonal(np.take(Y_pred_errors, Y_true_errors, axis=1))\n",
    "\n",
    "# Difference between the probability of the predicted label and the true label\n",
    "delta_pred_true_errors = Y_pred_errors_prob - true_prob_errors\n",
    "\n",
    "# Sorted list of the delta prob errors\n",
    "sorted_dela_errors = np.argsort(delta_pred_true_errors)\n",
    "\n",
    "# Top 6 errors \n",
    "most_important_errors = sorted_dela_errors[-25:]\n",
    "\n",
    "# Show the top 6 errors\n",
    "#display_errors(most_important_errors, X_val_errors, Y_pred_classes_errors, Y_true_errors)\n",
    "display_errors([x for x in range(10)], X_val_errors, Y_pred_classes_errors, Y_true_errors)"
   ]
  },
  {
   "cell_type": "code",
   "execution_count": 39,
   "metadata": {},
   "outputs": [
    {
     "name": "stdout",
     "output_type": "stream",
     "text": [
      "(2007,)\n",
      "[9 6 3 6 6 0 0 0 6 9 6 2 3 4 0 3 1 4 9 6]\n",
      "(2007,)\n",
      "[9 6 3 6 6 0 0 0 6 9 6 2 2 4 0 3 1 6 9 6]\n",
      "279\n",
      "predicted: 3\n",
      "true: 2\n"
     ]
    },
    {
     "data": {
      "image/png": "[encoded data removed]",
      "text/plain": [
       "<matplotlib.figure.Figure at 0x7fd834538588>"
      ]
     },
     "metadata": {},
     "output_type": "display_data"
    }
   ],
   "source": [
    "print(Y_pred_classes.shape)\n",
    "print(Y_pred_classes[:20])\n",
    "print(Y_true.shape)\n",
    "print(Y_true[:20])\n",
    "\n",
    "#get the index of the a mismatched item\n",
    "which_mismatched_item = 15\n",
    "id = np.nonzero(Y_pred_classes != Y_true)[0][which_mismatched_item]\n",
    "print(id)\n",
    "\n",
    "plt.imshow(X_test[id].reshape(16,16))\n",
    "print(\"predicted:\", Y_pred_classes[id])\n",
    "print(\"true:\", Y_true[id])\n",
    "\n",
    "\n"
   ]
  },
  {
   "cell_type": "code",
   "execution_count": null,
   "metadata": {
    "collapsed": true
   },
   "outputs": [],
   "source": [
    "# Done with this. Mode to barebone_model_3 (CNN )"
   ]
  }
 ],
 "metadata": {
  "kernelspec": {
   "display_name": "Python 3",
   "language": "python",
   "name": "python3"
  },
  "language_info": {
   "codemirror_mode": {
    "name": "ipython",
    "version": 3
   },
   "file_extension": ".py",
   "mimetype": "text/x-python",
   "name": "python",
   "nbconvert_exporter": "python",
   "pygments_lexer": "ipython3",
   "version": "3.5.6"
  }
 },
 "nbformat": 4,
 "nbformat_minor": 2
}
