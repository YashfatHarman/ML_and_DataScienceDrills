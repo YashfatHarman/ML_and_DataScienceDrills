{
 "cells": [
  {
   "cell_type": "markdown",
   "metadata": {
    "_cell_guid": "c3e71160-1057-49d1-a210-efbcf57005e9",
    "_uuid": "838968925befec8e7ae0557312425a9dd6add610"
   },
   "source": [
    "# Update: \n",
    "The kernal has been updated for the new test and train datasets."
   ]
  },
  {
   "cell_type": "markdown",
   "metadata": {
    "_cell_guid": "496d8c4f-566a-4599-abd9-8dfbd477af8a",
    "_uuid": "b7676bf7ddfb463d335a507359c33c383704cd70"
   },
   "source": [
    "# Introduction:\n",
    "Being anonymous over the internet can sometimes make people say nasty things that they normally would not in real life.\n",
    "Let's filter out the hate from our platforms one comment at a time. \n",
    "\n",
    "## Objective:\n",
    "To create an EDA/ feature-engineering starter notebook for toxic comment classification.\n",
    "\n",
    "## Data Overview:\n",
    "The dataset here is from wiki corpus dataset which was rated by human raters for toxicity.\n",
    "The corpus contains 63M comments from discussions relating to user pages and articles dating from 2004-2015. \n",
    "\n",
    "Different platforms/sites can have different standards for their toxic screening process. Hence the comments are tagged in the following five categories\n",
    "* toxic\n",
    "* severe_toxic\n",
    "* obscene\n",
    "* threat\n",
    "* insult\n",
    "* identity_hate\n",
    "\n",
    "The tagging was done via **crowdsourcing** which means that the dataset was rated by different people and the tagging might not be 100% accurate too. The same concern is being discussed [here](https://www.kaggle.com/c/jigsaw-toxic-comment-classification-challenge/discussion/46131).\n",
    "\n",
    "The [source paper](https://arxiv.org/pdf/1610.08914.pdf) also contains more interesting details about the dataset creation.\n",
    "\n",
    "## Note:\n",
    "A [New test dataset](https://www.kaggle.com/c/jigsaw-toxic-comment-classification-challenge/discussion/46177) is being created by the organizers as the test set labels are present [here](https://figshare.com/articles/Wikipedia_Talk_Labels_Toxicity/4563973).\n",
    "\n",
    "The kernal has been updated for the new data."
   ]
  },
  {
   "cell_type": "code",
   "execution_count": 52,
   "metadata": {
    "_cell_guid": "b3f5968a-4194-4bc6-a0a3-c9e8252e4ce9",
    "_uuid": "5ee2347c13ad3f58f4dbb409206d73e13bf4bc66"
   },
   "outputs": [
    {
     "name": "stdout",
     "output_type": "stream",
     "text": [
      "6136\t../Data/sample_submission.csv\r\n",
      "58944\t../Data/test.csv\r\n",
      "110324\t../Data/test_preprocessed.csv\r\n",
      "67192\t../Data/train.csv\r\n",
      "126832\t../Data/train_preprocessed.csv\r\n"
     ]
    }
   ],
   "source": [
    "#Check the dataset sizes(in MB)\n",
    "!du -l ../Data/*"
   ]
  },
  {
   "cell_type": "code",
   "execution_count": 53,
   "metadata": {
    "_cell_guid": "8380fea7-4a2d-4143-99cf-9aa869aee6a2",
    "_uuid": "82d1ae7d4666ce7715f504165177ef053b95b719"
   },
   "outputs": [
    {
     "name": "stdout",
     "output_type": "stream",
     "text": [
      "Hello World!\n"
     ]
    }
   ],
   "source": [
    "#import required packages\n",
    "#basics\n",
    "import pandas as pd \n",
    "import numpy as np\n",
    "\n",
    "print(\"Hello World!\")\n",
    "\n",
    "#misc\n",
    "import gc\n",
    "import time\n",
    "import warnings\n",
    "\n",
    "#stats\n",
    "from scipy.misc import imread\n",
    "from scipy import sparse\n",
    "import scipy.stats as ss\n",
    "\n",
    "#viz\n",
    "import matplotlib.pyplot as plt\n",
    "import matplotlib.gridspec as gridspec \n",
    "import seaborn as sns\n",
    "from wordcloud import WordCloud ,STOPWORDS\n",
    "from PIL import Image\n",
    "import matplotlib_venn as venn\n",
    "\n",
    "#nlp\n",
    "import string\n",
    "import re    #for regex\n",
    "import nltk\n",
    "from nltk.corpus import stopwords\n",
    "import spacy\n",
    "from nltk import pos_tag\n",
    "from nltk.stem.wordnet import WordNetLemmatizer \n",
    "from nltk.tokenize import word_tokenize\n",
    "# Tweet tokenizer does not split at apostophes which is what we want\n",
    "from nltk.tokenize import TweetTokenizer   \n",
    "\n",
    "\n",
    "#FeatureEngineering\n",
    "from sklearn.feature_extraction.text import TfidfVectorizer, CountVectorizer, HashingVectorizer\n",
    "from sklearn.decomposition import TruncatedSVD\n",
    "from sklearn.base import BaseEstimator, ClassifierMixin\n",
    "from sklearn.utils.validation import check_X_y, check_is_fitted\n",
    "from sklearn.linear_model import LogisticRegression\n",
    "from sklearn import metrics\n",
    "from sklearn.metrics import log_loss\n",
    "from sklearn.model_selection import StratifiedKFold\n",
    "from sklearn.model_selection import train_test_split\n",
    "\n",
    "\n",
    "\n",
    "\n",
    "\n",
    "#settings\n",
    "start_time=time.time()\n",
    "color = sns.color_palette()\n",
    "sns.set_style(\"dark\")\n",
    "eng_stopwords = set(stopwords.words(\"english\"))\n",
    "warnings.filterwarnings(\"ignore\")\n",
    "\n",
    "lem = WordNetLemmatizer()\n",
    "tokenizer=TweetTokenizer()\n",
    "\n",
    "%matplotlib inline"
   ]
  },
  {
   "cell_type": "code",
   "execution_count": 54,
   "metadata": {
    "_cell_guid": "c0708360-0740-46a2-893e-6845df578676",
    "_kg_hide-input": true,
    "_uuid": "aaa44a44b460a782ffd10d176251e67004ee43db"
   },
   "outputs": [],
   "source": [
    "#importing the dataset\n",
    "train=pd.read_csv(\"../Data/train.csv\")\n",
    "test=pd.read_csv(\"../Data/test.csv\")"
   ]
  },
  {
   "cell_type": "code",
   "execution_count": 55,
   "metadata": {
    "_cell_guid": "b7c6deae-7803-436f-9ebf-beb77bc7b0f3",
    "_uuid": "94e6f34adeedfe847df77275781bbed95f6a055f"
   },
   "outputs": [
    {
     "data": {
      "text/html": [
       "<div>\n",
       "<table border=\"1\" class=\"dataframe\">\n",
       "  <thead>\n",
       "    <tr style=\"text-align: right;\">\n",
       "      <th></th>\n",
       "      <th>id</th>\n",
       "      <th>comment_text</th>\n",
       "      <th>toxic</th>\n",
       "      <th>severe_toxic</th>\n",
       "      <th>obscene</th>\n",
       "      <th>threat</th>\n",
       "      <th>insult</th>\n",
       "      <th>identity_hate</th>\n",
       "    </tr>\n",
       "  </thead>\n",
       "  <tbody>\n",
       "    <tr>\n",
       "      <th>159561</th>\n",
       "      <td>ffd2e85b07b3c7e4</td>\n",
       "      <td>\"\\nNo he did not, read it again (I would have ...</td>\n",
       "      <td>0</td>\n",
       "      <td>0</td>\n",
       "      <td>0</td>\n",
       "      <td>0</td>\n",
       "      <td>0</td>\n",
       "      <td>0</td>\n",
       "    </tr>\n",
       "    <tr>\n",
       "      <th>159562</th>\n",
       "      <td>ffd72e9766c09c97</td>\n",
       "      <td>\"\\n Auto guides and the motoring press are not...</td>\n",
       "      <td>0</td>\n",
       "      <td>0</td>\n",
       "      <td>0</td>\n",
       "      <td>0</td>\n",
       "      <td>0</td>\n",
       "      <td>0</td>\n",
       "    </tr>\n",
       "    <tr>\n",
       "      <th>159563</th>\n",
       "      <td>ffe029a7c79dc7fe</td>\n",
       "      <td>\"\\nplease identify what part of BLP applies be...</td>\n",
       "      <td>0</td>\n",
       "      <td>0</td>\n",
       "      <td>0</td>\n",
       "      <td>0</td>\n",
       "      <td>0</td>\n",
       "      <td>0</td>\n",
       "    </tr>\n",
       "    <tr>\n",
       "      <th>159564</th>\n",
       "      <td>ffe897e7f7182c90</td>\n",
       "      <td>Catalan independentism is the social movement ...</td>\n",
       "      <td>0</td>\n",
       "      <td>0</td>\n",
       "      <td>0</td>\n",
       "      <td>0</td>\n",
       "      <td>0</td>\n",
       "      <td>0</td>\n",
       "    </tr>\n",
       "    <tr>\n",
       "      <th>159565</th>\n",
       "      <td>ffe8b9316245be30</td>\n",
       "      <td>The numbers in parentheses are the additional ...</td>\n",
       "      <td>0</td>\n",
       "      <td>0</td>\n",
       "      <td>0</td>\n",
       "      <td>0</td>\n",
       "      <td>0</td>\n",
       "      <td>0</td>\n",
       "    </tr>\n",
       "    <tr>\n",
       "      <th>159566</th>\n",
       "      <td>ffe987279560d7ff</td>\n",
       "      <td>\":::::And for the second time of asking, when ...</td>\n",
       "      <td>0</td>\n",
       "      <td>0</td>\n",
       "      <td>0</td>\n",
       "      <td>0</td>\n",
       "      <td>0</td>\n",
       "      <td>0</td>\n",
       "    </tr>\n",
       "    <tr>\n",
       "      <th>159567</th>\n",
       "      <td>ffea4adeee384e90</td>\n",
       "      <td>You should be ashamed of yourself \\n\\nThat is ...</td>\n",
       "      <td>0</td>\n",
       "      <td>0</td>\n",
       "      <td>0</td>\n",
       "      <td>0</td>\n",
       "      <td>0</td>\n",
       "      <td>0</td>\n",
       "    </tr>\n",
       "    <tr>\n",
       "      <th>159568</th>\n",
       "      <td>ffee36eab5c267c9</td>\n",
       "      <td>Spitzer \\n\\nUmm, theres no actual article for ...</td>\n",
       "      <td>0</td>\n",
       "      <td>0</td>\n",
       "      <td>0</td>\n",
       "      <td>0</td>\n",
       "      <td>0</td>\n",
       "      <td>0</td>\n",
       "    </tr>\n",
       "    <tr>\n",
       "      <th>159569</th>\n",
       "      <td>fff125370e4aaaf3</td>\n",
       "      <td>And it looks like it was actually you who put ...</td>\n",
       "      <td>0</td>\n",
       "      <td>0</td>\n",
       "      <td>0</td>\n",
       "      <td>0</td>\n",
       "      <td>0</td>\n",
       "      <td>0</td>\n",
       "    </tr>\n",
       "    <tr>\n",
       "      <th>159570</th>\n",
       "      <td>fff46fc426af1f9a</td>\n",
       "      <td>\"\\nAnd ... I really don't think you understand...</td>\n",
       "      <td>0</td>\n",
       "      <td>0</td>\n",
       "      <td>0</td>\n",
       "      <td>0</td>\n",
       "      <td>0</td>\n",
       "      <td>0</td>\n",
       "    </tr>\n",
       "  </tbody>\n",
       "</table>\n",
       "</div>"
      ],
      "text/plain": [
       "                      id                                       comment_text  \\\n",
       "159561  ffd2e85b07b3c7e4  \"\\nNo he did not, read it again (I would have ...   \n",
       "159562  ffd72e9766c09c97  \"\\n Auto guides and the motoring press are not...   \n",
       "159563  ffe029a7c79dc7fe  \"\\nplease identify what part of BLP applies be...   \n",
       "159564  ffe897e7f7182c90  Catalan independentism is the social movement ...   \n",
       "159565  ffe8b9316245be30  The numbers in parentheses are the additional ...   \n",
       "159566  ffe987279560d7ff  \":::::And for the second time of asking, when ...   \n",
       "159567  ffea4adeee384e90  You should be ashamed of yourself \\n\\nThat is ...   \n",
       "159568  ffee36eab5c267c9  Spitzer \\n\\nUmm, theres no actual article for ...   \n",
       "159569  fff125370e4aaaf3  And it looks like it was actually you who put ...   \n",
       "159570  fff46fc426af1f9a  \"\\nAnd ... I really don't think you understand...   \n",
       "\n",
       "        toxic  severe_toxic  obscene  threat  insult  identity_hate  \n",
       "159561      0             0        0       0       0              0  \n",
       "159562      0             0        0       0       0              0  \n",
       "159563      0             0        0       0       0              0  \n",
       "159564      0             0        0       0       0              0  \n",
       "159565      0             0        0       0       0              0  \n",
       "159566      0             0        0       0       0              0  \n",
       "159567      0             0        0       0       0              0  \n",
       "159568      0             0        0       0       0              0  \n",
       "159569      0             0        0       0       0              0  \n",
       "159570      0             0        0       0       0              0  "
      ]
     },
     "execution_count": 55,
     "metadata": {},
     "output_type": "execute_result"
    }
   ],
   "source": [
    "#take a peak\n",
    "train.tail(10)"
   ]
  },
  {
   "cell_type": "code",
   "execution_count": 56,
   "metadata": {
    "_cell_guid": "bc0cb30d-76dd-4676-930c-81f6f33dca63",
    "_kg_hide-input": true,
    "_uuid": "e2f0dfd228aa2131ab7c75664fef3c420327060e"
   },
   "outputs": [
    {
     "name": "stdout",
     "output_type": "stream",
     "text": [
      "       : train : test\n",
      "rows   : 159571 : 153164\n",
      "perc   : 51    : 49\n"
     ]
    }
   ],
   "source": [
    "nrow_train=train.shape[0]\n",
    "nrow_test=test.shape[0]\n",
    "sum=nrow_train+nrow_test\n",
    "print(\"       : train : test\")\n",
    "print(\"rows   :\",nrow_train,\":\",nrow_test)\n",
    "print(\"perc   :\",round(nrow_train*100/sum),\"   :\",round(nrow_test*100/sum))"
   ]
  },
  {
   "cell_type": "markdown",
   "metadata": {
    "_cell_guid": "87c19794-eec8-4101-8817-47434c41f3c8",
    "_uuid": "2886eb3f30f72868be2f16c6c648c6ae8ec59c3d"
   },
   "source": [
    "There is a 30:70 (update: 51:49) train: test split and the test set might change in the future too.\n",
    "\n",
    "Let's take a look at the class imbalance in the train set.\n",
    "\n",
    "### Class Imbalance:"
   ]
  },
  {
   "cell_type": "code",
   "execution_count": 57,
   "metadata": {
    "_cell_guid": "1649bd00-1734-4706-ba52-21248a53aa12",
    "_kg_hide-input": true,
    "_uuid": "43801836d1809c99ff251999f98bdc146c5344f2"
   },
   "outputs": [
    {
     "name": "stdout",
     "output_type": "stream",
     "text": [
      "Total comments =  159571\n",
      "Total clean comments =  143346\n",
      "Total tags = 35098\n",
      "                 id                                       comment_text  toxic  \\\n",
      "0  0000997932d777bf  Explanation\\nWhy the edits made under my usern...      0   \n",
      "1  000103f0d9cfb60f  D'aww! He matches this background colour I'm s...      0   \n",
      "2  000113f07ec002fd  Hey man, I'm really not trying to edit war. It...      0   \n",
      "3  0001b41b1c6bb37e  \"\\nMore\\nI can't make any real suggestions on ...      0   \n",
      "4  0001d958c54c6e35  You, sir, are my hero. Any chance you remember...      0   \n",
      "\n",
      "   severe_toxic  obscene  threat  insult  identity_hate clean  \n",
      "0             0        0       0       0              0  True  \n",
      "1             0        0       0       0              0  True  \n",
      "2             0        0       0       0              0  True  \n",
      "3             0        0       0       0              0  True  \n",
      "4             0        0       0       0              0  True  \n"
     ]
    }
   ],
   "source": [
    "x=train.iloc[:,2:].sum()\n",
    "#print(x.shape)\n",
    "#print(x)\n",
    "\n",
    "#marking comments without any tags as \"clean\"\n",
    "rowsums=train.iloc[:,2:].sum(axis=1)\n",
    "train['clean']=(rowsums==0)\n",
    "#count number of clean entries\n",
    "train['clean'].sum()\n",
    "print(\"Total comments = \",len(train))\n",
    "print(\"Total clean comments = \",train['clean'].sum())\n",
    "print(\"Total tags =\",x.sum())\n",
    "\n",
    "print(train.head(5))"
   ]
  },
  {
   "cell_type": "code",
   "execution_count": 12,
   "metadata": {
    "_cell_guid": "355f7787-448a-4a8d-b57d-cfe94be6a498",
    "_uuid": "ce37927f4bdd3926c2b142d05a1a0a263309a8da"
   },
   "outputs": [
    {
     "name": "stdout",
     "output_type": "stream",
     "text": [
      "Check for missing values in Train dataset\n",
      "id               0\n",
      "comment_text     0\n",
      "toxic            0\n",
      "severe_toxic     0\n",
      "obscene          0\n",
      "threat           0\n",
      "insult           0\n",
      "identity_hate    0\n",
      "clean            0\n",
      "dtype: int64\n",
      "Check for missing values in Test dataset\n",
      "id              0\n",
      "comment_text    0\n",
      "dtype: int64\n",
      "filling NA with \"unknown\"\n"
     ]
    }
   ],
   "source": [
    "print(\"Check for missing values in Train dataset\")\n",
    "null_check=train.isnull().sum()\n",
    "print(null_check)\n",
    "print(\"Check for missing values in Test dataset\")\n",
    "null_check=test.isnull().sum()\n",
    "print(null_check)\n",
    "print(\"filling NA with \\\"unknown\\\"\")\n",
    "train[\"comment_text\"].fillna(\"unknown\", inplace=True)\n",
    "test[\"comment_text\"].fillna(\"unknown\", inplace=True)"
   ]
  },
  {
   "cell_type": "code",
   "execution_count": 12,
   "metadata": {
    "_cell_guid": "2b58d925-9f18-4c28-8c1a-8e37d17ae8b4",
    "_kg_hide-input": true,
    "_uuid": "0a3ee7d1bb8c764dd7115657b028c3108b86d08b"
   },
   "outputs": [
    {
     "data": {
      "image/png": "[encoded data removed]",
      "text/plain": [
       "<matplotlib.figure.Figure at 0x7f2f71cf4048>"
      ]
     },
     "metadata": {},
     "output_type": "display_data"
    }
   ],
   "source": [
    "x=train.iloc[:,2:].sum()\n",
    "#plot\n",
    "plt.figure(figsize=(8,4))\n",
    "ax= sns.barplot(x.index, x.values, alpha=0.8)\n",
    "plt.title(\"# per class\")\n",
    "plt.ylabel('# of Occurrences', fontsize=12)\n",
    "plt.xlabel('Type ', fontsize=12)\n",
    "#adding the text labels\n",
    "rects = ax.patches\n",
    "labels = x.values\n",
    "for rect, label in zip(rects, labels):\n",
    "    height = rect.get_height()\n",
    "    ax.text(rect.get_x() + rect.get_width()/2, height + 5, label, ha='center', va='bottom')\n",
    "\n",
    "plt.show()"
   ]
  },
  {
   "cell_type": "markdown",
   "metadata": {
    "_cell_guid": "dec83630-3c6a-4d51-9862-58093fc61aa0",
    "_uuid": "cd1e6fa8ba8b24f8a72f678506c8ff9833254cc9"
   },
   "source": [
    "* The toxicity is not evenly spread out across classes. Hence we might face class imbalance problems\n",
    "* There are ~95k comments in the training dataset and there are ~21 k tags and ~86k clean comments!?\n",
    "    * This is only possible when multiple tags are associated with each comment (eg) a comment can be classified as both toxic and obscene. \n",
    "\n",
    "### Multi-tagging:\n",
    "Let's check how many comments have multiple tags."
   ]
  },
  {
   "cell_type": "code",
   "execution_count": 16,
   "metadata": {
    "_cell_guid": "b1aa1aa1-b268-45c7-a5d6-ffa8771f15ea",
    "_kg_hide-input": true,
    "_uuid": "fb65bbdd6efc49da369578ea238dcd437e5c942b",
    "scrolled": true
   },
   "outputs": [
    {
     "name": "stdout",
     "output_type": "stream",
     "text": [
      "(159571,)\n",
      "(7,)\n",
      "0    143346\n",
      "1      6360\n",
      "3      4209\n",
      "2      3480\n",
      "4      1760\n",
      "5       385\n",
      "6        31\n",
      "dtype: int64\n"
     ]
    },
    {
     "data": {
      "image/png": "[encoded data removed]",
      "text/plain": [
       "<matplotlib.figure.Figure at 0x7f2f71baa278>"
      ]
     },
     "metadata": {},
     "output_type": "display_data"
    }
   ],
   "source": [
    "print(rowsums.shape)\n",
    "x=rowsums.value_counts()\n",
    "print(x.shape)\n",
    "print(x)\n",
    "\n",
    "#plot\n",
    "plt.figure(figsize=(8,4))\n",
    "ax = sns.barplot(x.index, x.values, alpha=0.8,color=color[2])\n",
    "plt.title(\"Multiple tags per comment\")\n",
    "plt.ylabel('# of Occurrences', fontsize=12)\n",
    "plt.xlabel('# of tags ', fontsize=12)\n",
    "\n",
    "#adding the text labels\n",
    "rects = ax.patches\n",
    "labels = x.values\n",
    "for rect, label in zip(rects, labels):\n",
    "    height = rect.get_height()\n",
    "    ax.text(rect.get_x() + rect.get_width()/2, height + 5, label, ha='center', va='bottom')\n",
    "\n",
    "plt.show()"
   ]
  },
  {
   "cell_type": "markdown",
   "metadata": {
    "_cell_guid": "5309efd1-5969-42a0-a361-4d509006db02",
    "_kg_hide-input": true,
    "_kg_hide-output": true,
    "_uuid": "d6f04ff17935dd31c256890f7eb4da7be790e98c"
   },
   "source": [
    "Only ~10% of the total comments have some sort of toxicity in them. There are certain comments(20) that are marked as all of the above!\n",
    "\n",
    "## Which tags go together?\n",
    "Now let's have a look at how often the tags occur together. A good indicator of that would be a correlation plot."
   ]
  },
  {
   "cell_type": "code",
   "execution_count": 17,
   "metadata": {
    "_cell_guid": "f59dffec-57e1-4d82-a6c8-8d28b09d616b",
    "_uuid": "bf5735b2aa98d6bc87a0511a2c1d7dd18662ea0f"
   },
   "outputs": [
    {
     "data": {
      "text/plain": [
       "<matplotlib.axes._subplots.AxesSubplot at 0x7f2f71baaa20>"
      ]
     },
     "execution_count": 17,
     "metadata": {},
     "output_type": "execute_result"
    },
    {
     "data": {
      "image/png": "[encoded data removed]",
      "text/plain": [
       "<matplotlib.figure.Figure at 0x7f2f6e06b978>"
      ]
     },
     "metadata": {},
     "output_type": "display_data"
    }
   ],
   "source": [
    "temp_df=train.iloc[:,2:-1]\n",
    "# filter temp by removing clean comments\n",
    "# temp_df=temp_df[~train.clean]\n",
    "\n",
    "corr=temp_df.corr()\n",
    "plt.figure(figsize=(10,8))\n",
    "sns.heatmap(corr,\n",
    "            xticklabels=corr.columns.values,\n",
    "            yticklabels=corr.columns.values, annot=True)"
   ]
  },
  {
   "cell_type": "markdown",
   "metadata": {
    "_cell_guid": "6ef81ed4-4371-47e9-a571-350eda2b8c90",
    "_uuid": "297ec4fc993c2cf5c84d7bd3e931cd85872918a9"
   },
   "source": [
    "The above plot indicates a pattern of co-occurance but Pandas's default Corr function which uses Pearson correlation does not apply here, since the variables invovled are Categorical (binary) variables.\n",
    "\n",
    "So, to find a pattern between two categorical variables we can use other tools like \n",
    "* Confusion matrix/Crosstab\n",
    "* Cramer's V Statistic\n",
    "    * Cramer's V stat is an extension of the chi-square test where the extent/strength of association is also measured"
   ]
  },
  {
   "cell_type": "code",
   "execution_count": 18,
   "metadata": {
    "_cell_guid": "8f8215ed-7573-47de-bf2a-e86c253da0ee",
    "_kg_hide-input": true,
    "_uuid": "bbd11fcd7cf0f2c7ad59ab2dd3a9764cfba69e21"
   },
   "outputs": [],
   "source": [
    "# https://pandas.pydata.org/pandas-docs/stable/style.html\n",
    "def highlight_min(data, color='yellow'):\n",
    "    '''\n",
    "    highlight the maximum in a Series or DataFrame\n",
    "    '''\n",
    "    attr = 'background-color: {}'.format(color)\n",
    "    if data.ndim == 1:  # Series from .apply(axis=0) or axis=1\n",
    "        is_min = data == data.min()\n",
    "        return [attr if v else '' for v in is_min]\n",
    "    else:  # from .apply(axis=None)\n",
    "        is_max = data == data.min().min()\n",
    "        return pd.DataFrame(np.where(is_min, attr, ''),\n",
    "                            index=data.index, columns=data.columns)"
   ]
  },
  {
   "cell_type": "code",
   "execution_count": 21,
   "metadata": {
    "_cell_guid": "0a4a7560-71ae-4db4-85e4-c172e326505b",
    "_uuid": "e038525e7d14d86c7b3d294df42e9a8d626f20d1"
   },
   "outputs": [
    {
     "data": {
      "text/html": [
       "<div>\n",
       "<table border=\"1\" class=\"dataframe\">\n",
       "  <thead>\n",
       "    <tr>\n",
       "      <th></th>\n",
       "      <th colspan=\"2\" halign=\"left\">severe_toxic</th>\n",
       "      <th colspan=\"2\" halign=\"left\">obscene</th>\n",
       "      <th colspan=\"2\" halign=\"left\">threat</th>\n",
       "      <th colspan=\"2\" halign=\"left\">insult</th>\n",
       "      <th colspan=\"2\" halign=\"left\">identity_hate</th>\n",
       "    </tr>\n",
       "    <tr>\n",
       "      <th>severe_toxic</th>\n",
       "      <th>0</th>\n",
       "      <th>1</th>\n",
       "      <th>0</th>\n",
       "      <th>1</th>\n",
       "      <th>0</th>\n",
       "      <th>1</th>\n",
       "      <th>0</th>\n",
       "      <th>1</th>\n",
       "      <th>0</th>\n",
       "      <th>1</th>\n",
       "    </tr>\n",
       "    <tr>\n",
       "      <th>toxic</th>\n",
       "      <th></th>\n",
       "      <th></th>\n",
       "      <th></th>\n",
       "      <th></th>\n",
       "      <th></th>\n",
       "      <th></th>\n",
       "      <th></th>\n",
       "      <th></th>\n",
       "      <th></th>\n",
       "      <th></th>\n",
       "    </tr>\n",
       "  </thead>\n",
       "  <tbody>\n",
       "    <tr>\n",
       "      <th>0</th>\n",
       "      <td>144277</td>\n",
       "      <td>0</td>\n",
       "      <td>143754</td>\n",
       "      <td>523</td>\n",
       "      <td>144248</td>\n",
       "      <td>29</td>\n",
       "      <td>143744</td>\n",
       "      <td>533</td>\n",
       "      <td>144174</td>\n",
       "      <td>103</td>\n",
       "    </tr>\n",
       "    <tr>\n",
       "      <th>1</th>\n",
       "      <td>13699</td>\n",
       "      <td>1595</td>\n",
       "      <td>7368</td>\n",
       "      <td>7926</td>\n",
       "      <td>14845</td>\n",
       "      <td>449</td>\n",
       "      <td>7950</td>\n",
       "      <td>7344</td>\n",
       "      <td>13992</td>\n",
       "      <td>1302</td>\n",
       "    </tr>\n",
       "  </tbody>\n",
       "</table>\n",
       "</div>"
      ],
      "text/plain": [
       "             severe_toxic       obscene        threat       insult        \\\n",
       "severe_toxic            0     1       0     1       0    1       0     1   \n",
       "toxic                                                                      \n",
       "0                  144277     0  143754   523  144248   29  143744   533   \n",
       "1                   13699  1595    7368  7926   14845  449    7950  7344   \n",
       "\n",
       "             identity_hate        \n",
       "severe_toxic             0     1  \n",
       "toxic                             \n",
       "0                   144174   103  \n",
       "1                    13992  1302  "
      ]
     },
     "execution_count": 21,
     "metadata": {},
     "output_type": "execute_result"
    }
   ],
   "source": [
    "#Crosstab\n",
    "# Since technically a crosstab between all 6 classes is impossible to vizualize, lets take a \n",
    "# look at toxic with other tags\n",
    "main_col=\"toxic\"\n",
    "corr_mats=[]\n",
    "for other_col in temp_df.columns[1:]:\n",
    "    confusion_matrix = pd.crosstab(temp_df[main_col], temp_df[other_col])\n",
    "    corr_mats.append(confusion_matrix)\n",
    "out = pd.concat(corr_mats,axis=1,keys=temp_df.columns[1:])\n",
    "\n",
    "#cell highlighting\n",
    "#out = out.style.apply(highlight_min,axis=0)\n",
    "out"
   ]
  },
  {
   "cell_type": "markdown",
   "metadata": {
    "_cell_guid": "5631221e-ce94-41b5-aace-ccb42b906310",
    "_uuid": "4c307d47477bcec06d2fa7cdcbd5b30e70ad3f42"
   },
   "source": [
    "The above table represents the Crosstab/ consufion matix of Toxic comments with the other classes. \n",
    "\n",
    "Some interesting observations:\n",
    "\n",
    "* A Severe toxic comment is always toxic\n",
    "* Other classes seem to be a subset of toxic barring a few exceptions\n",
    "\n"
   ]
  },
  {
   "cell_type": "code",
   "execution_count": 22,
   "metadata": {
    "_cell_guid": "4d30706c-3c0d-4bd4-b3de-de2e8f3a6486",
    "_kg_hide-input": false,
    "_uuid": "44f2a738a00e7211659a2ebbd8d33527830e925e"
   },
   "outputs": [],
   "source": [
    "#https://stackoverflow.com/questions/20892799/using-pandas-calculate-cram%C3%A9rs-coefficient-matrix/39266194\n",
    "def cramers_corrected_stat(confusion_matrix):\n",
    "    \"\"\" calculate Cramers V statistic for categorial-categorial association.\n",
    "        uses correction from Bergsma and Wicher, \n",
    "        Journal of the Korean Statistical Society 42 (2013): 323-328\n",
    "    \"\"\"\n",
    "    chi2 = ss.chi2_contingency(confusion_matrix)[0]\n",
    "    n = confusion_matrix.sum().sum()\n",
    "    phi2 = chi2/n\n",
    "    r,k = confusion_matrix.shape\n",
    "    phi2corr = max(0, phi2 - ((k-1)*(r-1))/(n-1))    \n",
    "    rcorr = r - ((r-1)**2)/(n-1)\n",
    "    kcorr = k - ((k-1)**2)/(n-1)\n",
    "    return np.sqrt(phi2corr / min( (kcorr-1), (rcorr-1)))"
   ]
  },
  {
   "cell_type": "code",
   "execution_count": 23,
   "metadata": {
    "_cell_guid": "4b13fe1b-8482-49a8-bb3a-7d6976a481f2",
    "_uuid": "35f83d01e942b04c55ab9317f6623a09f3676f4e"
   },
   "outputs": [
    {
     "name": "stdout",
     "output_type": "stream",
     "text": [
      "Confusion matrix between toxic and severe toxic:\n",
      "severe_toxic       0     1\n",
      "toxic                     \n",
      "0             144277     0\n",
      "1              13699  1595\n",
      "The correlation between Toxic and Severe toxic using Cramer's stat= 0.308502905405\n"
     ]
    }
   ],
   "source": [
    "#Checking for Toxic and Severe toxic for now\n",
    "import pandas as pd\n",
    "col1=\"toxic\"\n",
    "col2=\"severe_toxic\"\n",
    "confusion_matrix = pd.crosstab(temp_df[col1], temp_df[col2])\n",
    "print(\"Confusion matrix between toxic and severe toxic:\")\n",
    "print(confusion_matrix)\n",
    "new_corr=cramers_corrected_stat(confusion_matrix)\n",
    "print(\"The correlation between Toxic and Severe toxic using Cramer's stat=\",new_corr)"
   ]
  },
  {
   "cell_type": "markdown",
   "metadata": {
    "_cell_guid": "7e7c1dfc-5186-4ec2-a910-1ef3e7551ab7",
    "_uuid": "1fab30ff6cf3dffdec3fe723683cf42801799a67"
   },
   "source": [
    "\n",
    "## Example Comments:"
   ]
  },
  {
   "cell_type": "code",
   "execution_count": 27,
   "metadata": {
    "_cell_guid": "cf5d29a0-90b1-45cf-aa10-128a3b952306",
    "_kg_hide-input": true,
    "_uuid": "7fcfc1d19a150f7caab665cf691388e2b2f396b5"
   },
   "outputs": [
    {
     "name": "stdout",
     "output_type": "stream",
     "text": [
      "toxic:\n",
      "Hi \n",
      "\n",
      "Im a fucking bitch.\n",
      "\n",
      "50.180.208.181\n"
     ]
    }
   ],
   "source": [
    "print(\"toxic:\")\n",
    "print(train[train.severe_toxic==1].iloc[3,1])\n",
    "#print(train[train.severe_toxic==1].iloc[5,1])"
   ]
  },
  {
   "cell_type": "code",
   "execution_count": 28,
   "metadata": {
    "_cell_guid": "797646c0-45b7-4da9-8c81-e2b9f354da6f",
    "_kg_hide-input": true,
    "_uuid": "5af966f76e9b2dadda00f760611b00f76670b45b"
   },
   "outputs": [
    {
     "name": "stdout",
     "output_type": "stream",
     "text": [
      "severe_toxic:\n",
      "What a motherfucking piece of crap those fuckheads for blocking us!\n"
     ]
    }
   ],
   "source": [
    "print(\"severe_toxic:\")\n",
    "print(train[train.severe_toxic==1].iloc[4,1])\n",
    "#print(train[train.severe_toxic==1].iloc[4,1])"
   ]
  },
  {
   "cell_type": "code",
   "execution_count": 29,
   "metadata": {
    "_cell_guid": "022e3edd-68c2-41dc-b299-979494b687fd",
    "_kg_hide-input": true,
    "_uuid": "e6a85250be24d8e8d2fe5e9d75e26eb3c5f9d486"
   },
   "outputs": [
    {
     "name": "stdout",
     "output_type": "stream",
     "text": [
      "Threat:\n",
      "I think that your a Fagget get a oife and burn in Hell I hate you 'm sorry we cant have any more sex i'm running out of conndoms\n"
     ]
    }
   ],
   "source": [
    "print(\"Threat:\")\n",
    "print(train[train.threat==1].iloc[1,1])\n",
    "#print(train[train.threat==1].iloc[2,1])"
   ]
  },
  {
   "cell_type": "code",
   "execution_count": 30,
   "metadata": {
    "_cell_guid": "2616a080-5c5a-4f10-b0fa-57ee1392e707",
    "_kg_hide-input": true,
    "_uuid": "c6a4925b3ca37f74e37b9c66e35daf1aa3196776"
   },
   "outputs": [
    {
     "name": "stdout",
     "output_type": "stream",
     "text": [
      "Obscene:\n",
      "You are gay or antisemmitian? \n",
      "\n",
      "Archangel WHite Tiger\n",
      "\n",
      "Meow! Greetingshhh!\n",
      "\n",
      "Uh, there are two ways, why you do erased my comment about WW2, that holocaust was brutally slaying of Jews and not gays/Gypsys/Slavs/anyone...\n",
      "\n",
      "1 - If you are anti-semitian, than shave your head bald and go to the skinhead meetings!\n",
      "\n",
      "2 - If you doubt words of the Bible, that homosexuality is a deadly sin, make a pentagram tatoo on your forehead go to the satanistic masses with your gay pals!\n",
      "\n",
      "3 - First and last warning, you fucking gay - I won't appreciate if any more nazi shwain would write in my page! I don't wish to talk to you anymore!\n",
      "\n",
      "Beware of the Dark Side!\n"
     ]
    }
   ],
   "source": [
    "print(\"Obscene:\")\n",
    "print(train[train.obscene==1].iloc[1,1])\n",
    "#print(train[train.obscene==1].iloc[2,1])"
   ]
  },
  {
   "cell_type": "code",
   "execution_count": 37,
   "metadata": {
    "_cell_guid": "27832c62-825a-422f-b114-0dfa8e684306",
    "_kg_hide-input": true,
    "_uuid": "d06773d75fdeae4a07f735d73cc8c8602c26160e"
   },
   "outputs": [
    {
     "name": "stdout",
     "output_type": "stream",
     "text": [
      "identity_hate:\n",
      "u r a tw@ fuck off u gay boy.U r smelly.Fuck ur mum poopie\n"
     ]
    }
   ],
   "source": [
    "print(\"identity_hate:\")\n",
    "print(train[train.identity_hate==1].iloc[4,1])\n",
    "#print(train[train.identity_hate==1].iloc[4,1])"
   ]
  },
  {
   "cell_type": "markdown",
   "metadata": {
    "_cell_guid": "dd2b2c1d-0c8a-4089-aa0f-24caa53d4ad8",
    "_uuid": "17a4e0e4cd4257ad4b9627ea47ae433d078e05a2"
   },
   "source": [
    "That was a whole lot of toxicity. Some weird observations:\n",
    "\n",
    "* Some of the comments are extremely and mere copy paste of the same thing\n",
    "* Comments can still contain IP addresses(eg:62.158.73.165), usernames(eg:ARKJEDI10) and some mystery numbers(i assume is article-IDs)\n",
    "\n",
    "Point 2 can cause huge overfitting.\n",
    "\n",
    "# Wordclouds - Frequent words:\n",
    "\n",
    "Now, let's take a look at words that are associated with these classes.\n",
    "\n",
    "   Chart Desc: The visuals here are word clouds (ie) more frequent words appear bigger. A cool way to create word clouds with funky pics is given [here](https://www.kaggle.com/arthurtok/spooky-nlp-and-topic-modelling-tutorial). It involves the following steps.\n",
    "    * Search for an image and its base 64 encoding\n",
    "    * Paste encoding in a cell and convert it using codecs package to image\n",
    "    * Create word cloud with the new image as a mask\n",
    "A simpler way would be to create a new kaggle dataset and import images from there.\n",
    "    "
   ]
  },
  {
   "cell_type": "code",
   "execution_count": 39,
   "metadata": {
    "_cell_guid": "76ea3ae7-e9aa-4947-ab49-39e1103bc24e",
    "_kg_hide-input": true,
    "_kg_hide-output": true,
    "_uuid": "e1cf9e4e0b01700d9a39f905ebce822d5eba418c"
   },
   "outputs": [
    {
     "name": "stdout",
     "output_type": "stream",
     "text": [
      "pengu.png\r\n"
     ]
    }
   ],
   "source": [
    "!ls ../SampleImage/\n",
    "stopword=set(STOPWORDS)"
   ]
  },
  {
   "cell_type": "code",
   "execution_count": 42,
   "metadata": {
    "_cell_guid": "88c67243-7b91-4c4a-92fc-afd76d3f7894",
    "_kg_hide-input": true,
    "_kg_hide-output": false,
    "_uuid": "2fb9a7306106f8c9a74f8fbdbc5263d66eeea88a"
   },
   "outputs": [
    {
     "name": "stdout",
     "output_type": "stream",
     "text": [
      "(235, 214)\n"
     ]
    },
    {
     "ename": "IndexError",
     "evalue": "too many indices for array",
     "output_type": "error",
     "traceback": [
      "\u001b[0;31m---------------------------------------------------------------------------\u001b[0m",
      "\u001b[0;31mIndexError\u001b[0m                                Traceback (most recent call last)",
      "\u001b[0;32m<ipython-input-42-4288dc79e45e>\u001b[0m in \u001b[0;36m<module>\u001b[0;34m()\u001b[0m\n\u001b[1;32m      2\u001b[0m \u001b[0mclean_mask\u001b[0m\u001b[0;34m=\u001b[0m\u001b[0mnp\u001b[0m\u001b[0;34m.\u001b[0m\u001b[0marray\u001b[0m\u001b[0;34m(\u001b[0m\u001b[0mImage\u001b[0m\u001b[0;34m.\u001b[0m\u001b[0mopen\u001b[0m\u001b[0;34m(\u001b[0m\u001b[0;34m\"../SampleImage/pengu.png\"\u001b[0m\u001b[0;34m)\u001b[0m\u001b[0;34m)\u001b[0m\u001b[0;34m\u001b[0m\u001b[0m\n\u001b[1;32m      3\u001b[0m \u001b[0mprint\u001b[0m\u001b[0;34m(\u001b[0m\u001b[0mclean_mask\u001b[0m\u001b[0;34m.\u001b[0m\u001b[0mshape\u001b[0m\u001b[0;34m)\u001b[0m\u001b[0;34m\u001b[0m\u001b[0m\n\u001b[0;32m----> 4\u001b[0;31m \u001b[0mclean_mask\u001b[0m\u001b[0;34m=\u001b[0m\u001b[0mclean_mask\u001b[0m\u001b[0;34m[\u001b[0m\u001b[0;34m:\u001b[0m\u001b[0;34m,\u001b[0m\u001b[0;34m:\u001b[0m\u001b[0;34m,\u001b[0m\u001b[0;36m1\u001b[0m\u001b[0;34m]\u001b[0m\u001b[0;34m\u001b[0m\u001b[0m\n\u001b[0m\u001b[1;32m      5\u001b[0m \u001b[0;31m#wordcloud for clean comments\u001b[0m\u001b[0;34m\u001b[0m\u001b[0;34m\u001b[0m\u001b[0m\n\u001b[1;32m      6\u001b[0m \u001b[0msubset\u001b[0m\u001b[0;34m=\u001b[0m\u001b[0mtrain\u001b[0m\u001b[0;34m[\u001b[0m\u001b[0mtrain\u001b[0m\u001b[0;34m.\u001b[0m\u001b[0mclean\u001b[0m\u001b[0;34m==\u001b[0m\u001b[0;32mTrue\u001b[0m\u001b[0;34m]\u001b[0m\u001b[0;34m\u001b[0m\u001b[0m\n",
      "\u001b[0;31mIndexError\u001b[0m: too many indices for array"
     ]
    }
   ],
   "source": [
    "#clean comments\n",
    "clean_mask=np.array(Image.open(\"../SampleImage/pengu.png\"))\n",
    "print(clean_mask.shape)\n",
    "clean_mask=clean_mask[:,:,1]\n",
    "#wordcloud for clean comments\n",
    "subset=train[train.clean==True]\n",
    "text=subset.comment_text.values\n",
    "wc= WordCloud(background_color=\"black\",max_words=2000,mask=clean_mask,stopwords=stopword)\n",
    "wc.generate(\" \".join(text))\n",
    "plt.figure(figsize=(20,10))\n",
    "plt.axis(\"off\")\n",
    "plt.title(\"Words frequented in Clean Comments\", fontsize=20)\n",
    "plt.imshow(wc.recolor(colormap= 'viridis' , random_state=17), alpha=0.98)\n",
    "plt.show()"
   ]
  },
  {
   "cell_type": "code",
   "execution_count": 46,
   "metadata": {
    "_cell_guid": "d1483502-d0b7-464e-8fe5-2191dc5c67e9",
    "_kg_hide-input": true,
    "_uuid": "181fa5cecab3b63d82908ae52cd5d333d22750df"
   },
   "outputs": [
    {
     "ename": "FileNotFoundError",
     "evalue": "[Errno 2] No such file or directory: '../input/imagesforkernal/toxic-sign.png'",
     "output_type": "error",
     "traceback": [
      "\u001b[0;31m---------------------------------------------------------------------------\u001b[0m",
      "\u001b[0;31mFileNotFoundError\u001b[0m                         Traceback (most recent call last)",
      "\u001b[0;32m<ipython-input-46-e50967b1e78a>\u001b[0m in \u001b[0;36m<module>\u001b[0;34m()\u001b[0m\n\u001b[0;32m----> 1\u001b[0;31m \u001b[0mtoxic_mask\u001b[0m\u001b[0;34m=\u001b[0m\u001b[0mnp\u001b[0m\u001b[0;34m.\u001b[0m\u001b[0marray\u001b[0m\u001b[0;34m(\u001b[0m\u001b[0mImage\u001b[0m\u001b[0;34m.\u001b[0m\u001b[0mopen\u001b[0m\u001b[0;34m(\u001b[0m\u001b[0;34m\"../input/imagesforkernal/toxic-sign.png\"\u001b[0m\u001b[0;34m)\u001b[0m\u001b[0;34m)\u001b[0m\u001b[0;34m\u001b[0m\u001b[0m\n\u001b[0m\u001b[1;32m      2\u001b[0m \u001b[0mtoxic_mask\u001b[0m\u001b[0;34m=\u001b[0m\u001b[0mtoxic_mask\u001b[0m\u001b[0;34m[\u001b[0m\u001b[0;34m:\u001b[0m\u001b[0;34m,\u001b[0m\u001b[0;34m:\u001b[0m\u001b[0;34m,\u001b[0m\u001b[0;36m1\u001b[0m\u001b[0;34m]\u001b[0m\u001b[0;34m\u001b[0m\u001b[0m\n\u001b[1;32m      3\u001b[0m \u001b[0;31m#wordcloud for clean comments\u001b[0m\u001b[0;34m\u001b[0m\u001b[0;34m\u001b[0m\u001b[0m\n\u001b[1;32m      4\u001b[0m \u001b[0msubset\u001b[0m\u001b[0;34m=\u001b[0m\u001b[0mtrain\u001b[0m\u001b[0;34m[\u001b[0m\u001b[0mtrain\u001b[0m\u001b[0;34m.\u001b[0m\u001b[0mtoxic\u001b[0m\u001b[0;34m==\u001b[0m\u001b[0;36m1\u001b[0m\u001b[0;34m]\u001b[0m\u001b[0;34m\u001b[0m\u001b[0m\n\u001b[1;32m      5\u001b[0m \u001b[0mtext\u001b[0m\u001b[0;34m=\u001b[0m\u001b[0msubset\u001b[0m\u001b[0;34m.\u001b[0m\u001b[0mcomment_text\u001b[0m\u001b[0;34m.\u001b[0m\u001b[0mvalues\u001b[0m\u001b[0;34m\u001b[0m\u001b[0m\n",
      "\u001b[0;32m~/anaconda3/envs/ztdl/lib/python3.5/site-packages/PIL/Image.py\u001b[0m in \u001b[0;36mopen\u001b[0;34m(fp, mode)\u001b[0m\n\u001b[1;32m   2310\u001b[0m \u001b[0;34m\u001b[0m\u001b[0m\n\u001b[1;32m   2311\u001b[0m     \u001b[0;32mif\u001b[0m \u001b[0mfilename\u001b[0m\u001b[0;34m:\u001b[0m\u001b[0;34m\u001b[0m\u001b[0m\n\u001b[0;32m-> 2312\u001b[0;31m         \u001b[0mfp\u001b[0m \u001b[0;34m=\u001b[0m \u001b[0mbuiltins\u001b[0m\u001b[0;34m.\u001b[0m\u001b[0mopen\u001b[0m\u001b[0;34m(\u001b[0m\u001b[0mfilename\u001b[0m\u001b[0;34m,\u001b[0m \u001b[0;34m\"rb\"\u001b[0m\u001b[0;34m)\u001b[0m\u001b[0;34m\u001b[0m\u001b[0m\n\u001b[0m\u001b[1;32m   2313\u001b[0m \u001b[0;34m\u001b[0m\u001b[0m\n\u001b[1;32m   2314\u001b[0m     \u001b[0;32mtry\u001b[0m\u001b[0;34m:\u001b[0m\u001b[0;34m\u001b[0m\u001b[0m\n",
      "\u001b[0;31mFileNotFoundError\u001b[0m: [Errno 2] No such file or directory: '../input/imagesforkernal/toxic-sign.png'"
     ]
    }
   ],
   "source": [
    "toxic_mask=np.array(Image.open(\"../input/imagesforkernal/toxic-sign.png\"))\n",
    "toxic_mask=toxic_mask[:,:,1]\n",
    "#wordcloud for clean comments\n",
    "subset=train[train.toxic==1]\n",
    "text=subset.comment_text.values\n",
    "wc= WordCloud(background_color=\"black\",max_words=4000,mask=toxic_mask,stopwords=stopword)\n",
    "wc.generate(\" \".join(text))\n",
    "plt.figure(figsize=(20,20))\n",
    "plt.subplot(221)\n",
    "plt.axis(\"off\")\n",
    "plt.title(\"Words frequented in Toxic Comments\", fontsize=20)\n",
    "plt.imshow(wc.recolor(colormap= 'gist_earth' , random_state=244), alpha=0.98)\n",
    "\n",
    "#Severely toxic comments\n",
    "plt.subplot(222)\n",
    "severe_toxic_mask=np.array(Image.open(\"../input/imagesforkernal/bomb.png\"))\n",
    "severe_toxic_mask=severe_toxic_mask[:,:,1]\n",
    "subset=train[train.severe_toxic==1]\n",
    "text=subset.comment_text.values\n",
    "wc= WordCloud(background_color=\"black\",max_words=2000,mask=severe_toxic_mask,stopwords=stopword)\n",
    "wc.generate(\" \".join(text))\n",
    "plt.axis(\"off\")\n",
    "plt.title(\"Words frequented in Severe Toxic Comments\", fontsize=20)\n",
    "plt.imshow(wc.recolor(colormap= 'Reds' , random_state=244), alpha=0.98)\n",
    "\n",
    "#Threat comments\n",
    "plt.subplot(223)\n",
    "threat_mask=np.array(Image.open(\"../input/imagesforkernal/anger.png\"))\n",
    "threat_mask=threat_mask[:,:,1]\n",
    "subset=train[train.threat==1]\n",
    "text=subset.comment_text.values\n",
    "wc= WordCloud(background_color=\"black\",max_words=2000,mask=threat_mask,stopwords=stopword)\n",
    "wc.generate(\" \".join(text))\n",
    "plt.axis(\"off\")\n",
    "plt.title(\"Words frequented in Threatening Comments\", fontsize=20)\n",
    "plt.imshow(wc.recolor(colormap= 'summer' , random_state=2534), alpha=0.98)\n",
    "\n",
    "#insult\n",
    "plt.subplot(224)\n",
    "insult_mask=np.array(Image.open(\"../input/imagesforkernal/swords.png\"))\n",
    "insult_mask=insult_mask[:,:,1]\n",
    "subset=train[train.insult==1]\n",
    "text=subset.comment_text.values\n",
    "wc= WordCloud(background_color=\"black\",max_words=2000,mask=insult_mask,stopwords=stopword)\n",
    "wc.generate(\" \".join(text))\n",
    "plt.axis(\"off\")\n",
    "plt.title(\"Words frequented in insult Comments\", fontsize=20)\n",
    "plt.imshow(wc.recolor(colormap= 'Paired_r' , random_state=244), alpha=0.98)\n",
    "\n",
    "plt.show()\n"
   ]
  },
  {
   "cell_type": "markdown",
   "metadata": {
    "_cell_guid": "262e81d5-9082-4d4f-8311-f48be7388413",
    "_uuid": "05c18f60f9e90b3f6e6690855bb2b72085eb0d2e"
   },
   "source": [
    "# Feature engineering:\n",
    "I've broadly classified my feature engineering ideas into the following three groups\n",
    "## Direct features:\n",
    "Features which are a directly due to words/content.We would be exploring the following techniques\n",
    "* Word frequency features\n",
    "    * Count features\n",
    "    * Bigrams\n",
    "    * Trigrams\n",
    "* Vector distance mapping of words (Eg: Word2Vec)\n",
    "* Sentiment scores\n",
    "\n",
    "## Indirect features:\n",
    "Some more experimental features.\n",
    "* count of sentences \n",
    "* count of words\n",
    "* count of unique words\n",
    "* count of letters \n",
    "* count of punctuations\n",
    "* count of uppercase words/letters\n",
    "* count of stop words\n",
    "* Avg length of each word\n",
    "\n",
    "## Leaky features:\n",
    "From the example, we know that the comments contain identifier information (eg: IP, username,etc.).\n",
    "We can create features out of them but, it will certainly lead to **overfitting** to this specific Wikipedia use-case.\n",
    "* toxic IP scores\n",
    "* toxic users\n",
    "\n",
    "**Note:** \n",
    "Creating the indirect and leaky features first. There are two reasons for this,\n",
    "* Count features(Direct features) are useful only if they are created from a clean corpus\n",
    "* Also the indirect features help compensate for the loss of information when cleaning the dataset\n"
   ]
  },
  {
   "cell_type": "code",
   "execution_count": 47,
   "metadata": {
    "_cell_guid": "791b3c4f-edbc-4bb4-8a64-763b187a459e",
    "_uuid": "dcff5e0f9b77be8c7f9f4b0acf173ad937e3bbdc",
    "scrolled": true
   },
   "outputs": [
    {
     "name": "stdout",
     "output_type": "stream",
     "text": [
      "(312735, 2)\n",
      "                 id                                       comment_text\n",
      "0  0000997932d777bf  Explanation\\nWhy the edits made under my usern...\n",
      "1  000103f0d9cfb60f  D'aww! He matches this background colour I'm s...\n",
      "2  000113f07ec002fd  Hey man, I'm really not trying to edit war. It...\n",
      "3  0001b41b1c6bb37e  \"\\nMore\\nI can't make any real suggestions on ...\n",
      "4  0001d958c54c6e35  You, sir, are my hero. Any chance you remember...\n",
      "(312735, 2)\n",
      "                 id                                       comment_text\n",
      "0  0000997932d777bf  Explanation\\nWhy the edits made under my usern...\n",
      "1  000103f0d9cfb60f  D'aww! He matches this background colour I'm s...\n",
      "2  000113f07ec002fd  Hey man, I'm really not trying to edit war. It...\n",
      "3  0001b41b1c6bb37e  \"\\nMore\\nI can't make any real suggestions on ...\n",
      "4  0001d958c54c6e35  You, sir, are my hero. Any chance you remember...\n"
     ]
    }
   ],
   "source": [
    "merge=pd.concat([train.iloc[:,0:2],test.iloc[:,0:2]])\n",
    "print(merge.shape)\n",
    "print(merge.head(5))\n",
    "df=merge.reset_index(drop=True)\n",
    "print(df.shape)\n",
    "print(df.head(5))"
   ]
  },
  {
   "cell_type": "code",
   "execution_count": 49,
   "metadata": {
    "_cell_guid": "ee75d2dc-4d76-445a-8fec-332c06dcf4b5",
    "_uuid": "0542e2a860340218dcc2a027f4bfc97f433a03ce"
   },
   "outputs": [],
   "source": [
    "## Indirect features\n",
    "\n",
    "#Sentense count in each comment:\n",
    "    #  '\\n' can be used to count the number of sentences in each comment\n",
    "df['count_sent']=df[\"comment_text\"].apply(lambda x: len(re.findall(\"\\n\",str(x)))+1)\n",
    "#Word count in each comment:\n",
    "df['count_word']=df[\"comment_text\"].apply(lambda x: len(str(x).split()))\n",
    "#Unique word count\n",
    "df['count_unique_word']=df[\"comment_text\"].apply(lambda x: len(set(str(x).split())))\n",
    "#Letter count\n",
    "df['count_letters']=df[\"comment_text\"].apply(lambda x: len(str(x)))\n",
    "#punctuation count\n",
    "df[\"count_punctuations\"] =df[\"comment_text\"].apply(lambda x: len([c for c in str(x) if c in string.punctuation]))\n",
    "#upper case words count\n",
    "df[\"count_words_upper\"] = df[\"comment_text\"].apply(lambda x: len([w for w in str(x).split() if w.isupper()]))\n",
    "#title case words count\n",
    "df[\"count_words_title\"] = df[\"comment_text\"].apply(lambda x: len([w for w in str(x).split() if w.istitle()]))\n",
    "#Number of stopwords\n",
    "df[\"count_stopwords\"] = df[\"comment_text\"].apply(lambda x: len([w for w in str(x).lower().split() if w in eng_stopwords]))\n",
    "#Average length of the words\n",
    "df[\"mean_word_len\"] = df[\"comment_text\"].apply(lambda x: np.mean([len(w) for w in str(x).split()]))"
   ]
  },
  {
   "cell_type": "code",
   "execution_count": 50,
   "metadata": {
    "_cell_guid": "de492571-5990-40c2-8413-4d2da74bb72c",
    "_uuid": "bab9fdf2590fbbcd1db5e29480397bfb485e5e8d"
   },
   "outputs": [],
   "source": [
    "#derived features\n",
    "#Word count percent in each comment:\n",
    "df['word_unique_percent']=df['count_unique_word']*100/df['count_word']\n",
    "#derived features\n",
    "#Punct percent in each comment:\n",
    "df['punct_percent']=df['count_punctuations']*100/df['count_word']"
   ]
  },
  {
   "cell_type": "code",
   "execution_count": 51,
   "metadata": {
    "_cell_guid": "023c6206-020f-4814-8143-de11eaa30836",
    "_uuid": "0d1e8136ad267b3df2692de500685f74e30c7a0d"
   },
   "outputs": [
    {
     "name": "stdout",
     "output_type": "stream",
     "text": [
      "(159571, 20)\n",
      "                  id                                       comment_text  \\\n",
      "6   0002bcb3da6cb337       COCKSUCKER BEFORE YOU PISS AROUND ON MY WORK   \n",
      "12  0005c987bdfc9d4b  Hey... what is it..\\n@ | talk .\\nWhat is it......   \n",
      "16  0007e25b2121310b  Bye! \\n\\nDon't look, come or think of comming ...   \n",
      "42  001810bf8c45bf5f  You are gay or antisemmitian? \\n\\nArchangel WH...   \n",
      "43  00190820581d90ce           FUCK YOUR FILTHY MOTHER IN THE ASS, DRY!   \n",
      "\n",
      "    count_sent  count_word  count_unique_word  count_letters  \\\n",
      "6            1           8                  8             44   \n",
      "12           5          53                 50            319   \n",
      "16           3          10                 10             57   \n",
      "42          15         117                 88            648   \n",
      "43           1           8                  8             40   \n",
      "\n",
      "    count_punctuations  count_words_upper  count_words_title  count_stopwords  \\\n",
      "6                    0                  8                  0                4   \n",
      "12                  24                  6                  4               22   \n",
      "16                   5                  0                  2                3   \n",
      "42                  28                  3                 16               53   \n",
      "43                   2                  8                  0                3   \n",
      "\n",
      "    mean_word_len  word_unique_percent  punct_percent  toxic  severe_toxic  \\\n",
      "6        4.625000           100.000000       0.000000      1             1   \n",
      "12       5.018868            94.339623      45.283019      1             0   \n",
      "16       4.600000           100.000000      50.000000      1             0   \n",
      "42       4.478632            75.213675      23.931624      1             0   \n",
      "43       4.125000           100.000000      25.000000      1             0   \n",
      "\n",
      "    obscene  threat  insult  identity_hate  clean  \n",
      "6         1       0       1              0  False  \n",
      "12        0       0       0              0  False  \n",
      "16        0       0       0              0  False  \n",
      "42        1       0       1              1  False  \n",
      "43        1       0       1              0  False  \n"
     ]
    }
   ],
   "source": [
    "#serperate train and test features\n",
    "train_feats=df.iloc[0:len(train),]\n",
    "test_feats=df.iloc[len(train):,]\n",
    "#join the tags\n",
    "train_tags=train.iloc[:,2:]\n",
    "train_feats=pd.concat([train_feats,train_tags],axis=1)\n",
    "print(train_feats.shape)\n",
    "print(train_feats[train_feats[\"toxic\"]==1].head(5))"
   ]
  },
  {
   "cell_type": "code",
   "execution_count": 53,
   "metadata": {
    "_cell_guid": "41825791-11c5-4d2c-950e-fbe38ccf89f3",
    "_kg_hide-input": true,
    "_uuid": "4760e1bab3a56f3ea55d87b59359501bfe28f21b"
   },
   "outputs": [
    {
     "data": {
      "image/png": "[encoded data removed]",
      "text/plain": [
       "<matplotlib.figure.Figure at 0x7f909c244080>"
      ]
     },
     "metadata": {},
     "output_type": "display_data"
    }
   ],
   "source": [
    "train_feats['count_sent'].loc[train_feats['count_sent']>10] = 10 \n",
    "plt.figure(figsize=(12,6))\n",
    "## sentenses\n",
    "plt.subplot(121)\n",
    "plt.suptitle(\"Are longer comments more toxic?\",fontsize=20)\n",
    "sns.violinplot(y='count_sent',x='clean', data=train_feats,split=True)\n",
    "plt.xlabel('Clean?', fontsize=12)\n",
    "plt.ylabel('# of sentences', fontsize=12)\n",
    "plt.title(\"Number of sentences in each comment\", fontsize=15)\n",
    "# words\n",
    "train_feats['count_word'].loc[train_feats['count_word']>200] = 200\n",
    "plt.subplot(122)\n",
    "sns.violinplot(y='count_word',x='clean', data=train_feats,split=True,inner=\"quart\")\n",
    "plt.xlabel('Clean?', fontsize=12)\n",
    "plt.ylabel('# of words', fontsize=12)\n",
    "plt.title(\"Number of words in each comment\", fontsize=15)\n",
    "\n",
    "plt.show()"
   ]
  },
  {
   "cell_type": "markdown",
   "metadata": {
    "_cell_guid": "64cefc8c-0a27-4e30-ab28-8941c962208f",
    "_uuid": "899d447ba09f47c73130c4aaee08f842cb034346"
   },
   "source": [
    "Long sentences or more words do not seem to be a significant indicator of toxicity.\n",
    "\n",
    "Chart desc: Violin plot is an alternative to the traditional box plot. The inner markings show the percentiles while the width of the \"violin\" shows the volume of comments at that level/instance."
   ]
  },
  {
   "cell_type": "code",
   "execution_count": 55,
   "metadata": {
    "_cell_guid": "680419e0-2447-48b3-8b78-d0a537cec24c",
    "_uuid": "937e48180a8a554837927c07edf3561af0e45ac2",
    "collapsed": true
   },
   "outputs": [],
   "source": [
    "train_feats['count_unique_word'].loc[train_feats['count_unique_word']>200] = 200\n",
    "#prep for split violin plots\n",
    "#For the desired plots , the data must be in long format\n",
    "temp_df = pd.melt(train_feats, value_vars=['count_word', 'count_unique_word'], id_vars='clean')\n",
    "#spammers - comments with less than 40% unique words\n",
    "spammers=train_feats[train_feats['word_unique_percent']<30]"
   ]
  },
  {
   "cell_type": "code",
   "execution_count": 56,
   "metadata": {
    "_cell_guid": "daf5ed70-88f0-43b8-b76e-a76cfe076194",
    "_uuid": "961b30aae2ed652e39ede57ef6193d65a97b492d"
   },
   "outputs": [
    {
     "data": {
      "image/png": "[encoded data removed]",
      "text/plain": [
       "<matplotlib.figure.Figure at 0x7f906875fb00>"
      ]
     },
     "metadata": {},
     "output_type": "display_data"
    }
   ],
   "source": [
    "plt.figure(figsize=(16,12))\n",
    "plt.suptitle(\"What's so unique ?\",fontsize=20)\n",
    "gridspec.GridSpec(2,2)\n",
    "plt.subplot2grid((2,2),(0,0))\n",
    "sns.violinplot(x='variable', y='value', hue='clean', data=temp_df,split=True,inner='quartile')\n",
    "plt.title(\"Absolute wordcount and unique words count\")\n",
    "plt.xlabel('Feature', fontsize=12)\n",
    "plt.ylabel('Count', fontsize=12)\n",
    "\n",
    "plt.subplot2grid((2,2),(0,1))\n",
    "plt.title(\"Percentage of unique words of total words in comment\")\n",
    "#sns.boxplot(x='clean', y='word_unique_percent', data=train_feats)\n",
    "ax=sns.kdeplot(train_feats[train_feats.clean == 0].word_unique_percent, label=\"Bad\",shade=True,color='r')\n",
    "ax=sns.kdeplot(train_feats[train_feats.clean == 1].word_unique_percent, label=\"Clean\")\n",
    "plt.legend()\n",
    "plt.ylabel('Number of occurances', fontsize=12)\n",
    "plt.xlabel('Percent unique words', fontsize=12)\n",
    "\n",
    "x=spammers.iloc[:,-7:].sum()\n",
    "plt.subplot2grid((2,2),(1,0),colspan=2)\n",
    "plt.title(\"Count of comments with low(<30%) unique words\",fontsize=15)\n",
    "ax=sns.barplot(x=x.index, y=x.values,color=color[3])\n",
    "\n",
    "#adding the text labels\n",
    "rects = ax.patches\n",
    "labels = x.values\n",
    "for rect, label in zip(rects, labels):\n",
    "    height = rect.get_height()\n",
    "    ax.text(rect.get_x() + rect.get_width()/2, height + 5, label, ha='center', va='bottom')\n",
    "\n",
    "plt.xlabel('Threat class', fontsize=12)\n",
    "plt.ylabel('# of comments', fontsize=12)\n",
    "plt.show()"
   ]
  },
  {
   "cell_type": "markdown",
   "metadata": {
    "_cell_guid": "0e78458e-5d3e-43ce-ab9b-552473e46073",
    "_uuid": "fd3b009c2101355822808b66fda83d7afd595b47"
   },
   "source": [
    "### Word count VS unique word count:\n",
    "There are noticeable shifts in the mean of both word count and unique word count across clean and toxic comments.\n",
    "   * Chart desc: The first chart is a split violin chart. It is a variation of the traditional box chart/violin chart which allows us to split the violin in the middle based on a categorical variable.\n",
    "   \n",
    "### Unique word count percent:\n",
    "There is a bulge near the 0-10% mark which indicates a large number of toxic comments which contain very little variety of words.\n",
    "   * Chart desc: The second chart is an overlay of two kernel density estimation plots of percentage of unique words out of all the words in the comment, done for both clean and toxic comments\n",
    "\n",
    "Even though the number of clean comments dominates the dataset(~90%), there are only 75 clean comments that are spam, which makes it a powerful indicator of a toxic comment.\n",
    "# Spammers are more toxic!\n",
    "No surprises here. Let's take a look at some clean and toxic spam messages"
   ]
  },
  {
   "cell_type": "code",
   "execution_count": 57,
   "metadata": {
    "_cell_guid": "0cdca874-a723-4129-b5e4-2487686742e6",
    "_uuid": "70f865629614edda911dc89d6882afd752df117c"
   },
   "outputs": [
    {
     "name": "stdout",
     "output_type": "stream",
     "text": [
      "Clean Spam example:\n",
      "Towns and Villages in Ark-La-Tex]]\n",
      " Cities, boroughs and towns in the Republic of Ireland\n",
      " Cities, boroughs, and townships along the Susquehanna River\n",
      " Cities, towns and villages in Alborz Province\n",
      " Cities, towns and villages in Ardabil Province\n",
      " Cities, towns and villages in Bhutan\n",
      " Cities, towns and villages in Bushehr Province\n",
      " Cities, towns and villages in Chaharmahal and Bakhtiari Province\n",
      " Cities, towns and villages in Cyprus\n",
      " Cities, towns and villages in Dutch Limburg\n",
      " Cities, towns and villages in East Azerbaijan Province\n",
      " Cities, towns and villages in East Timor\n",
      " Cities, towns and villages in Fars Province\n",
      " Cities, towns and villages in Flevoland\n",
      " Cities, towns and villages in Friesland\n",
      " Cities, towns and villages in Gelderland\n",
      " Cities, towns and villages in Gilan Province\n",
      " Cities, towns and villages in Golestan Province\n",
      " Cities, towns and villages in Groningen\n",
      " Cities, towns and villages in Hamadan Province\n",
      " Cities, towns and villages in Hormozgan Province\n",
      " Cities, towns and villages in Ilam Province\n",
      " Cities, towns and villages in Isfahan Province\n",
      " Cities, towns and villages in Kerman Province\n",
      " Cities, towns and villages in Kermanshah Province\n",
      " Cities, towns and villages in Khuzestan Province\n",
      " Cities, towns and villages in Kohgiluyeh and Boyer-Ahmad Province\n",
      " Cities, towns and villages in Kurdistan Province\n",
      " Cities, towns and villages in Lorestan Province\n",
      " Cities, towns and villages in Markazi Province\n",
      " Cities, towns and villages in Mazandaran Province\n",
      " Cities, towns and villages in North Brabant\n",
      " Cities, towns and villages in North Holland\n",
      " Cities, towns and villages in North Khorasan Province\n",
      " Cities, towns and villages in Overijssel\n",
      " Cities, towns and villages in Qazvin Province\n",
      " Cities, towns and villages in Qom Province\n",
      " Cities, towns and villages in Razavi Khorasan Province\n",
      " Cities, towns and villages in Saint Vincent and the Grenadines\n",
      " Cities, towns and villages in Samoa\n",
      " Cities, towns and villages in Semnan Province\n",
      " Cities, towns and villages in Sistan and Baluchestan Province\n",
      " Cities, towns and villages in South Holland\n",
      " Cities, towns and villages in South Khorasan Province\n",
      " Cities, towns and villages in Tehran Province\n",
      " Cities, towns and villages in Turkmenistan\n",
      " Cities, towns and villages in Utrecht\n",
      " Cities, towns and villages in Vojvodina\n",
      " Cities, towns and villages in West Azerbaijan Province\n",
      " Cities, towns and villages in Yazd Province\n",
      " Cities, towns and villages in Zanjan Province\n",
      " Cities, towns and villages in Zeeland\n",
      " Cities, towns and villages in the Maldives\n",
      " Cities, towns and villages in the Solomon Islands\n",
      " Cities, towns, and villages in Békés county\n",
      " Cities, towns, and villages in Louisiana\n",
      "Toxic Spam example:\n",
      "User:NHRHS2010 is a homo like mitt romney is. \n",
      "User:NHRHS2010 is a homo like mitt romney is.\n",
      " User:Enigmaman is a homo like mitt romney is. \n",
      "User:Enigmaman is a homo like mitt romney is.\n",
      " User:NHRHS2010 is a homo like mitt romney is. \n",
      "User:NHRHS2010 is a homo like mitt romney is.\n",
      " User:Enigmaman is a homo like mitt romney is. \n",
      "User:Enigmaman is a homo like mitt romney is.== User:NHRHS2010 is a homo like mitt romney is. ==\n",
      "User:NHRHS2010 is a homo like mitt romney is.\n",
      " User:Enigmaman is a homo like mitt romney is. \n",
      "User:Enigmaman is a homo like mitt romney is.== User:NHRHS2010 is a homo like mitt romney is. ==\n",
      "User:NHRHS2010 is a homo like mitt romney is.\n",
      " User:Enigmaman is a homo like mitt romney is. \n",
      "User:Enigmaman is a homo like mitt romney is.== User:NHRHS2010 is a homo like mitt romney is. ==\n",
      "User:NHRHS2010 is a homo like mitt romney is.\n",
      " User:Enigmaman is a homo like mitt romney is. \n",
      "User:Enigmaman is a homo like mitt romney is.== User:NHRHS2010 is a homo like mitt romney is. ==\n",
      "User:NHRHS2010 is a homo like mitt romney is.\n",
      " User:Enigmaman is a homo like mitt romney is. \n",
      "User:Enigmaman is a homo like mitt romney is.== User:NHRHS2010 is a homo like mitt romney is. ==\n",
      "User:NHRHS2010 is a homo like mitt romney is.\n",
      " User:Enigmaman is a homo like mitt romney is. \n",
      "User:Enigmaman is a homo like mitt romney is.== User:NHRHS2010 is a homo like mitt romney is. ==\n",
      "User:NHRHS2010 is a homo like mitt romney is.\n",
      " User:Enigmaman is a homo like mitt romney is. \n",
      "User:Enigmaman is a homo like mitt romney is.== User:NHRHS2010 is a homo like mitt romney is. ==\n",
      "User:NHRHS2010 is a homo like mitt romney is.\n",
      " User:Enigmaman is a homo like mitt romney is. \n",
      "User:Enigmaman is a homo like mitt romney is.== User:NHRHS2010 is a homo like mitt romney is. ==\n",
      "User:NHRHS2010 is a homo like mitt romney is.\n",
      " User:Enigmaman is a homo like mitt romney is. \n",
      "User:Enigmaman is a homo like mitt romney is.== User:NHRHS2010 is a homo like mitt romney is. ==\n",
      "User:NHRHS2010 is a homo like mitt romney is.\n",
      " User:Enigmaman is a homo like mitt romney is. \n",
      "User:Enigmaman is a homo like mitt romney is.== User:NHRHS2010 is a homo like mitt romney is. ==\n",
      "User:NHRHS2010 is a homo like mitt romney is.\n",
      " User:Enigmaman is a homo like mitt romney is. \n",
      "User:Enigmaman is a homo like mitt romney is.== User:NHRHS2010 is a homo like mitt romney is. ==\n",
      "User:NHRHS2010 is a homo like mitt romney is.\n",
      " User:Enigmaman is a homo like mitt romney is. \n",
      "User:Enigmaman is a homo like mitt romney is.== User:NHRHS2010 is a homo like mitt romney is. ==\n",
      "User:NHRHS2010 is a homo like mitt romney is.\n",
      " User:Enigmaman is a homo like mitt romney is. \n",
      "User:Enigmaman is a homo like mitt romney is.== User:NHRHS2010 is a homo like mitt romney is. ==\n",
      "User:NHRHS2010 is a homo like mitt romney is.\n",
      " User:Enigmaman is a homo like mitt romney is. \n",
      "User:Enigmaman is a homo like mitt romney is.== User:NHRHS2010 is a homo like mitt romney is. ==\n",
      "User:NHRHS2010 is a homo like mitt romney is.\n",
      " User:Enigmaman is a homo like mitt romney is. \n",
      "User:Enigmaman is a homo like mitt romney is.== User:NHRHS2010 is a homo like mitt romney is. ==\n",
      "User:NHRHS2010 is a homo like mitt romney is.\n",
      " User:Enigmaman is a homo like mitt romney is. \n",
      "User:Enigmaman is a homo like mitt romney is.== User:NHRHS2010 is a homo like mitt romney is. ==\n",
      "User:NHRHS2010 is a homo like mitt romney is.\n",
      " User:Enigmaman is a homo like mitt romney is. \n",
      "User:Enigmaman is a homo like mitt romney is.== User:NHRHS2010 is a homo like mitt romney is. ==\n",
      "User:NHRHS2010 is a homo like mitt romney is.\n",
      " User:Enigmaman is a homo like mitt romney is. \n",
      "User:Enigmaman is a homo like mitt romney is.== User:NHRHS2010 is a homo like mitt romney is. ==\n",
      "User:NHRHS2010 is a homo like mitt romney is.\n",
      " User:Enigmaman is a homo like mitt romney is. \n",
      "User:Enigmaman is a homo like mitt romney is.== User:NHRHS2010 is a homo like mitt romney is. ==\n",
      "User:NHRHS2010 is a homo like mitt romney is.\n",
      " User:Enigmaman is a homo like mitt romney is. \n",
      "User:Enigmaman is a homo like mitt romney is.== User:NHRHS2010 is a homo like mitt romney is. ==\n",
      "User:NHRHS2010 is a homo like mitt romney is.\n",
      " User:Enigmaman is a homo like mitt romney is. NEWL\n"
     ]
    }
   ],
   "source": [
    "print(\"Clean Spam example:\")\n",
    "print(spammers[spammers.clean==1].comment_text.iloc[1])\n",
    "print(\"Toxic Spam example:\")\n",
    "print(spammers[spammers.toxic==1].comment_text.iloc[2])"
   ]
  },
  {
   "cell_type": "markdown",
   "metadata": {
    "_cell_guid": "2473e0d6-c225-4795-b3a0-30ff3d36e9fe",
    "_uuid": "a078906de353ef7f8f41ff13c3d75881f8c5b1ee"
   },
   "source": [
    "# Spam is toxic to the model too!\n",
    "\n",
    "These spam entries are bad if we design our model to contain normal word counts features.\n",
    "Imagine the scenario in which our model picked up the words \"mitt romney\" from any comment and classified it as toxic :(\n"
   ]
  },
  {
   "cell_type": "markdown",
   "metadata": {
    "_cell_guid": "b1b006df-6229-4a32-9d68-112e6dee72a5",
    "_uuid": "2108f5575a7a16a528d80eb97d5c6a2ed0c10f79"
   },
   "source": [
    "# Leaky features\n",
    "**Caution:** Even-though including these features might help us perform better in this particular scenario, it will not make sence to add them in the final model/general purpose model.\n",
    "\n",
    "Here we are creating our own custom count vectorizer to create count variables that match our regex condition.\n"
   ]
  },
  {
   "cell_type": "code",
   "execution_count": 59,
   "metadata": {
    "_cell_guid": "0a32bebf-653c-4549-ab20-999bb2a04b74",
    "_uuid": "25434ef58124c131e57f88626d3ad5ed6a6d22ab"
   },
   "outputs": [
    {
     "name": "stdout",
     "output_type": "stream",
     "text": [
      "(312735, 21)\n",
      "                 id                                       comment_text  \\\n",
      "0  0000997932d777bf  Explanation\\nWhy the edits made under my usern...   \n",
      "1  000103f0d9cfb60f  D'aww! He matches this background colour I'm s...   \n",
      "2  000113f07ec002fd  Hey man, I'm really not trying to edit war. It...   \n",
      "3  0001b41b1c6bb37e  \"\\nMore\\nI can't make any real suggestions on ...   \n",
      "4  0001d958c54c6e35  You, sir, are my hero. Any chance you remember...   \n",
      "\n",
      "   count_sent  count_word  count_unique_word  count_letters  \\\n",
      "0           2          43                 41            264   \n",
      "1           1          17                 17            112   \n",
      "2           1          42                 39            233   \n",
      "3           5         113                 82            622   \n",
      "4           1          13                 13             67   \n",
      "\n",
      "   count_punctuations  count_words_upper  count_words_title  count_stopwords  \\\n",
      "0                  10                  2                 11               18   \n",
      "1                  12                  1                  3                2   \n",
      "2                   6                  0                  2               20   \n",
      "3                  21                  5                  7               56   \n",
      "4                   5                  0                  2                5   \n",
      "\n",
      "        ...        word_unique_percent  punct_percent              ip  \\\n",
      "0       ...                  95.348837      23.255814  [89.205.38.27]   \n",
      "1       ...                 100.000000      70.588235              []   \n",
      "2       ...                  92.857143      14.285714              []   \n",
      "3       ...                  72.566372      18.584071              []   \n",
      "4       ...                 100.000000      38.461538              []   \n",
      "\n",
      "  count_ip  link count_links  article_id article_id_flag  username  \\\n",
      "0        1    []           0          []               0        []   \n",
      "1        0    []           0          []               0        []   \n",
      "2        0    []           0          []               0        []   \n",
      "3        0    []           0          []               0        []   \n",
      "4        0    []           0          []               0        []   \n",
      "\n",
      "  count_usernames  \n",
      "0               0  \n",
      "1               0  \n",
      "2               0  \n",
      "3               0  \n",
      "4               0  \n",
      "\n",
      "[5 rows x 21 columns]\n"
     ]
    }
   ],
   "source": [
    "#Leaky features\n",
    "df['ip']=df[\"comment_text\"].apply(lambda x: re.findall(\"\\d{1,3}\\.\\d{1,3}\\.\\d{1,3}\\.\\d{1,3}\",str(x)))\n",
    "#count of ip addresses\n",
    "df['count_ip']=df[\"ip\"].apply(lambda x: len(x))\n",
    "\n",
    "#links\n",
    "df['link']=df[\"comment_text\"].apply(lambda x: re.findall(\"http://.*com\",str(x)))\n",
    "#count of links\n",
    "df['count_links']=df[\"link\"].apply(lambda x: len(x))\n",
    "\n",
    "#article ids\n",
    "df['article_id']=df[\"comment_text\"].apply(lambda x: re.findall(\"\\d:\\d\\d\\s{0,5}$\",str(x)))\n",
    "df['article_id_flag']=df.article_id.apply(lambda x: len(x))\n",
    "\n",
    "#username\n",
    "##              regex for     Match anything with [[User: ---------- ]]\n",
    "# regexp = re.compile(\"\\[\\[User:(.*)\\|\")\n",
    "df['username']=df[\"comment_text\"].apply(lambda x: re.findall(\"\\[\\[User(.*)\\|\",str(x)))\n",
    "#count of username mentions\n",
    "df['count_usernames']=df[\"username\"].apply(lambda x: len(x))\n",
    "#check if features are created\n",
    "#df.username[df.count_usernames>0]\n",
    "\n",
    "# Leaky Ip\n",
    "cv = CountVectorizer()\n",
    "count_feats_ip = cv.fit_transform(df[\"ip\"].apply(lambda x : str(x)))\n",
    "\n",
    "\n",
    "# Leaky usernames\n",
    "\n",
    "cv = CountVectorizer()\n",
    "count_feats_user = cv.fit_transform(df[\"username\"].apply(lambda x : str(x)))\n",
    "\n",
    "#print(df.shape)\n",
    "#print(df.head(5))"
   ]
  },
  {
   "cell_type": "code",
   "execution_count": 60,
   "metadata": {
    "_cell_guid": "d47b21ba-9697-44af-9ad9-403541d1f108",
    "_uuid": "ab0f81d44c939a02703757d9e54bbeceeeb58b37"
   },
   "outputs": [
    {
     "data": {
      "text/plain": [
       "'2010]]\\n[[User talk:Wikireader41/Archive4|Archive 5-Mar 15'"
      ]
     },
     "execution_count": 60,
     "metadata": {},
     "output_type": "execute_result"
    }
   ],
   "source": [
    "df[df.count_usernames!=0].comment_text.iloc[0]"
   ]
  },
  {
   "cell_type": "code",
   "execution_count": 61,
   "metadata": {
    "_cell_guid": "5634dd63-b5ef-482a-974b-d26adef3c3c7",
    "_uuid": "eee465721ef0de53399861a3118cbea9de2084b6"
   },
   "outputs": [
    {
     "data": {
      "text/plain": [
       "['destruction',\n",
       " 'diablo',\n",
       " 'diligent',\n",
       " 'dland',\n",
       " 'dlohcierekim',\n",
       " 'dodo',\n",
       " 'dominick',\n",
       " 'douglas',\n",
       " 'dpl',\n",
       " 'dr']"
      ]
     },
     "execution_count": 61,
     "metadata": {},
     "output_type": "execute_result"
    }
   ],
   "source": [
    "# check few names\n",
    "cv.get_feature_names()[120:130]"
   ]
  },
  {
   "cell_type": "markdown",
   "metadata": {
    "_cell_guid": "5aa04054-04f3-48ed-be6d-7f4a8e40c885",
    "_uuid": "5a3ecf31a965297e20b060a5992ec84f3b546dcc"
   },
   "source": [
    "# Leaky Feature Stability:\n",
    "Checking the re-occurance of leaky features to check their utility in predicting the test set. \n",
    "\n",
    "[Discussion on leaky feature stability](https://www.kaggle.com/jagangupta/stop-the-s-toxic-comments-eda#263577)\n",
    "\n"
   ]
  },
  {
   "cell_type": "code",
   "execution_count": 63,
   "metadata": {
    "_cell_guid": "c86bbaba-f7c1-414b-b943-76340dc50a60",
    "_uuid": "63a1e95e951ae76fb55871fb7a6dbf4e22a9682d",
    "collapsed": true
   },
   "outputs": [],
   "source": [
    "leaky_feats=df[[\"ip\",\"link\",\"article_id\",\"username\",\"count_ip\",\"count_links\",\"count_usernames\",\"article_id_flag\"]]\n",
    "leaky_feats_train=leaky_feats.iloc[:train.shape[0]]\n",
    "leaky_feats_test=leaky_feats.iloc[train.shape[0]:]"
   ]
  },
  {
   "cell_type": "code",
   "execution_count": 64,
   "metadata": {
    "_cell_guid": "2711e8d5-cfae-402e-906a-f677848018cc",
    "_uuid": "ac17caea13d780254ac967b7f3c3417cf1a7778b"
   },
   "outputs": [
    {
     "ename": "NameError",
     "evalue": "name 'venn' is not defined",
     "output_type": "error",
     "traceback": [
      "\u001b[0;31m---------------------------------------------------------------------------\u001b[0m",
      "\u001b[0;31mNameError\u001b[0m                                 Traceback (most recent call last)",
      "\u001b[0;32m<ipython-input-64-dfa3fa3959ce>\u001b[0m in \u001b[0;36m<module>\u001b[0;34m()\u001b[0m\n\u001b[1;32m      9\u001b[0m \u001b[0mcommon_ip_list\u001b[0m\u001b[0;34m=\u001b[0m\u001b[0mlist\u001b[0m\u001b[0;34m(\u001b[0m\u001b[0mset\u001b[0m\u001b[0;34m(\u001b[0m\u001b[0mtrain_ip_list\u001b[0m\u001b[0;34m)\u001b[0m\u001b[0;34m.\u001b[0m\u001b[0mintersection\u001b[0m\u001b[0;34m(\u001b[0m\u001b[0mtest_ip_list\u001b[0m\u001b[0;34m)\u001b[0m\u001b[0;34m)\u001b[0m\u001b[0;34m\u001b[0m\u001b[0m\n\u001b[1;32m     10\u001b[0m \u001b[0mplt\u001b[0m\u001b[0;34m.\u001b[0m\u001b[0mtitle\u001b[0m\u001b[0;34m(\u001b[0m\u001b[0;34m\"Common IP addresses\"\u001b[0m\u001b[0;34m)\u001b[0m\u001b[0;34m\u001b[0m\u001b[0m\n\u001b[0;32m---> 11\u001b[0;31m \u001b[0mvenn\u001b[0m\u001b[0;34m.\u001b[0m\u001b[0mvenn2\u001b[0m\u001b[0;34m(\u001b[0m\u001b[0msubsets\u001b[0m\u001b[0;34m=\u001b[0m\u001b[0;34m(\u001b[0m\u001b[0mlen\u001b[0m\u001b[0;34m(\u001b[0m\u001b[0mtrain_ip_list\u001b[0m\u001b[0;34m)\u001b[0m\u001b[0;34m,\u001b[0m\u001b[0mlen\u001b[0m\u001b[0;34m(\u001b[0m\u001b[0mtest_ip_list\u001b[0m\u001b[0;34m)\u001b[0m\u001b[0;34m,\u001b[0m\u001b[0mlen\u001b[0m\u001b[0;34m(\u001b[0m\u001b[0mcommon_ip_list\u001b[0m\u001b[0;34m)\u001b[0m\u001b[0;34m)\u001b[0m\u001b[0;34m,\u001b[0m\u001b[0mset_labels\u001b[0m\u001b[0;34m=\u001b[0m\u001b[0;34m(\u001b[0m\u001b[0;34m\"# of unique IP in train\"\u001b[0m\u001b[0;34m,\u001b[0m\u001b[0;34m\"# of unique IP in test\"\u001b[0m\u001b[0;34m)\u001b[0m\u001b[0;34m)\u001b[0m\u001b[0;34m\u001b[0m\u001b[0m\n\u001b[0m\u001b[1;32m     12\u001b[0m \u001b[0mplt\u001b[0m\u001b[0;34m.\u001b[0m\u001b[0mshow\u001b[0m\u001b[0;34m(\u001b[0m\u001b[0;34m)\u001b[0m\u001b[0;34m\u001b[0m\u001b[0m\n",
      "\u001b[0;31mNameError\u001b[0m: name 'venn' is not defined"
     ]
    },
    {
     "data": {
      "image/png": "[encoded data removed]",
      "text/plain": [
       "<matplotlib.figure.Figure at 0x7f904ddfc518>"
      ]
     },
     "metadata": {},
     "output_type": "display_data"
    }
   ],
   "source": [
    "#filterout the entries without ips\n",
    "train_ips=leaky_feats_train.ip[leaky_feats_train.count_ip!=0]\n",
    "test_ips=leaky_feats_test.ip[leaky_feats_test.count_ip!=0]\n",
    "#get the unique list of ips in test and train datasets\n",
    "train_ip_list=list(set([a for b in train_ips.tolist() for a in b]))\n",
    "test_ip_list=list(set([a for b in test_ips.tolist() for a in b]))\n",
    "\n",
    "# get common elements\n",
    "common_ip_list=list(set(train_ip_list).intersection(test_ip_list))\n",
    "plt.title(\"Common IP addresses\")\n",
    "venn.venn2(subsets=(len(train_ip_list),len(test_ip_list),len(common_ip_list)),set_labels=(\"# of unique IP in train\",\"# of unique IP in test\"))\n",
    "plt.show()"
   ]
  },
  {
   "cell_type": "code",
   "execution_count": 65,
   "metadata": {
    "_cell_guid": "13accd38-3a6c-4da3-9257-324ec6d3f91e",
    "_uuid": "17e793e5306063bc11d60a23c9f0340027798178"
   },
   "outputs": [
    {
     "ename": "NameError",
     "evalue": "name 'venn' is not defined",
     "output_type": "error",
     "traceback": [
      "\u001b[0;31m---------------------------------------------------------------------------\u001b[0m",
      "\u001b[0;31mNameError\u001b[0m                                 Traceback (most recent call last)",
      "\u001b[0;32m<ipython-input-65-503742e5c7b0>\u001b[0m in \u001b[0;36m<module>\u001b[0;34m()\u001b[0m\n\u001b[1;32m      9\u001b[0m \u001b[0mcommon_links_list\u001b[0m\u001b[0;34m=\u001b[0m\u001b[0mlist\u001b[0m\u001b[0;34m(\u001b[0m\u001b[0mset\u001b[0m\u001b[0;34m(\u001b[0m\u001b[0mtrain_links_list\u001b[0m\u001b[0;34m)\u001b[0m\u001b[0;34m.\u001b[0m\u001b[0mintersection\u001b[0m\u001b[0;34m(\u001b[0m\u001b[0mtest_links_list\u001b[0m\u001b[0;34m)\u001b[0m\u001b[0;34m)\u001b[0m\u001b[0;34m\u001b[0m\u001b[0m\n\u001b[1;32m     10\u001b[0m \u001b[0mplt\u001b[0m\u001b[0;34m.\u001b[0m\u001b[0mtitle\u001b[0m\u001b[0;34m(\u001b[0m\u001b[0;34m\"Common links\"\u001b[0m\u001b[0;34m)\u001b[0m\u001b[0;34m\u001b[0m\u001b[0m\n\u001b[0;32m---> 11\u001b[0;31m venn.venn2(subsets=(len(train_links_list),len(test_links_list),len(common_links_list)),\n\u001b[0m\u001b[1;32m     12\u001b[0m            set_labels=(\"# of unique links in train\",\"# of unique links in test\"))\n\u001b[1;32m     13\u001b[0m \u001b[0mplt\u001b[0m\u001b[0;34m.\u001b[0m\u001b[0mshow\u001b[0m\u001b[0;34m(\u001b[0m\u001b[0;34m)\u001b[0m\u001b[0;34m\u001b[0m\u001b[0m\n",
      "\u001b[0;31mNameError\u001b[0m: name 'venn' is not defined"
     ]
    },
    {
     "data": {
      "image/png": "[encoded data removed]",
      "text/plain": [
       "<matplotlib.figure.Figure at 0x7f9069f289b0>"
      ]
     },
     "metadata": {},
     "output_type": "display_data"
    }
   ],
   "source": [
    "#filterout the entries without links\n",
    "train_links=leaky_feats_train.link[leaky_feats_train.count_links!=0]\n",
    "test_links=leaky_feats_test.link[leaky_feats_test.count_links!=0]\n",
    "#get the unique list of ips in test and train datasets\n",
    "train_links_list=list(set([a for b in train_links.tolist() for a in b]))\n",
    "test_links_list=list(set([a for b in test_links.tolist() for a in b]))\n",
    "\n",
    "# get common elements\n",
    "common_links_list=list(set(train_links_list).intersection(test_links_list))\n",
    "plt.title(\"Common links\")\n",
    "venn.venn2(subsets=(len(train_links_list),len(test_links_list),len(common_links_list)),\n",
    "           set_labels=(\"# of unique links in train\",\"# of unique links in test\"))\n",
    "plt.show()"
   ]
  },
  {
   "cell_type": "code",
   "execution_count": 66,
   "metadata": {
    "_cell_guid": "feed1227-9b93-4376-a326-acd79a6e0281",
    "_uuid": "cdab51e8a5565dd5e95197018a9b67a53c4b4940"
   },
   "outputs": [
    {
     "ename": "NameError",
     "evalue": "name 'venn' is not defined",
     "output_type": "error",
     "traceback": [
      "\u001b[0;31m---------------------------------------------------------------------------\u001b[0m",
      "\u001b[0;31mNameError\u001b[0m                                 Traceback (most recent call last)",
      "\u001b[0;32m<ipython-input-66-fd75626136d4>\u001b[0m in \u001b[0;36m<module>\u001b[0;34m()\u001b[0m\n\u001b[1;32m      9\u001b[0m \u001b[0mcommon_users_list\u001b[0m\u001b[0;34m=\u001b[0m\u001b[0mlist\u001b[0m\u001b[0;34m(\u001b[0m\u001b[0mset\u001b[0m\u001b[0;34m(\u001b[0m\u001b[0mtrain_users_list\u001b[0m\u001b[0;34m)\u001b[0m\u001b[0;34m.\u001b[0m\u001b[0mintersection\u001b[0m\u001b[0;34m(\u001b[0m\u001b[0mtest_users_list\u001b[0m\u001b[0;34m)\u001b[0m\u001b[0;34m)\u001b[0m\u001b[0;34m\u001b[0m\u001b[0m\n\u001b[1;32m     10\u001b[0m \u001b[0mplt\u001b[0m\u001b[0;34m.\u001b[0m\u001b[0mtitle\u001b[0m\u001b[0;34m(\u001b[0m\u001b[0;34m\"Common usernames\"\u001b[0m\u001b[0;34m)\u001b[0m\u001b[0;34m\u001b[0m\u001b[0m\n\u001b[0;32m---> 11\u001b[0;31m venn.venn2(subsets=(len(train_users_list),len(test_users_list),len(common_users_list)),\n\u001b[0m\u001b[1;32m     12\u001b[0m            set_labels=(\"# of unique Usernames in train\",\"# of unique usernames in test\"))\n\u001b[1;32m     13\u001b[0m \u001b[0mplt\u001b[0m\u001b[0;34m.\u001b[0m\u001b[0mshow\u001b[0m\u001b[0;34m(\u001b[0m\u001b[0;34m)\u001b[0m\u001b[0;34m\u001b[0m\u001b[0m\n",
      "\u001b[0;31mNameError\u001b[0m: name 'venn' is not defined"
     ]
    },
    {
     "data": {
      "image/png": "[encoded data removed]",
      "text/plain": [
       "<matplotlib.figure.Figure at 0x7f904e7bf278>"
      ]
     },
     "metadata": {},
     "output_type": "display_data"
    }
   ],
   "source": [
    "#filterout the entries without users\n",
    "train_users=leaky_feats_train.username[leaky_feats_train.count_usernames!=0]\n",
    "test_users=leaky_feats_test.username[leaky_feats_test.count_usernames!=0]\n",
    "#get the unique list of ips in test and train datasets\n",
    "train_users_list=list(set([a for b in train_users.tolist() for a in b]))\n",
    "test_users_list=list(set([a for b in test_users.tolist() for a in b]))\n",
    "\n",
    "# get common elements\n",
    "common_users_list=list(set(train_users_list).intersection(test_users_list))\n",
    "plt.title(\"Common usernames\")\n",
    "venn.venn2(subsets=(len(train_users_list),len(test_users_list),len(common_users_list)),\n",
    "           set_labels=(\"# of unique Usernames in train\",\"# of unique usernames in test\"))\n",
    "plt.show()"
   ]
  },
  {
   "cell_type": "markdown",
   "metadata": {
    "_cell_guid": "6a9d791e-a40b-43a7-a049-2ae6822ebb86",
    "_uuid": "46daf7b9ae369b393281ba5b9213120982f799f9"
   },
   "source": [
    "The feature stability (aka) the reoccurance of train dataset usernames in the test dataset seems to be minimal. \n",
    "We can just use the intersection (eg) the common IPs/links for test and train in our feature engineering.\n",
    "\n",
    "Another usecase for the list of IPs would be to find out if they are a part of the [blocked IP list](https://en.wikipedia.org/wiki/Wikipedia:Database_reports/Indefinitely_blocked_IPs)"
   ]
  },
  {
   "cell_type": "code",
   "execution_count": 67,
   "metadata": {
    "_cell_guid": "3293defd-f8e8-4584-a237-5fb965ebf550",
    "_kg_hide-input": true,
    "_uuid": "ee2825b3889a62c64e2a74bc48aeab0d5d922cda",
    "collapsed": true
   },
   "outputs": [],
   "source": [
    "#https://en.wikipedia.org/wiki/Wikipedia:Database_reports/Indefinitely_blocked_IPs)\n",
    "\n",
    "blocked_ips=[\"216.102.6.176\",\n",
    "\"216.120.176.2\",\n",
    "\"203.25.150.5\",\n",
    "\"203.217.8.30\",\n",
    "\"66.90.101.58\",\n",
    "\"125.178.86.75\",\n",
    "\"210.15.217.194\",\n",
    "\"69.36.166.207\",\n",
    "\"213.25.24.253\",\n",
    "\"24.60.181.235\",\n",
    "\"71.204.14.32\",\n",
    "\"216.91.92.18\",\n",
    "\"212.219.2.4\",\n",
    "\"194.74.190.162\",\n",
    "\"64.15.152.246\",\n",
    "\"59.100.76.166\",\n",
    "\"146.145.221.129\",\n",
    "\"146.145.221.130\",\n",
    "\"74.52.44.34\",\n",
    "\"68.5.96.201\",\n",
    "\"65.184.176.45\",\n",
    "\"209.244.43.209\",\n",
    "\"82.46.9.168\",\n",
    "\"209.200.236.32\",\n",
    "\"209.200.229.181\",\n",
    "\"202.181.99.22\",\n",
    "\"220.233.226.170\",\n",
    "\"212.138.64.178\",\n",
    "\"220.233.227.249\",\n",
    "\"72.14.194.31\",\n",
    "\"72.249.45.0/24\",\n",
    "\"72.249.44.0/24\",\n",
    "\"80.175.39.213\",\n",
    "\"81.109.164.45\",\n",
    "\"64.157.15.0/24\",\n",
    "\"208.101.10.54\",\n",
    "\"216.157.200.254\",\n",
    "\"72.14.192.14\",\n",
    "\"204.122.16.13\",\n",
    "\"217.156.39.245\",\n",
    "\"210.11.188.16\",\n",
    "\"210.11.188.17\",\n",
    "\"210.11.188.18\",\n",
    "\"210.11.188.19\",\n",
    "\"210.11.188.20\",\n",
    "\"64.34.27.153\",\n",
    "\"209.68.139.150\",\n",
    "\"152.163.100.0/24\",\n",
    "\"65.175.48.2\",\n",
    "\"131.137.245.197\",\n",
    "\"131.137.245.199\",\n",
    "\"131.137.245.200\",\n",
    "\"64.233.172.37\",\n",
    "\"66.99.182.25\",\n",
    "\"67.43.21.12\",\n",
    "\"66.249.85.85\",\n",
    "\"65.175.134.11\",\n",
    "\"201.218.3.198\",\n",
    "\"193.213.85.12\",\n",
    "\"131.137.245.198\",\n",
    "\"83.138.189.74\",\n",
    "\"72.14.193.163\",\n",
    "\"66.249.84.69\",\n",
    "\"209.204.71.2\",\n",
    "\"80.217.153.189\",\n",
    "\"83.138.136.92\",\n",
    "\"83.138.136.91\",\n",
    "\"83.138.189.75\",\n",
    "\"83.138.189.76\",\n",
    "\"212.100.250.226\",\n",
    "\"212.100.250.225\",\n",
    "\"212.159.98.189\",\n",
    "\"87.242.116.201\",\n",
    "\"74.53.243.18\",\n",
    "\"213.219.59.96/27\",\n",
    "\"212.219.82.37\",\n",
    "\"203.38.149.226\",\n",
    "\"66.90.104.22\",\n",
    "\"125.16.137.130\",\n",
    "\"66.98.128.0/17\",\n",
    "\"217.33.236.2\",\n",
    "\"24.24.200.113\",\n",
    "\"152.22.0.254\",\n",
    "\"59.145.89.17\",\n",
    "\"71.127.224.0/20\",\n",
    "\"65.31.98.71\",\n",
    "\"67.53.130.69\",\n",
    "\"204.130.130.0/24\",\n",
    "\"72.14.193.164\",\n",
    "\"65.197.143.214\",\n",
    "\"202.60.95.235\",\n",
    "\"69.39.89.95\",\n",
    "\"88.80.215.14\",\n",
    "\"216.218.214.2\",\n",
    "\"81.105.175.201\",\n",
    "\"203.108.239.12\",\n",
    "\"74.220.207.168\",\n",
    "\"206.253.55.206\",\n",
    "\"206.253.55.207\",\n",
    "\"206.253.55.208\",\n",
    "\"206.253.55.209\",\n",
    "\"206.253.55.210\",\n",
    "\"66.64.56.194\",\n",
    "\"70.91.90.226\",\n",
    "\"209.60.205.96\",\n",
    "\"202.173.191.210\",\n",
    "\"169.241.10.83\",\n",
    "\"91.121.195.205\",\n",
    "\"216.70.136.88\",\n",
    "\"72.228.151.208\",\n",
    "\"66.197.167.120\",\n",
    "\"212.219.232.81\",\n",
    "\"208.86.225.40\",\n",
    "\"63.232.20.2\",\n",
    "\"206.219.189.8\",\n",
    "\"212.219.14.0/24\",\n",
    "\"165.228.71.6\",\n",
    "\"99.230.151.129\",\n",
    "\"72.91.11.99\",\n",
    "\"173.162.177.53\",\n",
    "\"60.242.166.182\",\n",
    "\"212.219.177.34\",\n",
    "\"12.104.27.5\",\n",
    "\"85.17.92.13\",\n",
    "\"91.198.174.192/27\",\n",
    "\"155.246.98.61\",\n",
    "\"71.244.123.63\",\n",
    "\"81.144.152.130\",\n",
    "\"198.135.70.1\",\n",
    "\"71.255.126.146\",\n",
    "\"74.180.82.59\",\n",
    "\"206.158.2.80\",\n",
    "\"64.251.53.34\",\n",
    "\"24.29.92.238\",\n",
    "\"76.254.235.105\",\n",
    "\"68.96.242.239\",\n",
    "\"203.202.234.226\",\n",
    "\"173.72.89.88\",\n",
    "\"87.82.229.195\",\n",
    "\"68.153.245.37\",\n",
    "\"216.240.128.0/19\",\n",
    "\"72.46.129.44\",\n",
    "\"66.91.35.165\",\n",
    "\"82.71.49.124\",\n",
    "\"69.132.171.231\",\n",
    "\"75.145.183.129\",\n",
    "\"194.80.20.237\",\n",
    "\"98.207.253.170\",\n",
    "\"76.16.222.162\",\n",
    "\"66.30.100.130\",\n",
    "\"96.22.29.23\",\n",
    "\"76.168.140.158\",\n",
    "\"202.131.166.252\",\n",
    "\"89.207.212.99\",\n",
    "\"81.169.155.246\",\n",
    "\"216.56.8.66\",\n",
    "\"206.15.235.10\",\n",
    "\"115.113.95.20\",\n",
    "\"204.209.59.11\",\n",
    "\"27.33.141.67\",\n",
    "\"41.4.65.162\",\n",
    "\"99.6.65.6\",\n",
    "\"60.234.239.169\",\n",
    "\"2620:0:862:101:0:0:2:0/124\",\n",
    "\"183.192.165.31\",\n",
    "\"50.68.6.12\",\n",
    "\"37.214.82.134\",\n",
    "\"96.50.0.230\",\n",
    "\"60.231.28.109\",\n",
    "\"64.90.240.50\",\n",
    "\"49.176.97.12\",\n",
    "\"209.80.150.137\",\n",
    "\"24.22.67.116\",\n",
    "\"206.180.81.2\",\n",
    "\"195.194.39.100\",\n",
    "\"87.41.52.6\",\n",
    "\"169.204.164.227\",\n",
    "\"50.137.55.117\",\n",
    "\"50.77.84.161\",\n",
    "\"90.202.230.247\",\n",
    "\"186.88.129.224\",\n",
    "\"2A02:EC80:101:0:0:0:2:0/124\",\n",
    "\"142.4.117.177\",\n",
    "\"86.40.105.198\",\n",
    "\"120.43.20.149\",\n",
    "\"198.199.64.0/18\",\n",
    "\"192.34.56.0/21\",\n",
    "\"192.81.208.0/20\",\n",
    "\"2604:A880:0:0:0:0:0:0/32\",\n",
    "\"108.72.107.229\",\n",
    "\"2602:306:CC2B:7000:41D3:B92D:731C:959D\",\n",
    "\"185.15.59.201\",\n",
    "\"180.149.1.229\",\n",
    "\"207.191.188.66\",\n",
    "\"210.22.63.92\",\n",
    "\"117.253.196.217\",\n",
    "\"119.160.119.172\",\n",
    "\"90.217.133.223\",\n",
    "\"194.83.8.3\",\n",
    "\"194.83.164.22\",\n",
    "\"217.23.228.149\",\n",
    "\"65.18.58.1\",\n",
    "\"168.11.15.2\",\n",
    "\"65.182.127.31\",\n",
    "\"207.106.153.252\",\n",
    "\"64.193.88.2\",\n",
    "\"152.26.71.2\",\n",
    "\"199.185.67.179\",\n",
    "\"117.90.240.73\",\n",
    "\"108.176.58.170\",\n",
    "\"195.54.40.28\",\n",
    "\"185.35.164.109\",\n",
    "\"192.185.0.0/16\",\n",
    "\"2605:E000:1605:C0C0:3D3D:A148:3039:71F1\",\n",
    "\"107.158.0.0/16\",\n",
    "\"85.159.232.0/21\",\n",
    "\"69.235.4.10\",\n",
    "\"86.176.166.206\",\n",
    "\"108.65.152.51\",\n",
    "\"10.4.1.0/24\",\n",
    "\"103.27.227.139\",\n",
    "\"188.55.31.191\",\n",
    "\"188.53.13.34\",\n",
    "\"176.45.58.252\",\n",
    "\"176.45.22.37\",\n",
    "\"24.251.44.140\",\n",
    "\"108.200.140.191\",\n",
    "\"117.177.169.4\",\n",
    "\"72.22.162.38\",\n",
    "\"24.106.242.82\",\n",
    "\"79.125.190.93\",\n",
    "\"107.178.200.1\",\n",
    "\"123.16.244.246\",\n",
    "\"83.228.167.87\",\n",
    "\"128.178.197.53\",\n",
    "\"14.139.172.18\",\n",
    "\"207.108.136.254\",\n",
    "\"184.152.17.217\",\n",
    "\"186.94.29.73\",\n",
    "\"217.200.199.2\",\n",
    "\"66.58.141.104\",\n",
    "\"166.182.81.30\",\n",
    "\"89.168.206.116\",\n",
    "\"92.98.163.145\",\n",
    "\"77.115.31.71\",\n",
    "\"178.36.118.74\",\n",
    "\"157.159.10.14\",\n",
    "\"103.5.212.139\",\n",
    "\"203.174.180.226\",\n",
    "\"69.123.252.95\",\n",
    "\"199.200.123.233\",\n",
    "\"121.45.89.82\",\n",
    "\"71.228.87.155\",\n",
    "\"68.189.67.92\",\n",
    "\"216.161.176.152\",\n",
    "\"98.17.30.139\",\n",
    "\"2600:1006:B124:84BD:0:0:0:103\",\n",
    "\"117.161.0.0/16\",\n",
    "\"12.166.68.34\",\n",
    "\"96.243.149.64\",\n",
    "\"74.143.90.218\",\n",
    "\"76.10.176.221\",\n",
    "\"104.250.128.0/19\",\n",
    "\"185.22.183.128/25\",\n",
    "\"89.105.194.64/26\",\n",
    "\"202.45.119.0/24\",\n",
    "\"73.9.140.64\",\n",
    "\"164.127.71.72\",\n",
    "\"50.160.129.2\",\n",
    "\"49.15.213.207\",\n",
    "\"83.7.192.0/18\",\n",
    "\"201.174.63.79\",\n",
    "\"2A02:C7D:4643:8F00:D09D:BE1:D2DE:BB1F\",\n",
    "\"125.60.195.230\",\n",
    "\"49.145.113.145\",\n",
    "\"168.18.160.134\",\n",
    "\"72.193.218.222\",\n",
    "\"199.216.164.10\",\n",
    "\"120.144.130.89\",\n",
    "\"104.130.67.208\",\n",
    "\"50.160.221.147\",\n",
    "\"163.47.141.50\",\n",
    "\"91.200.12.136\",\n",
    "\"83.222.0.0/19\",\n",
    "\"67.231.16.0/20\",\n",
    "\"72.231.0.196\",\n",
    "\"180.216.68.197\",\n",
    "\"183.160.178.135\",\n",
    "\"183.160.176.16\",\n",
    "\"24.25.221.150\",\n",
    "\"92.222.109.43\",\n",
    "\"142.134.243.215\",\n",
    "\"216.181.221.72\",\n",
    "\"113.205.170.110\",\n",
    "\"74.142.2.98\",\n",
    "\"192.235.8.3\",\n",
    "\"2402:4000:BBFC:36FC:E469:F2F0:9351:71A0\",\n",
    "\"80.244.81.191\",\n",
    "\"2607:FB90:1377:F765:D45D:46BF:81EA:9773\",\n",
    "\"2600:1009:B012:7D88:418B:54BA:FCBC:4584\",\n",
    "\"104.237.224.0/19\",\n",
    "\"2600:1008:B01B:E495:C05A:7DD3:926:E83C\",\n",
    "\"168.8.249.234\",\n",
    "\"162.211.179.36\",\n",
    "\"138.68.0.0/16\",\n",
    "\"145.236.37.195\",\n",
    "\"67.205.128.0/18\",\n",
    "\"2A02:C7D:2832:CE00:B914:19D6:948D:B37D\",\n",
    "\"107.77.203.212\",\n",
    "\"2607:FB90:65C:A136:D46F:23BA:87C2:3D10\",\n",
    "\"2A02:C7F:DE2F:7900:5D64:E991:FFF0:FA93\",\n",
    "\"82.23.32.186\",\n",
    "\"106.76.243.74\",\n",
    "\"82.33.48.223\",\n",
    "\"180.216.160.0/19\",\n",
    "\"94.102.184.35\",\n",
    "\"94.102.184.26\",\n",
    "\"109.92.162.54\",\n",
    "\"2600:8800:7180:BF00:4C27:4591:347C:736C\",\n",
    "\"178.41.186.50\",\n",
    "\"184.97.134.128\",\n",
    "\"176.221.32.0/22\",\n",
    "\"207.99.40.142\",\n",
    "\"109.97.241.134\",\n",
    "\"82.136.64.19\",\n",
    "\"91.236.74.119\",\n",
    "\"197.210.0.0/16\",\n",
    "\"173.230.128.0/19\",\n",
    "\"162.216.16.0/22\",\n",
    "\"80.111.222.211\",\n",
    "\"191.37.28.21\",\n",
    "\"124.124.103.194\",\n",
    "\"50.207.7.198\",\n",
    "\"220.233.131.98\",\n",
    "\"107.77.241.11\",\n",
    "\"68.112.39.0/27\",\n",
    "\"173.236.128.0/17\",\n",
    "\"49.49.240.24\",\n",
    "\"96.31.10.178\",\n",
    "\"50.251.229.75\"]\n"
   ]
  },
  {
   "cell_type": "code",
   "execution_count": 68,
   "metadata": {
    "_cell_guid": "424ce78f-d0fc-444a-a52e-fdf563d193cb",
    "_uuid": "306baf0a16900a0ec8d304d5ed636950d742f52f"
   },
   "outputs": [
    {
     "name": "stdout",
     "output_type": "stream",
     "text": [
      "There are 6 blocked IPs in train dataset\n",
      "There are 0 blocked IPs in test dataset\n"
     ]
    }
   ],
   "source": [
    "train_ip_list=list(set([a for b in train_ips.tolist() for a in b]))\n",
    "test_ip_list=list(set([a for b in test_ips.tolist() for a in b]))\n",
    "\n",
    "# get common elements\n",
    "blocked_ip_list_train=list(set(train_ip_list).intersection(blocked_ips))\n",
    "blocked_ip_list_test=list(set(test_ip_list).intersection(blocked_ips))\n",
    "\n",
    "print(\"There are\",len(blocked_ip_list_train),\"blocked IPs in train dataset\")\n",
    "print(\"There are\",len(blocked_ip_list_test),\"blocked IPs in test dataset\")"
   ]
  },
  {
   "cell_type": "markdown",
   "metadata": {
    "_cell_guid": "e2f08966-f2d2-41a8-9d5a-0947271f3751",
    "_uuid": "3f063125dd70fef845e6c42905e6113c932bc301"
   },
   "source": [
    "An interesting but somewhat insignificant finding. There are 6 blocked IP mentions in the comments overall. \n",
    "\n",
    "Anyways, moving on to cleaning the dataset."
   ]
  },
  {
   "cell_type": "code",
   "execution_count": 69,
   "metadata": {
    "_cell_guid": "a2c9fd43-d973-4729-9410-4ffb9d5c7d85",
    "_uuid": "89f23d9612f9a6a9208dfc7672ce7e08df5624db"
   },
   "outputs": [
    {
     "name": "stdout",
     "output_type": "stream",
     "text": [
      "total time till Leaky feats 8881.539535045624\n"
     ]
    }
   ],
   "source": [
    "end_time=time.time()\n",
    "print(\"total time till Leaky feats\",end_time-start_time)"
   ]
  },
  {
   "cell_type": "markdown",
   "metadata": {
    "_cell_guid": "6ede73e4-8f08-4a24-8616-138ad6c9e771",
    "_uuid": "4d56a85191de5bd335e99d045c0b94315683dfa5"
   },
   "source": [
    "# Corpus cleaning:\n",
    "\n",
    "Its important to use a clean dataset before creating count features. "
   ]
  },
  {
   "cell_type": "code",
   "execution_count": 70,
   "metadata": {
    "_cell_guid": "18ecbb15-dfad-4263-9d54-9b335d866495",
    "_uuid": "7f93aed2e5fb005871b4b302681411cdfc4d7ede",
    "collapsed": true
   },
   "outputs": [],
   "source": [
    "corpus=merge.comment_text"
   ]
  },
  {
   "cell_type": "code",
   "execution_count": 71,
   "metadata": {
    "_cell_guid": "a2718f9a-ab5e-43c9-a807-62dfd136653e",
    "_kg_hide-input": true,
    "_kg_hide-output": true,
    "_uuid": "512d130b7a29afc61a60aa22769df7f72e3b1995",
    "collapsed": true
   },
   "outputs": [],
   "source": [
    "#https://drive.google.com/file/d/0B1yuv8YaUVlZZ1RzMFJmc1ZsQmM/view\n",
    "# Aphost lookup dict\n",
    "APPO = {\n",
    "\"aren't\" : \"are not\",\n",
    "\"can't\" : \"cannot\",\n",
    "\"couldn't\" : \"could not\",\n",
    "\"didn't\" : \"did not\",\n",
    "\"doesn't\" : \"does not\",\n",
    "\"don't\" : \"do not\",\n",
    "\"hadn't\" : \"had not\",\n",
    "\"hasn't\" : \"has not\",\n",
    "\"haven't\" : \"have not\",\n",
    "\"he'd\" : \"he would\",\n",
    "\"he'll\" : \"he will\",\n",
    "\"he's\" : \"he is\",\n",
    "\"i'd\" : \"I would\",\n",
    "\"i'd\" : \"I had\",\n",
    "\"i'll\" : \"I will\",\n",
    "\"i'm\" : \"I am\",\n",
    "\"isn't\" : \"is not\",\n",
    "\"it's\" : \"it is\",\n",
    "\"it'll\":\"it will\",\n",
    "\"i've\" : \"I have\",\n",
    "\"let's\" : \"let us\",\n",
    "\"mightn't\" : \"might not\",\n",
    "\"mustn't\" : \"must not\",\n",
    "\"shan't\" : \"shall not\",\n",
    "\"she'd\" : \"she would\",\n",
    "\"she'll\" : \"she will\",\n",
    "\"she's\" : \"she is\",\n",
    "\"shouldn't\" : \"should not\",\n",
    "\"that's\" : \"that is\",\n",
    "\"there's\" : \"there is\",\n",
    "\"they'd\" : \"they would\",\n",
    "\"they'll\" : \"they will\",\n",
    "\"they're\" : \"they are\",\n",
    "\"they've\" : \"they have\",\n",
    "\"we'd\" : \"we would\",\n",
    "\"we're\" : \"we are\",\n",
    "\"weren't\" : \"were not\",\n",
    "\"we've\" : \"we have\",\n",
    "\"what'll\" : \"what will\",\n",
    "\"what're\" : \"what are\",\n",
    "\"what's\" : \"what is\",\n",
    "\"what've\" : \"what have\",\n",
    "\"where's\" : \"where is\",\n",
    "\"who'd\" : \"who would\",\n",
    "\"who'll\" : \"who will\",\n",
    "\"who're\" : \"who are\",\n",
    "\"who's\" : \"who is\",\n",
    "\"who've\" : \"who have\",\n",
    "\"won't\" : \"will not\",\n",
    "\"wouldn't\" : \"would not\",\n",
    "\"you'd\" : \"you would\",\n",
    "\"you'll\" : \"you will\",\n",
    "\"you're\" : \"you are\",\n",
    "\"you've\" : \"you have\",\n",
    "\"'re\": \" are\",\n",
    "\"wasn't\": \"was not\",\n",
    "\"we'll\":\" will\",\n",
    "\"didn't\": \"did not\",\n",
    "\"tryin'\":\"trying\"\n",
    "}"
   ]
  },
  {
   "cell_type": "code",
   "execution_count": 72,
   "metadata": {
    "_cell_guid": "a318c92f-75e1-4822-a438-462133d6a9bf",
    "_uuid": "d43a9ceeb372635dad0c1d6d5c78ebc671c00597",
    "collapsed": true
   },
   "outputs": [],
   "source": [
    "def clean(comment):\n",
    "    \"\"\"\n",
    "    This function receives comments and returns clean word-list\n",
    "    \"\"\"\n",
    "    #Convert to lower case , so that Hi and hi are the same\n",
    "    comment=comment.lower()\n",
    "    #remove \\n\n",
    "    comment=re.sub(\"\\\\n\",\"\",comment)\n",
    "    # remove leaky elements like ip,user\n",
    "    comment=re.sub(\"\\d{1,3}\\.\\d{1,3}\\.\\d{1,3}\\.\\d{1,3}\",\"\",comment)\n",
    "    #removing usernames\n",
    "    comment=re.sub(\"\\[\\[.*\\]\",\"\",comment)\n",
    "    \n",
    "    #Split the sentences itokenizento words\n",
    "    words=tokenizer.tokenize(comment)\n",
    "    \n",
    "    # (')aphostophe  replacement (ie)   you're --> you are  \n",
    "    # ( basic dictionary lookup : master dictionary present in a hidden block of code)\n",
    "    words=[APPO[word] if word in APPO else word for word in words]\n",
    "    words=[lem.lemmatize(word, \"v\") for word in words]\n",
    "    words = [w for w in words if not w in eng_stopwords]\n",
    "    \n",
    "    clean_sent=\" \".join(words)\n",
    "    # remove any non alphanum,digit character\n",
    "    #clean_sent=re.sub(\"\\W+\",\" \",clean_sent)\n",
    "    #clean_sent=re.sub(\"  \",\" \",clean_sent)\n",
    "    return(clean_sent)"
   ]
  },
  {
   "cell_type": "code",
   "execution_count": 73,
   "metadata": {
    "_cell_guid": "01622089-ad76-495a-91fe-4ee6419ab323",
    "_uuid": "31c43f18a851a470f0de6e4774fa62c66030dbae"
   },
   "outputs": [
    {
     "data": {
      "text/plain": [
       "'\"\\n\\n NOTE If you read above, and follow the links, any reader can see that I cited correctly the links I added on this subject. Vidkun has added anotations to make them read as the oposite, but these links show the \"\"official\"\" line taken by UGLE. I will not be trapped by any User into so-called 3RR, so he can peddle his POV. Strangly, ALL other \"\"MASONS\"\" are quiet, leaving ‘‘me’’ to defend that factual truth on my own. \"\"Thanks\"\" Brethren. Sitting any blocking out if given...  \"'"
      ]
     },
     "execution_count": 73,
     "metadata": {},
     "output_type": "execute_result"
    }
   ],
   "source": [
    "corpus.iloc[12235]"
   ]
  },
  {
   "cell_type": "code",
   "execution_count": 74,
   "metadata": {
    "_cell_guid": "120bf502-26fa-4fd4-8653-1c0c8115063d",
    "_uuid": "7635ceb7bd20b714e128878cef878affda9e3e39"
   },
   "outputs": [
    {
     "ename": "LookupError",
     "evalue": "\n**********************************************************************\n  Resource 'corpora/wordnet' not found.  Please use the NLTK\n  Downloader to obtain the resource:  >>> nltk.download()\n  Searched in:\n    - '/home/osboxes/nltk_data'\n    - '/usr/share/nltk_data'\n    - '/usr/local/share/nltk_data'\n    - '/usr/lib/nltk_data'\n    - '/usr/local/lib/nltk_data'\n**********************************************************************",
     "output_type": "error",
     "traceback": [
      "\u001b[0;31m---------------------------------------------------------------------------\u001b[0m",
      "\u001b[0;31mLookupError\u001b[0m                               Traceback (most recent call last)",
      "\u001b[0;32m~/anaconda3/lib/python3.6/site-packages/nltk/corpus/util.py\u001b[0m in \u001b[0;36m__load\u001b[0;34m(self)\u001b[0m\n\u001b[1;32m     79\u001b[0m             \u001b[0;32mexcept\u001b[0m \u001b[0mLookupError\u001b[0m \u001b[0;32mas\u001b[0m \u001b[0me\u001b[0m\u001b[0;34m:\u001b[0m\u001b[0;34m\u001b[0m\u001b[0m\n\u001b[0;32m---> 80\u001b[0;31m                 \u001b[0;32mtry\u001b[0m\u001b[0;34m:\u001b[0m \u001b[0mroot\u001b[0m \u001b[0;34m=\u001b[0m \u001b[0mnltk\u001b[0m\u001b[0;34m.\u001b[0m\u001b[0mdata\u001b[0m\u001b[0;34m.\u001b[0m\u001b[0mfind\u001b[0m\u001b[0;34m(\u001b[0m\u001b[0;34m'{}/{}'\u001b[0m\u001b[0;34m.\u001b[0m\u001b[0mformat\u001b[0m\u001b[0;34m(\u001b[0m\u001b[0mself\u001b[0m\u001b[0;34m.\u001b[0m\u001b[0msubdir\u001b[0m\u001b[0;34m,\u001b[0m \u001b[0mzip_name\u001b[0m\u001b[0;34m)\u001b[0m\u001b[0;34m)\u001b[0m\u001b[0;34m\u001b[0m\u001b[0m\n\u001b[0m\u001b[1;32m     81\u001b[0m                 \u001b[0;32mexcept\u001b[0m \u001b[0mLookupError\u001b[0m\u001b[0;34m:\u001b[0m \u001b[0;32mraise\u001b[0m \u001b[0me\u001b[0m\u001b[0;34m\u001b[0m\u001b[0m\n",
      "\u001b[0;32m~/anaconda3/lib/python3.6/site-packages/nltk/data.py\u001b[0m in \u001b[0;36mfind\u001b[0;34m(resource_name, paths)\u001b[0m\n\u001b[1;32m    652\u001b[0m     \u001b[0mresource_not_found\u001b[0m \u001b[0;34m=\u001b[0m \u001b[0;34m'\\n%s\\n%s\\n%s'\u001b[0m \u001b[0;34m%\u001b[0m \u001b[0;34m(\u001b[0m\u001b[0msep\u001b[0m\u001b[0;34m,\u001b[0m \u001b[0mmsg\u001b[0m\u001b[0;34m,\u001b[0m \u001b[0msep\u001b[0m\u001b[0;34m)\u001b[0m\u001b[0;34m\u001b[0m\u001b[0m\n\u001b[0;32m--> 653\u001b[0;31m     \u001b[0;32mraise\u001b[0m \u001b[0mLookupError\u001b[0m\u001b[0;34m(\u001b[0m\u001b[0mresource_not_found\u001b[0m\u001b[0;34m)\u001b[0m\u001b[0;34m\u001b[0m\u001b[0m\n\u001b[0m\u001b[1;32m    654\u001b[0m \u001b[0;34m\u001b[0m\u001b[0m\n",
      "\u001b[0;31mLookupError\u001b[0m: \n**********************************************************************\n  Resource 'corpora/wordnet.zip/wordnet/' not found.  Please use\n  the NLTK Downloader to obtain the resource:  >>> nltk.download()\n  Searched in:\n    - '/home/osboxes/nltk_data'\n    - '/usr/share/nltk_data'\n    - '/usr/local/share/nltk_data'\n    - '/usr/lib/nltk_data'\n    - '/usr/local/lib/nltk_data'\n**********************************************************************",
      "\nDuring handling of the above exception, another exception occurred:\n",
      "\u001b[0;31mLookupError\u001b[0m                               Traceback (most recent call last)",
      "\u001b[0;32m<ipython-input-74-ad89e7061935>\u001b[0m in \u001b[0;36m<module>\u001b[0;34m()\u001b[0m\n\u001b[0;32m----> 1\u001b[0;31m \u001b[0mclean\u001b[0m\u001b[0;34m(\u001b[0m\u001b[0mcorpus\u001b[0m\u001b[0;34m.\u001b[0m\u001b[0miloc\u001b[0m\u001b[0;34m[\u001b[0m\u001b[0;36m12235\u001b[0m\u001b[0;34m]\u001b[0m\u001b[0;34m)\u001b[0m\u001b[0;34m\u001b[0m\u001b[0m\n\u001b[0m",
      "\u001b[0;32m<ipython-input-72-53eca79248d2>\u001b[0m in \u001b[0;36mclean\u001b[0;34m(comment)\u001b[0m\n\u001b[1;32m     18\u001b[0m     \u001b[0;31m# ( basic dictionary lookup : master dictionary present in a hidden block of code)\u001b[0m\u001b[0;34m\u001b[0m\u001b[0;34m\u001b[0m\u001b[0m\n\u001b[1;32m     19\u001b[0m     \u001b[0mwords\u001b[0m\u001b[0;34m=\u001b[0m\u001b[0;34m[\u001b[0m\u001b[0mAPPO\u001b[0m\u001b[0;34m[\u001b[0m\u001b[0mword\u001b[0m\u001b[0;34m]\u001b[0m \u001b[0;32mif\u001b[0m \u001b[0mword\u001b[0m \u001b[0;32min\u001b[0m \u001b[0mAPPO\u001b[0m \u001b[0;32melse\u001b[0m \u001b[0mword\u001b[0m \u001b[0;32mfor\u001b[0m \u001b[0mword\u001b[0m \u001b[0;32min\u001b[0m \u001b[0mwords\u001b[0m\u001b[0;34m]\u001b[0m\u001b[0;34m\u001b[0m\u001b[0m\n\u001b[0;32m---> 20\u001b[0;31m     \u001b[0mwords\u001b[0m\u001b[0;34m=\u001b[0m\u001b[0;34m[\u001b[0m\u001b[0mlem\u001b[0m\u001b[0;34m.\u001b[0m\u001b[0mlemmatize\u001b[0m\u001b[0;34m(\u001b[0m\u001b[0mword\u001b[0m\u001b[0;34m,\u001b[0m \u001b[0;34m\"v\"\u001b[0m\u001b[0;34m)\u001b[0m \u001b[0;32mfor\u001b[0m \u001b[0mword\u001b[0m \u001b[0;32min\u001b[0m \u001b[0mwords\u001b[0m\u001b[0;34m]\u001b[0m\u001b[0;34m\u001b[0m\u001b[0m\n\u001b[0m\u001b[1;32m     21\u001b[0m     \u001b[0mwords\u001b[0m \u001b[0;34m=\u001b[0m \u001b[0;34m[\u001b[0m\u001b[0mw\u001b[0m \u001b[0;32mfor\u001b[0m \u001b[0mw\u001b[0m \u001b[0;32min\u001b[0m \u001b[0mwords\u001b[0m \u001b[0;32mif\u001b[0m \u001b[0;32mnot\u001b[0m \u001b[0mw\u001b[0m \u001b[0;32min\u001b[0m \u001b[0meng_stopwords\u001b[0m\u001b[0;34m]\u001b[0m\u001b[0;34m\u001b[0m\u001b[0m\n\u001b[1;32m     22\u001b[0m \u001b[0;34m\u001b[0m\u001b[0m\n",
      "\u001b[0;32m<ipython-input-72-53eca79248d2>\u001b[0m in \u001b[0;36m<listcomp>\u001b[0;34m(.0)\u001b[0m\n\u001b[1;32m     18\u001b[0m     \u001b[0;31m# ( basic dictionary lookup : master dictionary present in a hidden block of code)\u001b[0m\u001b[0;34m\u001b[0m\u001b[0;34m\u001b[0m\u001b[0m\n\u001b[1;32m     19\u001b[0m     \u001b[0mwords\u001b[0m\u001b[0;34m=\u001b[0m\u001b[0;34m[\u001b[0m\u001b[0mAPPO\u001b[0m\u001b[0;34m[\u001b[0m\u001b[0mword\u001b[0m\u001b[0;34m]\u001b[0m \u001b[0;32mif\u001b[0m \u001b[0mword\u001b[0m \u001b[0;32min\u001b[0m \u001b[0mAPPO\u001b[0m \u001b[0;32melse\u001b[0m \u001b[0mword\u001b[0m \u001b[0;32mfor\u001b[0m \u001b[0mword\u001b[0m \u001b[0;32min\u001b[0m \u001b[0mwords\u001b[0m\u001b[0;34m]\u001b[0m\u001b[0;34m\u001b[0m\u001b[0m\n\u001b[0;32m---> 20\u001b[0;31m     \u001b[0mwords\u001b[0m\u001b[0;34m=\u001b[0m\u001b[0;34m[\u001b[0m\u001b[0mlem\u001b[0m\u001b[0;34m.\u001b[0m\u001b[0mlemmatize\u001b[0m\u001b[0;34m(\u001b[0m\u001b[0mword\u001b[0m\u001b[0;34m,\u001b[0m \u001b[0;34m\"v\"\u001b[0m\u001b[0;34m)\u001b[0m \u001b[0;32mfor\u001b[0m \u001b[0mword\u001b[0m \u001b[0;32min\u001b[0m \u001b[0mwords\u001b[0m\u001b[0;34m]\u001b[0m\u001b[0;34m\u001b[0m\u001b[0m\n\u001b[0m\u001b[1;32m     21\u001b[0m     \u001b[0mwords\u001b[0m \u001b[0;34m=\u001b[0m \u001b[0;34m[\u001b[0m\u001b[0mw\u001b[0m \u001b[0;32mfor\u001b[0m \u001b[0mw\u001b[0m \u001b[0;32min\u001b[0m \u001b[0mwords\u001b[0m \u001b[0;32mif\u001b[0m \u001b[0;32mnot\u001b[0m \u001b[0mw\u001b[0m \u001b[0;32min\u001b[0m \u001b[0meng_stopwords\u001b[0m\u001b[0;34m]\u001b[0m\u001b[0;34m\u001b[0m\u001b[0m\n\u001b[1;32m     22\u001b[0m \u001b[0;34m\u001b[0m\u001b[0m\n",
      "\u001b[0;32m~/anaconda3/lib/python3.6/site-packages/nltk/stem/wordnet.py\u001b[0m in \u001b[0;36mlemmatize\u001b[0;34m(self, word, pos)\u001b[0m\n\u001b[1;32m     38\u001b[0m \u001b[0;34m\u001b[0m\u001b[0m\n\u001b[1;32m     39\u001b[0m     \u001b[0;32mdef\u001b[0m \u001b[0mlemmatize\u001b[0m\u001b[0;34m(\u001b[0m\u001b[0mself\u001b[0m\u001b[0;34m,\u001b[0m \u001b[0mword\u001b[0m\u001b[0;34m,\u001b[0m \u001b[0mpos\u001b[0m\u001b[0;34m=\u001b[0m\u001b[0mNOUN\u001b[0m\u001b[0;34m)\u001b[0m\u001b[0;34m:\u001b[0m\u001b[0;34m\u001b[0m\u001b[0m\n\u001b[0;32m---> 40\u001b[0;31m         \u001b[0mlemmas\u001b[0m \u001b[0;34m=\u001b[0m \u001b[0mwordnet\u001b[0m\u001b[0;34m.\u001b[0m\u001b[0m_morphy\u001b[0m\u001b[0;34m(\u001b[0m\u001b[0mword\u001b[0m\u001b[0;34m,\u001b[0m \u001b[0mpos\u001b[0m\u001b[0;34m)\u001b[0m\u001b[0;34m\u001b[0m\u001b[0m\n\u001b[0m\u001b[1;32m     41\u001b[0m         \u001b[0;32mreturn\u001b[0m \u001b[0mmin\u001b[0m\u001b[0;34m(\u001b[0m\u001b[0mlemmas\u001b[0m\u001b[0;34m,\u001b[0m \u001b[0mkey\u001b[0m\u001b[0;34m=\u001b[0m\u001b[0mlen\u001b[0m\u001b[0;34m)\u001b[0m \u001b[0;32mif\u001b[0m \u001b[0mlemmas\u001b[0m \u001b[0;32melse\u001b[0m \u001b[0mword\u001b[0m\u001b[0;34m\u001b[0m\u001b[0m\n\u001b[1;32m     42\u001b[0m \u001b[0;34m\u001b[0m\u001b[0m\n",
      "\u001b[0;32m~/anaconda3/lib/python3.6/site-packages/nltk/corpus/util.py\u001b[0m in \u001b[0;36m__getattr__\u001b[0;34m(self, attr)\u001b[0m\n\u001b[1;32m    114\u001b[0m             \u001b[0;32mraise\u001b[0m \u001b[0mAttributeError\u001b[0m\u001b[0;34m(\u001b[0m\u001b[0;34m\"LazyCorpusLoader object has no attribute '__bases__'\"\u001b[0m\u001b[0;34m)\u001b[0m\u001b[0;34m\u001b[0m\u001b[0m\n\u001b[1;32m    115\u001b[0m \u001b[0;34m\u001b[0m\u001b[0m\n\u001b[0;32m--> 116\u001b[0;31m         \u001b[0mself\u001b[0m\u001b[0;34m.\u001b[0m\u001b[0m__load\u001b[0m\u001b[0;34m(\u001b[0m\u001b[0;34m)\u001b[0m\u001b[0;34m\u001b[0m\u001b[0m\n\u001b[0m\u001b[1;32m    117\u001b[0m         \u001b[0;31m# This looks circular, but its not, since __load() changes our\u001b[0m\u001b[0;34m\u001b[0m\u001b[0;34m\u001b[0m\u001b[0m\n\u001b[1;32m    118\u001b[0m         \u001b[0;31m# __class__ to something new:\u001b[0m\u001b[0;34m\u001b[0m\u001b[0;34m\u001b[0m\u001b[0m\n",
      "\u001b[0;32m~/anaconda3/lib/python3.6/site-packages/nltk/corpus/util.py\u001b[0m in \u001b[0;36m__load\u001b[0;34m(self)\u001b[0m\n\u001b[1;32m     79\u001b[0m             \u001b[0;32mexcept\u001b[0m \u001b[0mLookupError\u001b[0m \u001b[0;32mas\u001b[0m \u001b[0me\u001b[0m\u001b[0;34m:\u001b[0m\u001b[0;34m\u001b[0m\u001b[0m\n\u001b[1;32m     80\u001b[0m                 \u001b[0;32mtry\u001b[0m\u001b[0;34m:\u001b[0m \u001b[0mroot\u001b[0m \u001b[0;34m=\u001b[0m \u001b[0mnltk\u001b[0m\u001b[0;34m.\u001b[0m\u001b[0mdata\u001b[0m\u001b[0;34m.\u001b[0m\u001b[0mfind\u001b[0m\u001b[0;34m(\u001b[0m\u001b[0;34m'{}/{}'\u001b[0m\u001b[0;34m.\u001b[0m\u001b[0mformat\u001b[0m\u001b[0;34m(\u001b[0m\u001b[0mself\u001b[0m\u001b[0;34m.\u001b[0m\u001b[0msubdir\u001b[0m\u001b[0;34m,\u001b[0m \u001b[0mzip_name\u001b[0m\u001b[0;34m)\u001b[0m\u001b[0;34m)\u001b[0m\u001b[0;34m\u001b[0m\u001b[0m\n\u001b[0;32m---> 81\u001b[0;31m                 \u001b[0;32mexcept\u001b[0m \u001b[0mLookupError\u001b[0m\u001b[0;34m:\u001b[0m \u001b[0;32mraise\u001b[0m \u001b[0me\u001b[0m\u001b[0;34m\u001b[0m\u001b[0m\n\u001b[0m\u001b[1;32m     82\u001b[0m \u001b[0;34m\u001b[0m\u001b[0m\n\u001b[1;32m     83\u001b[0m         \u001b[0;31m# Load the corpus.\u001b[0m\u001b[0;34m\u001b[0m\u001b[0;34m\u001b[0m\u001b[0m\n",
      "\u001b[0;32m~/anaconda3/lib/python3.6/site-packages/nltk/corpus/util.py\u001b[0m in \u001b[0;36m__load\u001b[0;34m(self)\u001b[0m\n\u001b[1;32m     76\u001b[0m         \u001b[0;32melse\u001b[0m\u001b[0;34m:\u001b[0m\u001b[0;34m\u001b[0m\u001b[0m\n\u001b[1;32m     77\u001b[0m             \u001b[0;32mtry\u001b[0m\u001b[0;34m:\u001b[0m\u001b[0;34m\u001b[0m\u001b[0m\n\u001b[0;32m---> 78\u001b[0;31m                 \u001b[0mroot\u001b[0m \u001b[0;34m=\u001b[0m \u001b[0mnltk\u001b[0m\u001b[0;34m.\u001b[0m\u001b[0mdata\u001b[0m\u001b[0;34m.\u001b[0m\u001b[0mfind\u001b[0m\u001b[0;34m(\u001b[0m\u001b[0;34m'{}/{}'\u001b[0m\u001b[0;34m.\u001b[0m\u001b[0mformat\u001b[0m\u001b[0;34m(\u001b[0m\u001b[0mself\u001b[0m\u001b[0;34m.\u001b[0m\u001b[0msubdir\u001b[0m\u001b[0;34m,\u001b[0m \u001b[0mself\u001b[0m\u001b[0;34m.\u001b[0m\u001b[0m__name\u001b[0m\u001b[0;34m)\u001b[0m\u001b[0;34m)\u001b[0m\u001b[0;34m\u001b[0m\u001b[0m\n\u001b[0m\u001b[1;32m     79\u001b[0m             \u001b[0;32mexcept\u001b[0m \u001b[0mLookupError\u001b[0m \u001b[0;32mas\u001b[0m \u001b[0me\u001b[0m\u001b[0;34m:\u001b[0m\u001b[0;34m\u001b[0m\u001b[0m\n\u001b[1;32m     80\u001b[0m                 \u001b[0;32mtry\u001b[0m\u001b[0;34m:\u001b[0m \u001b[0mroot\u001b[0m \u001b[0;34m=\u001b[0m \u001b[0mnltk\u001b[0m\u001b[0;34m.\u001b[0m\u001b[0mdata\u001b[0m\u001b[0;34m.\u001b[0m\u001b[0mfind\u001b[0m\u001b[0;34m(\u001b[0m\u001b[0;34m'{}/{}'\u001b[0m\u001b[0;34m.\u001b[0m\u001b[0mformat\u001b[0m\u001b[0;34m(\u001b[0m\u001b[0mself\u001b[0m\u001b[0;34m.\u001b[0m\u001b[0msubdir\u001b[0m\u001b[0;34m,\u001b[0m \u001b[0mzip_name\u001b[0m\u001b[0;34m)\u001b[0m\u001b[0;34m)\u001b[0m\u001b[0;34m\u001b[0m\u001b[0m\n",
      "\u001b[0;32m~/anaconda3/lib/python3.6/site-packages/nltk/data.py\u001b[0m in \u001b[0;36mfind\u001b[0;34m(resource_name, paths)\u001b[0m\n\u001b[1;32m    651\u001b[0m     \u001b[0msep\u001b[0m \u001b[0;34m=\u001b[0m \u001b[0;34m'*'\u001b[0m \u001b[0;34m*\u001b[0m \u001b[0;36m70\u001b[0m\u001b[0;34m\u001b[0m\u001b[0m\n\u001b[1;32m    652\u001b[0m     \u001b[0mresource_not_found\u001b[0m \u001b[0;34m=\u001b[0m \u001b[0;34m'\\n%s\\n%s\\n%s'\u001b[0m \u001b[0;34m%\u001b[0m \u001b[0;34m(\u001b[0m\u001b[0msep\u001b[0m\u001b[0;34m,\u001b[0m \u001b[0mmsg\u001b[0m\u001b[0;34m,\u001b[0m \u001b[0msep\u001b[0m\u001b[0;34m)\u001b[0m\u001b[0;34m\u001b[0m\u001b[0m\n\u001b[0;32m--> 653\u001b[0;31m     \u001b[0;32mraise\u001b[0m \u001b[0mLookupError\u001b[0m\u001b[0;34m(\u001b[0m\u001b[0mresource_not_found\u001b[0m\u001b[0;34m)\u001b[0m\u001b[0;34m\u001b[0m\u001b[0m\n\u001b[0m\u001b[1;32m    654\u001b[0m \u001b[0;34m\u001b[0m\u001b[0m\n\u001b[1;32m    655\u001b[0m \u001b[0;34m\u001b[0m\u001b[0m\n",
      "\u001b[0;31mLookupError\u001b[0m: \n**********************************************************************\n  Resource 'corpora/wordnet' not found.  Please use the NLTK\n  Downloader to obtain the resource:  >>> nltk.download()\n  Searched in:\n    - '/home/osboxes/nltk_data'\n    - '/usr/share/nltk_data'\n    - '/usr/local/share/nltk_data'\n    - '/usr/lib/nltk_data'\n    - '/usr/local/lib/nltk_data'\n**********************************************************************"
     ]
    }
   ],
   "source": [
    "clean(corpus.iloc[12235])"
   ]
  },
  {
   "cell_type": "code",
   "execution_count": null,
   "metadata": {
    "_cell_guid": "500c7b8b-fdd2-4363-b054-7e0bc5a2aa49",
    "_uuid": "55417e63e1bc7588085f2aabc186b02d748a59c4",
    "collapsed": true
   },
   "outputs": [],
   "source": [
    "clean_corpus=corpus.apply(lambda x :clean(x))\n",
    "\n",
    "end_time=time.time()\n",
    "print(\"total time till Cleaning\",end_time-start_time)"
   ]
  },
  {
   "cell_type": "code",
   "execution_count": null,
   "metadata": {
    "_cell_guid": "f79356b1-ea18-4afd-9c70-7b058189108a",
    "_kg_hide-input": true,
    "_kg_hide-output": true,
    "_uuid": "430cc56e4c1b10ac1ee1b63ff8a7cd1c1d936a02",
    "collapsed": true
   },
   "outputs": [],
   "source": [
    "# To do next:\n",
    "# Slang lookup dictionary for sentiments\n",
    "#http://slangsd.com/data/SlangSD.zip\n",
    "#http://arxiv.org/abs/1608.05129\n",
    "# dict lookup \n",
    "#https://bytes.com/topic/python/answers/694819-regular-expression-dictionary-key-search\n"
   ]
  },
  {
   "cell_type": "markdown",
   "metadata": {
    "_cell_guid": "90055d89-d381-4c1e-b7e9-820660c2eb52",
    "_uuid": "cd5c9877d1443bfd3379b8f038c44af8cd5189fa"
   },
   "source": [
    "# Direct features:\n",
    "\n",
    "## 1)Count based features(for unigrams):\n",
    "Lets create some features based on frequency distribution of the words. Initially lets consider taking words one at a time (ie) Unigrams\n",
    "\n",
    "Python's SKlearn provides 3 ways of creating count features.All three of them first create a vocabulary(dictionary) of words and then create a [sparse matrix](#https://en.wikipedia.org/wiki/Sparse_matrix) of word counts for the words in the sentence that are present in the dictionary. A brief description of them:\n",
    "* CountVectorizer\n",
    "    * Creates a matrix with frequency counts of each word in the text corpus\n",
    "* TF-IDF Vectorizer\n",
    "    * TF - Term Frequency -- Count of the words(Terms) in the text corpus (same of Count Vect)\n",
    "    * IDF - Inverse Document Frequency -- Penalizes words that are too frequent. We can think of this as regularization\n",
    "* HashingVectorizer\n",
    "    * Creates a hashmap(word to number mapping based on hashing technique) instead of a dictionary for vocabulary\n",
    "    * This enables it to be more scalable and faster for larger text coprus\n",
    "    * Can be parallelized across multiple threads\n",
    "        \n",
    "Using TF-IDF here.\n",
    "Note: Using the concatenated dataframe \"merge\" which contains both text from train and test dataset to ensure that the vocabulary that we create does not missout on the words that are unique to testset."
   ]
  },
  {
   "cell_type": "code",
   "execution_count": null,
   "metadata": {
    "_cell_guid": "69cab7b5-0e40-4705-94e4-c68051ca5c25",
    "_kg_hide-input": true,
    "_uuid": "705d3d209428c1e0154645c802c74fdd6ec052c8",
    "collapsed": true
   },
   "outputs": [],
   "source": [
    "### Unigrams -- TF-IDF \n",
    "# using settings recommended here for TF-IDF -- https://www.kaggle.com/abhishek/approaching-almost-any-nlp-problem-on-kaggle\n",
    "\n",
    "#some detailed description of the parameters\n",
    "# min_df=10 --- ignore terms that appear lesser than 10 times \n",
    "# max_features=None  --- Create as many words as present in the text corpus\n",
    "    # changing max_features to 10k for memmory issues\n",
    "# analyzer='word'  --- Create features from words (alternatively char can also be used)\n",
    "# ngram_range=(1,1)  --- Use only one word at a time (unigrams)\n",
    "# strip_accents='unicode' -- removes accents\n",
    "# use_idf=1,smooth_idf=1 --- enable IDF\n",
    "# sublinear_tf=1   --- Apply sublinear tf scaling, i.e. replace tf with 1 + log(tf)\n",
    "\n",
    "\n",
    "#temp settings to min=200 to facilitate top features section to run in kernals\n",
    "#change back to min=10 to get better results\n",
    "start_unigrams=time.time()\n",
    "tfv = TfidfVectorizer(min_df=200,  max_features=10000, \n",
    "            strip_accents='unicode', analyzer='word',ngram_range=(1,1),\n",
    "            use_idf=1,smooth_idf=1,sublinear_tf=1,\n",
    "            stop_words = 'english')\n",
    "tfv.fit(clean_corpus)\n",
    "features = np.array(tfv.get_feature_names())\n",
    "\n",
    "train_unigrams =  tfv.transform(clean_corpus.iloc[:train.shape[0]])\n",
    "test_unigrams = tfv.transform(clean_corpus.iloc[train.shape[0]:])"
   ]
  },
  {
   "cell_type": "code",
   "execution_count": null,
   "metadata": {
    "_cell_guid": "e0caea47-da84-4be3-9a39-e36f6a0de8d9",
    "_kg_hide-input": true,
    "_kg_hide-output": true,
    "_uuid": "4464c37c1ca84a60735e255ee0a8fa3858e948e6",
    "collapsed": true
   },
   "outputs": [],
   "source": [
    "#https://buhrmann.github.io/tfidf-analysis.html\n",
    "def top_tfidf_feats(row, features, top_n=25):\n",
    "    ''' Get top n tfidf values in row and return them with their corresponding feature names.'''\n",
    "    topn_ids = np.argsort(row)[::-1][:top_n]\n",
    "    top_feats = [(features[i], row[i]) for i in topn_ids]\n",
    "    df = pd.DataFrame(top_feats)\n",
    "    df.columns = ['feature', 'tfidf']\n",
    "    return df\n",
    "\n",
    "def top_feats_in_doc(Xtr, features, row_id, top_n=25):\n",
    "    ''' Top tfidf features in specific document (matrix row) '''\n",
    "    row = np.squeeze(Xtr[row_id].toarray())\n",
    "    return top_tfidf_feats(row, features, top_n)\n",
    "\n",
    "def top_mean_feats(Xtr, features, grp_ids, min_tfidf=0.1, top_n=25):\n",
    "    ''' Return the top n features that on average are most important amongst documents in rows\n",
    "        indentified by indices in grp_ids. '''\n",
    "    \n",
    "    D = Xtr[grp_ids].toarray()\n",
    "\n",
    "    D[D < min_tfidf] = 0\n",
    "    tfidf_means = np.mean(D, axis=0)\n",
    "    return top_tfidf_feats(tfidf_means, features, top_n)\n",
    "\n",
    "# modified for multilabel milticlass\n",
    "def top_feats_by_class(Xtr, features, min_tfidf=0.1, top_n=20):\n",
    "    ''' Return a list of dfs, where each df holds top_n features and their mean tfidf value\n",
    "        calculated across documents with the same class label. '''\n",
    "    dfs = []\n",
    "    cols=train_tags.columns\n",
    "    for col in cols:\n",
    "        ids = train_tags.index[train_tags[col]==1]\n",
    "        feats_df = top_mean_feats(Xtr, features, ids, min_tfidf=min_tfidf, top_n=top_n)\n",
    "        feats_df.label = label\n",
    "        dfs.append(feats_df)\n",
    "    return dfs"
   ]
  },
  {
   "cell_type": "code",
   "execution_count": null,
   "metadata": {
    "_cell_guid": "64474aa3-a5b9-47c9-898d-111f85ff99b5",
    "_uuid": "b25110d443b1e78ae5ee57c48acf116e824ec49a",
    "collapsed": true
   },
   "outputs": [],
   "source": [
    "#get top n for unigrams\n",
    "tfidf_top_n_per_lass=top_feats_by_class(train_unigrams,features)\n",
    "\n",
    "end_unigrams=time.time()\n",
    "\n",
    "print(\"total time in unigrams\",end_unigrams-start_unigrams)\n",
    "print(\"total time till unigrams\",end_unigrams-start_time)\n"
   ]
  },
  {
   "cell_type": "code",
   "execution_count": null,
   "metadata": {
    "_cell_guid": "f72270c2-fd1a-4d55-9e9f-36b55ebc10fd",
    "_kg_hide-input": true,
    "_uuid": "8f424101c06cfae85add9517442ced9607e09a1e",
    "collapsed": true
   },
   "outputs": [],
   "source": [
    "plt.figure(figsize=(16,22))\n",
    "plt.suptitle(\"TF_IDF Top words per class(unigrams)\",fontsize=20)\n",
    "gridspec.GridSpec(4,2)\n",
    "plt.subplot2grid((4,2),(0,0))\n",
    "sns.barplot(tfidf_top_n_per_lass[0].feature.iloc[0:9],tfidf_top_n_per_lass[0].tfidf.iloc[0:9],color=color[0])\n",
    "plt.title(\"class : Toxic\",fontsize=15)\n",
    "plt.xlabel('Word', fontsize=12)\n",
    "plt.ylabel('TF-IDF score', fontsize=12)\n",
    "\n",
    "plt.subplot2grid((4,2),(0,1))\n",
    "sns.barplot(tfidf_top_n_per_lass[1].feature.iloc[0:9],tfidf_top_n_per_lass[1].tfidf.iloc[0:9],color=color[1])\n",
    "plt.title(\"class : Severe toxic\",fontsize=15)\n",
    "plt.xlabel('Word', fontsize=12)\n",
    "plt.ylabel('TF-IDF score', fontsize=12)\n",
    "\n",
    "\n",
    "plt.subplot2grid((4,2),(1,0))\n",
    "sns.barplot(tfidf_top_n_per_lass[2].feature.iloc[0:9],tfidf_top_n_per_lass[2].tfidf.iloc[0:9],color=color[2])\n",
    "plt.title(\"class : Obscene\",fontsize=15)\n",
    "plt.xlabel('Word', fontsize=12)\n",
    "plt.ylabel('TF-IDF score', fontsize=12)\n",
    "\n",
    "\n",
    "plt.subplot2grid((4,2),(1,1))\n",
    "sns.barplot(tfidf_top_n_per_lass[3].feature.iloc[0:9],tfidf_top_n_per_lass[3].tfidf.iloc[0:9],color=color[3])\n",
    "plt.title(\"class : Threat\",fontsize=15)\n",
    "plt.xlabel('Word', fontsize=12)\n",
    "plt.ylabel('TF-IDF score', fontsize=12)\n",
    "\n",
    "\n",
    "plt.subplot2grid((4,2),(2,0))\n",
    "sns.barplot(tfidf_top_n_per_lass[4].feature.iloc[0:9],tfidf_top_n_per_lass[4].tfidf.iloc[0:9],color=color[4])\n",
    "plt.title(\"class : Insult\",fontsize=15)\n",
    "plt.xlabel('Word', fontsize=12)\n",
    "plt.ylabel('TF-IDF score', fontsize=12)\n",
    "\n",
    "\n",
    "plt.subplot2grid((4,2),(2,1))\n",
    "sns.barplot(tfidf_top_n_per_lass[5].feature.iloc[0:9],tfidf_top_n_per_lass[5].tfidf.iloc[0:9],color=color[5])\n",
    "plt.title(\"class : Identity hate\",fontsize=15)\n",
    "plt.xlabel('Word', fontsize=12)\n",
    "plt.ylabel('TF-IDF score', fontsize=12)\n",
    "\n",
    "\n",
    "plt.subplot2grid((4,2),(3,0),colspan=2)\n",
    "sns.barplot(tfidf_top_n_per_lass[6].feature.iloc[0:19],tfidf_top_n_per_lass[6].tfidf.iloc[0:19])\n",
    "plt.title(\"class : Clean\",fontsize=15)\n",
    "plt.xlabel('Word', fontsize=12)\n",
    "plt.ylabel('TF-IDF score', fontsize=12)\n",
    "\n",
    "plt.show()"
   ]
  },
  {
   "cell_type": "code",
   "execution_count": null,
   "metadata": {
    "_cell_guid": "d7545663-00e9-4fd3-8def-986e38826133",
    "_kg_hide-input": false,
    "_uuid": "7cfe0e97eb58370ee9f43aae9a0c3739b2506224",
    "collapsed": true
   },
   "outputs": [],
   "source": [
    "\n",
    "#temp settings to min=150 to facilitate top features section to run in kernals\n",
    "#change back to min=10 to get better results\n",
    "tfv = TfidfVectorizer(min_df=150,  max_features=30000, \n",
    "            strip_accents='unicode', analyzer='word',ngram_range=(2,2),\n",
    "            use_idf=1,smooth_idf=1,sublinear_tf=1,\n",
    "            stop_words = 'english')\n",
    "\n",
    "tfv.fit(clean_corpus)\n",
    "features = np.array(tfv.get_feature_names())\n",
    "train_bigrams =  tfv.transform(clean_corpus.iloc[:train.shape[0]])\n",
    "test_bigrams = tfv.transform(clean_corpus.iloc[train.shape[0]:])\n",
    "#get top n for bigrams\n",
    "tfidf_top_n_per_lass=top_feats_by_class(train_bigrams,features)"
   ]
  },
  {
   "cell_type": "code",
   "execution_count": null,
   "metadata": {
    "_cell_guid": "3108a776-e49b-4f17-8ef1-8dd41d2f25f2",
    "_kg_hide-input": true,
    "_uuid": "bec45d270989455db1ca21b0b628e8001acb0dd7",
    "collapsed": true
   },
   "outputs": [],
   "source": [
    "plt.figure(figsize=(16,22))\n",
    "plt.suptitle(\"TF_IDF Top words per class(Bigrams)\",fontsize=20)\n",
    "gridspec.GridSpec(4,2)\n",
    "plt.subplot2grid((4,2),(0,0))\n",
    "sns.barplot(tfidf_top_n_per_lass[0].feature.iloc[0:5],tfidf_top_n_per_lass[0].tfidf.iloc[0:5],color=color[0])\n",
    "plt.title(\"class : Toxic\",fontsize=15)\n",
    "plt.xlabel('Word', fontsize=12)\n",
    "plt.ylabel('TF-IDF score', fontsize=12)\n",
    "\n",
    "plt.subplot2grid((4,2),(0,1))\n",
    "sns.barplot(tfidf_top_n_per_lass[1].feature.iloc[0:5],tfidf_top_n_per_lass[1].tfidf.iloc[0:5],color=color[1])\n",
    "plt.title(\"class : Severe toxic\",fontsize=15)\n",
    "plt.xlabel('Word', fontsize=12)\n",
    "plt.ylabel('TF-IDF score', fontsize=12)\n",
    "\n",
    "\n",
    "plt.subplot2grid((4,2),(1,0))\n",
    "sns.barplot(tfidf_top_n_per_lass[2].feature.iloc[0:5],tfidf_top_n_per_lass[2].tfidf.iloc[0:5],color=color[2])\n",
    "plt.title(\"class : Obscene\",fontsize=15)\n",
    "plt.xlabel('Word', fontsize=12)\n",
    "plt.ylabel('TF-IDF score', fontsize=12)\n",
    "\n",
    "\n",
    "plt.subplot2grid((4,2),(1,1))\n",
    "sns.barplot(tfidf_top_n_per_lass[3].feature.iloc[0:5],tfidf_top_n_per_lass[3].tfidf.iloc[0:5],color=color[3])\n",
    "plt.title(\"class : Threat\",fontsize=15)\n",
    "plt.xlabel('Word', fontsize=12)\n",
    "plt.ylabel('TF-IDF score', fontsize=12)\n",
    "\n",
    "\n",
    "plt.subplot2grid((4,2),(2,0))\n",
    "sns.barplot(tfidf_top_n_per_lass[4].feature.iloc[0:5],tfidf_top_n_per_lass[4].tfidf.iloc[0:5],color=color[4])\n",
    "plt.title(\"class : Insult\",fontsize=15)\n",
    "plt.xlabel('Word', fontsize=12)\n",
    "plt.ylabel('TF-IDF score', fontsize=12)\n",
    "\n",
    "\n",
    "plt.subplot2grid((4,2),(2,1))\n",
    "sns.barplot(tfidf_top_n_per_lass[5].feature.iloc[0:5],tfidf_top_n_per_lass[5].tfidf.iloc[0:5],color=color[5])\n",
    "plt.title(\"class : Identity hate\",fontsize=15)\n",
    "plt.xlabel('Word', fontsize=12)\n",
    "plt.ylabel('TF-IDF score', fontsize=12)\n",
    "\n",
    "\n",
    "plt.subplot2grid((4,2),(3,0),colspan=2)\n",
    "sns.barplot(tfidf_top_n_per_lass[6].feature.iloc[0:9],tfidf_top_n_per_lass[6].tfidf.iloc[0:9])\n",
    "plt.title(\"class : Clean\",fontsize=15)\n",
    "plt.xlabel('Word', fontsize=12)\n",
    "plt.ylabel('TF-IDF score', fontsize=12)\n",
    "\n",
    "plt.show()"
   ]
  },
  {
   "cell_type": "code",
   "execution_count": null,
   "metadata": {
    "_cell_guid": "370067c2-4af8-458d-bc2c-4ddae025047b",
    "_uuid": "1a505e815eb3aecf9be4fbea2c9362f57f49dfe6",
    "collapsed": true
   },
   "outputs": [],
   "source": [
    "end_time=time.time()\n",
    "print(\"total time till bigrams\",end_time-start_time)"
   ]
  },
  {
   "cell_type": "code",
   "execution_count": null,
   "metadata": {
    "_cell_guid": "9cba12bd-451a-41b4-932b-5470b84bf715",
    "_uuid": "e9d43cbeb2495307f6ffc611a70cdb365940b48f",
    "collapsed": true
   },
   "outputs": [],
   "source": [
    "tfv = TfidfVectorizer(min_df=100,  max_features=30000, \n",
    "            strip_accents='unicode', analyzer='char',ngram_range=(1,4),\n",
    "            use_idf=1,smooth_idf=1,sublinear_tf=1,\n",
    "            stop_words = 'english')\n",
    "\n",
    "tfv.fit(clean_corpus)\n",
    "features = np.array(tfv.get_feature_names())\n",
    "train_charngrams =  tfv.transform(clean_corpus.iloc[:train.shape[0]])\n",
    "test_charngrams = tfv.transform(clean_corpus.iloc[train.shape[0]:])\n",
    "end_time=time.time()\n",
    "print(\"total time till charngrams\",end_time-start_time)"
   ]
  },
  {
   "cell_type": "markdown",
   "metadata": {
    "_cell_guid": "3ac374cb-f099-4889-bfb0-8c1fd7112c18",
    "_uuid": "38bd9fcbb54b50b2e80b0ff38b60cfa09d30230b"
   },
   "source": [
    "# Baseline Model:"
   ]
  },
  {
   "cell_type": "code",
   "execution_count": null,
   "metadata": {
    "_cell_guid": "df7bf89a-3db4-47b9-92e3-e3be02a05901",
    "_uuid": "7e671416f5159306be58c0c3a31a08ca10b8a6ae",
    "collapsed": true
   },
   "outputs": [],
   "source": [
    "#Credis to AlexSanchez https://www.kaggle.com/jhoward/nb-svm-strong-linear-baseline-eda-0-052-lb#261316\n",
    "#custom NB model\n",
    "\n",
    "class NbSvmClassifier(BaseEstimator, ClassifierMixin):\n",
    "    def __init__(self, C=1.0, dual=False, n_jobs=1):\n",
    "        self.C = C\n",
    "        self.dual = dual\n",
    "        self.n_jobs = n_jobs\n",
    "\n",
    "    def predict(self, x):\n",
    "        # Verify that model has been fit\n",
    "        check_is_fitted(self, ['_r', '_clf'])\n",
    "        return self._clf.predict(x.multiply(self._r))\n",
    "\n",
    "    def predict_proba(self, x):\n",
    "        # Verify that model has been fit\n",
    "        check_is_fitted(self, ['_r', '_clf'])\n",
    "        return self._clf.predict_proba(x.multiply(self._r))\n",
    "\n",
    "    def fit(self, x, y):\n",
    "        # Check that X and y have correct shape\n",
    "        y = y.values\n",
    "        x, y = check_X_y(x, y, accept_sparse=True)\n",
    "\n",
    "        def pr(x, y_i, y):\n",
    "            p = x[y==y_i].sum(0)\n",
    "            return (p+1) / ((y==y_i).sum()+1)\n",
    "\n",
    "        self._r = sparse.csr_matrix(np.log(pr(x,1,y) / pr(x,0,y)))\n",
    "        x_nb = x.multiply(self._r)\n",
    "        self._clf = LogisticRegression(C=self.C, dual=self.dual, n_jobs=self.n_jobs).fit(x_nb, y)\n",
    "        return self\n",
    "    \n",
    "# model = NbSvmClassifier(C=4, dual=True, n_jobs=-1)\n"
   ]
  },
  {
   "cell_type": "code",
   "execution_count": null,
   "metadata": {
    "_cell_guid": "4887bc26-d793-4257-99cb-65876cf3d77a",
    "_uuid": "d780a4681339cffec2724a6a037df4baf58fd365",
    "collapsed": true
   },
   "outputs": [],
   "source": [
    "SELECTED_COLS=['count_sent', 'count_word', 'count_unique_word',\n",
    "       'count_letters', 'count_punctuations', 'count_words_upper',\n",
    "       'count_words_title', 'count_stopwords', 'mean_word_len',\n",
    "       'word_unique_percent', 'punct_percent']\n",
    "target_x=train_feats[SELECTED_COLS]\n",
    "# target_x\n",
    "\n",
    "TARGET_COLS=['toxic', 'severe_toxic', 'obscene', 'threat', 'insult', 'identity_hate']\n",
    "target_y=train_tags[TARGET_COLS]\n",
    "\n",
    "# Strat k fold due to imbalanced classes\n",
    "# split = StratifiedKFold(n_splits=2, random_state=1)\n",
    "\n",
    "#https://www.kaggle.com/yekenot/toxic-regression"
   ]
  },
  {
   "cell_type": "code",
   "execution_count": null,
   "metadata": {
    "_cell_guid": "3ba66cec-0b8d-42a0-8b29-686f9fabe176",
    "_uuid": "3b95a98b8c11cfb076d6dd314b7808e7e30723ba",
    "collapsed": true
   },
   "outputs": [],
   "source": [
    "#Just the indirect features -- meta features\n",
    "print(\"Using only Indirect features\")\n",
    "model = LogisticRegression(C=3)\n",
    "X_train, X_valid, y_train, y_valid = train_test_split(target_x, target_y, test_size=0.33, random_state=2018)\n",
    "train_loss = []\n",
    "valid_loss = []\n",
    "importance=[]\n",
    "preds_train = np.zeros((X_train.shape[0], len(y_train)))\n",
    "preds_valid = np.zeros((X_valid.shape[0], len(y_valid)))\n",
    "for i, j in enumerate(TARGET_COLS):\n",
    "    print('Class:= '+j)\n",
    "    model.fit(X_train,y_train[j])\n",
    "    preds_valid[:,i] = model.predict_proba(X_valid)[:,1]\n",
    "    preds_train[:,i] = model.predict_proba(X_train)[:,1]\n",
    "    train_loss_class=log_loss(y_train[j],preds_train[:,i])\n",
    "    valid_loss_class=log_loss(y_valid[j],preds_valid[:,i])\n",
    "    print('Trainloss=log loss:', train_loss_class)\n",
    "    print('Validloss=log loss:', valid_loss_class)\n",
    "    importance.append(model.coef_)\n",
    "    train_loss.append(train_loss_class)\n",
    "    valid_loss.append(valid_loss_class)\n",
    "print('mean column-wise log loss:Train dataset', np.mean(train_loss))\n",
    "print('mean column-wise log loss:Validation dataset', np.mean(valid_loss))\n",
    "\n",
    "end_time=time.time()\n",
    "print(\"total time till Indirect feat model\",end_time-start_time)"
   ]
  },
  {
   "cell_type": "code",
   "execution_count": null,
   "metadata": {
    "_cell_guid": "a3ebe542-b900-4de0-be95-ec0e6d234d0a",
    "_uuid": "cabc31fc15323ccfe0b24cee79c8aacc37f1bbde",
    "collapsed": true
   },
   "outputs": [],
   "source": [
    "importance[0][0]"
   ]
  },
  {
   "cell_type": "code",
   "execution_count": null,
   "metadata": {
    "_cell_guid": "2f8b15a5-fa87-450d-a2ef-79d902b345dc",
    "_uuid": "20d1a5c857e0b718f561f4da7289ffd14a06a35c",
    "collapsed": true
   },
   "outputs": [],
   "source": [
    "plt.figure(figsize=(16,22))\n",
    "plt.suptitle(\"Feature importance for indirect features\",fontsize=20)\n",
    "gridspec.GridSpec(3,2)\n",
    "plt.subplots_adjust(hspace=0.4)\n",
    "plt.subplot2grid((3,2),(0,0))\n",
    "sns.barplot(SELECTED_COLS,importance[0][0],color=color[0])\n",
    "plt.title(\"class : Toxic\",fontsize=15)\n",
    "locs, labels = plt.xticks()\n",
    "plt.setp(labels, rotation=45)\n",
    "plt.xlabel('Feature', fontsize=12)\n",
    "plt.ylabel('Importance', fontsize=12)\n",
    "\n",
    "plt.subplot2grid((3,2),(0,1))\n",
    "sns.barplot(SELECTED_COLS,importance[1][0],color=color[1])\n",
    "plt.title(\"class : Severe toxic\",fontsize=15)\n",
    "locs, labels = plt.xticks()\n",
    "plt.setp(labels, rotation=45)\n",
    "plt.xlabel('Feature', fontsize=12)\n",
    "plt.ylabel('Importance', fontsize=12)\n",
    "\n",
    "plt.subplot2grid((3,2),(1,0))\n",
    "sns.barplot(SELECTED_COLS,importance[2][0],color=color[2])\n",
    "plt.title(\"class : Obscene\",fontsize=15)\n",
    "locs, labels = plt.xticks()\n",
    "plt.setp(labels, rotation=45)\n",
    "plt.xlabel('Feature', fontsize=12)\n",
    "plt.ylabel('Importance', fontsize=12)\n",
    "\n",
    "\n",
    "\n",
    "plt.subplot2grid((3,2),(1,1))\n",
    "sns.barplot(SELECTED_COLS,importance[3][0],color=color[3])\n",
    "plt.title(\"class : Threat\",fontsize=15)\n",
    "locs, labels = plt.xticks()\n",
    "plt.setp(labels, rotation=45)\n",
    "plt.xlabel('Feature', fontsize=12)\n",
    "plt.ylabel('Importance', fontsize=12)\n",
    "\n",
    "\n",
    "plt.subplot2grid((3,2),(2,0))\n",
    "sns.barplot(SELECTED_COLS,importance[4][0],color=color[4])\n",
    "plt.title(\"class : Insult\",fontsize=15)\n",
    "locs, labels = plt.xticks()\n",
    "plt.setp(labels, rotation=45)\n",
    "plt.xlabel('Feature', fontsize=12)\n",
    "plt.ylabel('Importance', fontsize=12)\n",
    "\n",
    "\n",
    "plt.subplot2grid((3,2),(2,1))\n",
    "sns.barplot(SELECTED_COLS,importance[5][0],color=color[5])\n",
    "plt.title(\"class : Identity hate\",fontsize=15)\n",
    "locs, labels = plt.xticks()\n",
    "plt.setp(labels, rotation=45)\n",
    "plt.xlabel('Feature', fontsize=12)\n",
    "plt.ylabel('Importance', fontsize=12)\n",
    "\n",
    "\n",
    "# plt.subplot2grid((4,2),(3,0),colspan=2)\n",
    "# sns.barplot(SELECTED_COLS,importance[6][0],color=color[0])\n",
    "# plt.title(\"class : Clean\",fontsize=15)\n",
    "# locs, labels = plt.xticks()\n",
    "# plt.setp(labels, rotation=90)\n",
    "# plt.xlabel('Feature', fontsize=12)\n",
    "# plt.ylabel('Importance', fontsize=12)\n",
    "\n",
    "plt.show()"
   ]
  },
  {
   "cell_type": "code",
   "execution_count": null,
   "metadata": {
    "_cell_guid": "dc7dcb62-f94f-4434-b102-55e5154df008",
    "_uuid": "7701af32331d3f85f106a55e6edbe0725152fb96",
    "collapsed": true
   },
   "outputs": [],
   "source": [
    "from scipy.sparse import csr_matrix, hstack\n",
    "\n",
    "#Using all direct features\n",
    "print(\"Using all features except leaky ones\")\n",
    "target_x = hstack((train_bigrams,train_charngrams,train_unigrams,train_feats[SELECTED_COLS])).tocsr()\n",
    "\n",
    "\n",
    "end_time=time.time()\n",
    "print(\"total time till Sparse mat creation\",end_time-start_time)"
   ]
  },
  {
   "cell_type": "code",
   "execution_count": null,
   "metadata": {
    "_cell_guid": "b073051d-b8bb-43eb-8382-5e4d4677d1d0",
    "_uuid": "abcdafffbcb9cdfa42011777a9107d9d594949b3",
    "collapsed": true
   },
   "outputs": [],
   "source": [
    "model = NbSvmClassifier(C=4, dual=True, n_jobs=-1)\n",
    "X_train, X_valid, y_train, y_valid = train_test_split(target_x, target_y, test_size=0.33, random_state=2018)\n",
    "train_loss = []\n",
    "valid_loss = []\n",
    "preds_train = np.zeros((X_train.shape[0], len(y_train)))\n",
    "preds_valid = np.zeros((X_valid.shape[0], len(y_valid)))\n",
    "for i, j in enumerate(TARGET_COLS):\n",
    "    print('Class:= '+j)\n",
    "    model.fit(X_train,y_train[j])\n",
    "    preds_valid[:,i] = model.predict_proba(X_valid)[:,1]\n",
    "    preds_train[:,i] = model.predict_proba(X_train)[:,1]\n",
    "    train_loss_class=log_loss(y_train[j],preds_train[:,i])\n",
    "    valid_loss_class=log_loss(y_valid[j],preds_valid[:,i])\n",
    "    print('Trainloss=log loss:', train_loss_class)\n",
    "    print('Validloss=log loss:', valid_loss_class)\n",
    "    train_loss.append(train_loss_class)\n",
    "    valid_loss.append(valid_loss_class)\n",
    "print('mean column-wise log loss:Train dataset', np.mean(train_loss))\n",
    "print('mean column-wise log loss:Validation dataset', np.mean(valid_loss))\n",
    "\n",
    "\n",
    "end_time=time.time()\n",
    "print(\"total time till NB base model creation\",end_time-start_time)"
   ]
  },
  {
   "cell_type": "markdown",
   "metadata": {
    "_cell_guid": "f21bbb18-6193-4bbe-b2f4-72f0f16b67fc",
    "_uuid": "d3a38ead7ab890648b2e1338c401704e76f3eeea",
    "collapsed": true
   },
   "source": [
    "## Topic modeling:\n",
    "Due to kernal limitations(kernal timeout at 3600s), I had to continue the exploration in a seperate kernal( [Understanding the \"Topic\" of toxicity](https://www.kaggle.com/jagangupta/understanding-the-topic-of-toxicity)) to aviod a timeout. \n",
    "# Next steps:\n",
    "* Add Glove vector features\n",
    "* Explore sentiement scores\n",
    "* Add LSTM, LGBM\n",
    "\n",
    "## To be continued"
   ]
  },
  {
   "cell_type": "markdown",
   "metadata": {
    "_cell_guid": "ea348326-1575-4dc9-99b9-1df635777977",
    "_uuid": "5474c87d567d52dfda9a0acfc61e4b6d0e073575"
   },
   "source": []
  }
 ],
 "metadata": {
  "kernelspec": {
   "display_name": "Python 3",
   "language": "python",
   "name": "python3"
  },
  "language_info": {
   "codemirror_mode": {
    "name": "ipython",
    "version": 3
   },
   "file_extension": ".py",
   "mimetype": "text/x-python",
   "name": "python",
   "nbconvert_exporter": "python",
   "pygments_lexer": "ipython3",
   "version": "3.5.4"
  }
 },
 "nbformat": 4,
 "nbformat_minor": 1
}
